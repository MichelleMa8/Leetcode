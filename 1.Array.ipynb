{
 "cells": [
  {
   "cell_type": "markdown",
   "metadata": {},
   "source": [
    "# 二分法Binary Search"
   ]
  },
  {
   "cell_type": "markdown",
   "metadata": {},
   "source": [
    "## 704"
   ]
  },
  {
   "cell_type": "code",
   "execution_count": 27,
   "metadata": {},
   "outputs": [],
   "source": [
    "class Solution:\n",
    "    def search(self, nums: list([int]), target: int) -> int:\n",
    "        left=0\n",
    "        right=len(nums)-1\n",
    "        while left<=right:\n",
    "            middle=left+(right-left)//2\n",
    "            if nums[middle]==target:\n",
    "                return middle\n",
    "            if nums[middle]<target:\n",
    "                left=middle+1\n",
    "            else:\n",
    "                right=middle-1\n",
    "        return -1"
   ]
  },
  {
   "cell_type": "markdown",
   "metadata": {},
   "source": [
    "## 35"
   ]
  },
  {
   "cell_type": "code",
   "execution_count": 15,
   "metadata": {},
   "outputs": [],
   "source": [
    "class Solution:\n",
    "    def searchInsert(self, nums: list([int]), target: int) -> int:\n",
    "        left=0\n",
    "        right=len(nums)-1\n",
    "        while left<=right:\n",
    "            middle=left+(right-left)//2\n",
    "            if target==nums[middle]:\n",
    "                return middle\n",
    "            if target>nums[middle]:\n",
    "                left=middle+1\n",
    "            else:\n",
    "                right=middle-1\n",
    "        return right+1"
   ]
  },
  {
   "cell_type": "code",
   "execution_count": 16,
   "metadata": {},
   "outputs": [
    {
     "data": {
      "text/plain": [
       "3"
      ]
     },
     "execution_count": 16,
     "metadata": {},
     "output_type": "execute_result"
    }
   ],
   "source": [
    "m=Solution()\n",
    "m.searchInsert([1,2,5,8,9],8)"
   ]
  },
  {
   "cell_type": "markdown",
   "metadata": {},
   "source": [
    "## 34"
   ]
  },
  {
   "cell_type": "code",
   "execution_count": 25,
   "metadata": {},
   "outputs": [],
   "source": [
    "class Solution:\n",
    "    def searchRange(self, nums: list([int]), target: int) -> list([int]):\n",
    "        def binarySearch(nums,target,look_for_right_most):\n",
    "            left=0\n",
    "            right=len(nums)-1\n",
    "            target_index=-1\n",
    "            while left<=right:\n",
    "                mid=(right+left)//2\n",
    "                if target<nums[mid]:\n",
    "                    right=mid-1\n",
    "                elif target>nums[mid]:\n",
    "                    left=mid+1\n",
    "                else:\n",
    "                    target_index=mid\n",
    "                    if look_for_right_most:\n",
    "                        left=mid+1\n",
    "                    else:\n",
    "                        right=mid-1\n",
    "            return target_index\n",
    "        left=binarySearch(nums,target,False)\n",
    "        right=binarySearch(nums,target,True)   \n",
    "        return [left,right]"
   ]
  },
  {
   "cell_type": "code",
   "execution_count": 26,
   "metadata": {},
   "outputs": [
    {
     "data": {
      "text/plain": [
       "[2, 6]"
      ]
     },
     "execution_count": 26,
     "metadata": {},
     "output_type": "execute_result"
    }
   ],
   "source": [
    "m=Solution()\n",
    "m.searchRange([1,2,8,8,8,8,8,9],target=8)"
   ]
  },
  {
   "cell_type": "markdown",
   "metadata": {},
   "source": [
    "## 69"
   ]
  },
  {
   "cell_type": "code",
   "execution_count": 4,
   "metadata": {},
   "outputs": [],
   "source": [
    "#解法1\n",
    "class Solution:\n",
    "    def mySqrt(self, x: int) -> int:\n",
    "        left=0\n",
    "        right=x\n",
    "        while left<=right:\n",
    "            m=(left+right)//2\n",
    "            if m**2>x:\n",
    "                right=m-1\n",
    "            else:\n",
    "                left=m+1\n",
    "        return right"
   ]
  },
  {
   "cell_type": "code",
   "execution_count": 5,
   "metadata": {},
   "outputs": [
    {
     "data": {
      "text/plain": [
       "4"
      ]
     },
     "execution_count": 5,
     "metadata": {},
     "output_type": "execute_result"
    }
   ],
   "source": [
    "m=Solution()\n",
    "m.mySqrt(20)"
   ]
  },
  {
   "cell_type": "markdown",
   "metadata": {},
   "source": [
    "## 367"
   ]
  },
  {
   "cell_type": "code",
   "execution_count": 13,
   "metadata": {},
   "outputs": [],
   "source": [
    "class Solution:\n",
    "    def isPerfectSquare(self, num: int) -> bool:\n",
    "        left=0\n",
    "        right=num\n",
    "        while left<=right:\n",
    "            m=(left+right)//2\n",
    "            if m**2<num:\n",
    "                left=m+1\n",
    "            else:\n",
    "                right=m-1\n",
    "        if left**2==num:\n",
    "            return True\n",
    "        else:\n",
    "            return False"
   ]
  },
  {
   "cell_type": "code",
   "execution_count": 14,
   "metadata": {},
   "outputs": [
    {
     "data": {
      "text/plain": [
       "True"
      ]
     },
     "execution_count": 14,
     "metadata": {},
     "output_type": "execute_result"
    }
   ],
   "source": [
    "m=Solution()\n",
    "m.isPerfectSquare(16)"
   ]
  },
  {
   "cell_type": "markdown",
   "metadata": {},
   "source": [
    "## 374"
   ]
  },
  {
   "cell_type": "markdown",
   "metadata": {},
   "source": [
    "# 双指针（two pointer）"
   ]
  },
  {
   "cell_type": "markdown",
   "metadata": {},
   "source": [
    "## 27 移除元素"
   ]
  },
  {
   "cell_type": "code",
   "execution_count": 13,
   "metadata": {},
   "outputs": [],
   "source": [
    "class Solution:\n",
    "    def removeElement(self, nums: list([int]), val: int) -> int:\n",
    "        slowindex=0\n",
    "        for fastindex in range(len(nums)):\n",
    "            if nums[fastindex]!=val:\n",
    "                nums[slowindex]=nums[fastindex]\n",
    "                slowindex+=1\n",
    "        return slowindex"
   ]
  },
  {
   "cell_type": "code",
   "execution_count": 14,
   "metadata": {},
   "outputs": [
    {
     "data": {
      "text/plain": [
       "4"
      ]
     },
     "execution_count": 14,
     "metadata": {},
     "output_type": "execute_result"
    }
   ],
   "source": [
    "m=Solution()\n",
    "m.removeElement([1,2,4,3,4,5,4],4)"
   ]
  },
  {
   "cell_type": "markdown",
   "metadata": {},
   "source": [
    "## 26 删除排序数组中的重复项"
   ]
  },
  {
   "cell_type": "code",
   "execution_count": 24,
   "metadata": {},
   "outputs": [],
   "source": [
    "class Solution:\n",
    "    def removeDuplicates(self, nums: list([int])) -> int:\n",
    "        slowindex=0 \n",
    "        for fastindex in range(1,len(nums)):\n",
    "            if nums[fastindex]!=nums[fastindex-1]:\n",
    "                nums[slowindex]=nums[fastindex-1]\n",
    "                slowindex+=1\n",
    "        return slowindex"
   ]
  },
  {
   "cell_type": "code",
   "execution_count": 25,
   "metadata": {},
   "outputs": [
    {
     "data": {
      "text/plain": [
       "3"
      ]
     },
     "execution_count": 25,
     "metadata": {},
     "output_type": "execute_result"
    }
   ],
   "source": [
    "m=Solution()\n",
    "m.removeDuplicates([1,2,2,3,4,4,4])"
   ]
  },
  {
   "cell_type": "markdown",
   "metadata": {},
   "source": [
    "## 283 移动零"
   ]
  },
  {
   "cell_type": "markdown",
   "metadata": {},
   "source": [
    "## 844 比较含退格的字符串"
   ]
  },
  {
   "cell_type": "code",
   "execution_count": 6,
   "metadata": {},
   "outputs": [],
   "source": [
    "class Solution:\n",
    "    def backspaceCompare(self, s: str, t: str) -> bool:\n",
    "        def build(S):\n",
    "            ans=[]\n",
    "            for n in S:\n",
    "                if n != '#':\n",
    "                    ans.append(n)\n",
    "                if (n == '#') and (len(ans)>0):\n",
    "                    ans.pop()\n",
    "            return \"\".join(ans)\n",
    "        return build(s)==build(t)             "
   ]
  },
  {
   "cell_type": "markdown",
   "metadata": {},
   "source": [
    "## 977 有序数组的平方"
   ]
  },
  {
   "cell_type": "code",
   "execution_count": 8,
   "metadata": {},
   "outputs": [],
   "source": [
    "class Solution:\n",
    "    def sortedSquares(self, nums: list([int])) -> list([int]):\n",
    "        l=len(nums)\n",
    "        leftindex=0\n",
    "        rightindex=l-1\n",
    "        ans=[0]*l\n",
    "        cur=l-1\n",
    "        while leftindex<=rightindex:\n",
    "            if abs(nums[leftindex])>abs(nums[rightindex]):\n",
    "                ans[cur]=nums[leftindex]**2\n",
    "                leftindex+=1\n",
    "            else:\n",
    "                ans[cur]=nums[rightindex]**2\n",
    "                rightindex-=1\n",
    "            cur-=1\n",
    "        return ans \n",
    "        "
   ]
  },
  {
   "cell_type": "markdown",
   "metadata": {},
   "source": [
    "# 滑动窗口（sliding window）"
   ]
  },
  {
   "cell_type": "markdown",
   "metadata": {},
   "source": [
    "## 209 长度最小的子数组"
   ]
  },
  {
   "cell_type": "code",
   "execution_count": 3,
   "metadata": {},
   "outputs": [],
   "source": [
    "class Solution:\n",
    "    def minSubArrayLen(self, target: int, nums: list([int])) -> int:\n",
    "        min_len=float('INF')\n",
    "        left=0\n",
    "        Sum=0\n",
    "        for right in range(len(nums)):\n",
    "            Sum+=nums[right]\n",
    "            while Sum>=target:\n",
    "                min_len=min(min_len,right-left+1)\n",
    "                Sum-=nums[left]\n",
    "                left+=1\n",
    "        return 0 if min_len==float('INF') else min_len"
   ]
  },
  {
   "cell_type": "markdown",
   "metadata": {},
   "source": [
    "## 904水果成篮"
   ]
  },
  {
   "cell_type": "code",
   "execution_count": 5,
   "metadata": {},
   "outputs": [],
   "source": [
    "class Solution:\n",
    "    def totalFruit(self, fruits: list([int])) -> int:\n",
    "        max_len=float('-inf')\n",
    "        left=0\n",
    "        adict={}\n",
    "        for right in range(len(fruits)):\n",
    "            if fruits[right] not in adict:\n",
    "                adict[fruits[right]]=1\n",
    "            else:\n",
    "                adict[fruits[right]]+=1\n",
    "            while len(adict)>2:\n",
    "                adict[fruits[left]]-=1\n",
    "                if adict[fruits[left]]==0:\n",
    "                    del adict[fruits[left]]\n",
    "                left+=1\n",
    "            max_len=max(max_len,right-left+1)\n",
    "        return 0 if max_len==float('-inf') else max_len"
   ]
  },
  {
   "cell_type": "markdown",
   "metadata": {},
   "source": [
    "## 76最小覆盖子串"
   ]
  },
  {
   "cell_type": "code",
   "execution_count": 14,
   "metadata": {},
   "outputs": [],
   "source": [
    "class Solution:\n",
    "    def minWindow(self, s: str, t: str) -> str:\n",
    "        template_dict={}\n",
    "        for i in t:\n",
    "            if i not in template_dict:\n",
    "                template_dict[i]=1\n",
    "            else:\n",
    "                template_dict[i]+=1\n",
    "        \n",
    "        window_dict={}\n",
    "        for k in template_dict:\n",
    "            if k not in window_dict:\n",
    "                window_dict[k]=0\n",
    "        \n",
    "        def isContained(cur_dict,tmp_dict):\n",
    "            for key in tmp_dict:\n",
    "                if cur_dict[key]<tmp_dict[key]:\n",
    "                    return False\n",
    "            return True\n",
    "            \n",
    "        left=0\n",
    "        min_len=float('inf')\n",
    "        res=''\n",
    "        for right in range(len(s)):\n",
    "            if s[right] in template_dict:\n",
    "                window_dict[s[right]]+=1\n",
    "            while isContained(window_dict,template_dict):\n",
    "                if s[left] in window_dict:\n",
    "                    window_dict[s[left]]-=1\n",
    "                if min_len>right-left+1:\n",
    "                    min_len=right-left+1\n",
    "                    res=s[left:right+1]\n",
    "                left+=1\n",
    "        return res"
   ]
  },
  {
   "cell_type": "code",
   "execution_count": 6,
   "metadata": {},
   "outputs": [
    {
     "name": "stdout",
     "output_type": "stream",
     "text": [
      "[1, 3, 4, 7, 9, 10, 13, 15, 19, 21, 22, 27, 28, 31, 39, 40, 43, 45, 46, 55, 57, 58, 63, 64, 67, 79, 81, 82, 85, 87, 91, 93, 94, 111, 115, 117, 118, 121, 127, 129, 130, 135, 136, 139, 163, 165, 166, 171, 172, 175, 189, 190, 193, 202, 243, 244, 247, 256, 283, 364]\n"
     ]
    }
   ],
   "source": [
    "u=[1]\n",
    "p=0\n",
    "n=10\n",
    "for i in range(n):\n",
    "    p=2**i-1\n",
    "    for j in u[p:]:\n",
    "        a=2*j+1\n",
    "        b=3*j+1\n",
    "        u.append(a)\n",
    "        u.append(b)\n",
    "u=list(set(u))\n",
    "u.sort()\n",
    "print(u)"
   ]
  },
  {
   "cell_type": "markdown",
   "metadata": {},
   "source": [
    "# Spiral Matrix 螺旋矩阵"
   ]
  },
  {
   "cell_type": "markdown",
   "metadata": {},
   "source": [
    "## 59"
   ]
  },
  {
   "cell_type": "code",
   "execution_count": 5,
   "metadata": {},
   "outputs": [],
   "source": [
    "class Solution:\n",
    "    def generateMatrix(self, n: int) -> list(list([int])):\n",
    "        matrix = [[0]*n for _ in range(n)]\n",
    "        left, right, up, down=0, n-1, 0, n-1\n",
    "        num=1\n",
    "        while left <= right and up <= down:\n",
    "            for i in range(left, right+1):\n",
    "                matrix[up][i] = num\n",
    "                num += 1\n",
    "            up += 1\n",
    "            for i in range(up, down+1):\n",
    "                matrix[i][right] =num\n",
    "                num += 1\n",
    "            right -= 1\n",
    "            for i in range(right, left-1, -1):\n",
    "                matrix[down][i] = num\n",
    "                num += 1\n",
    "            down -= 1\n",
    "            for i in range(down, up-1, -1):\n",
    "                matrix[i][left] = num\n",
    "                num += 1\n",
    "            left += 1\n",
    "        return matrix"
   ]
  },
  {
   "cell_type": "markdown",
   "metadata": {},
   "source": [
    "## 54"
   ]
  },
  {
   "cell_type": "code",
   "execution_count": 8,
   "metadata": {},
   "outputs": [],
   "source": [
    "class Solution:\n",
    "    def spiralOrder(self, matrix: list(list([int]))) -> list([int]):\n",
    "        left,up = 0,0\n",
    "        col = len(matrix[0])\n",
    "        row = len(matrix)\n",
    "        right = col - 1\n",
    "        down = row - 1\n",
    "        ls=[]\n",
    "        while left <= right and up <= down:\n",
    "            for i in range(left, right+1):\n",
    "                ls.append(matrix[up][i])\n",
    "            up += 1\n",
    "            for i in range(up, down+1):\n",
    "                ls.append(matrix[i][right])\n",
    "            right -= 1\n",
    "            if len(ls) >= row * col:\n",
    "                break\n",
    "            for i in range(right, left-1, -1):\n",
    "                ls.append(matrix[down][i])\n",
    "            down -= 1\n",
    "            for i in range(down, up-1, -1):\n",
    "                ls.append(matrix[i][left])\n",
    "            left += 1\n",
    "        return ls"
   ]
  },
  {
   "cell_type": "code",
   "execution_count": 10,
   "metadata": {},
   "outputs": [
    {
     "data": {
      "text/plain": [
       "[1, 2, 3, 6, 5, 4]"
      ]
     },
     "execution_count": 10,
     "metadata": {},
     "output_type": "execute_result"
    }
   ],
   "source": [
    "m=Solution()\n",
    "m.spiralOrder(matrix=[[1,2,3],[4,5,6]])"
   ]
  },
  {
   "cell_type": "code",
   "execution_count": null,
   "metadata": {},
   "outputs": [],
   "source": []
  }
 ],
 "metadata": {
  "kernelspec": {
   "display_name": "Python 3",
   "language": "python",
   "name": "python3"
  },
  "language_info": {
   "codemirror_mode": {
    "name": "ipython",
    "version": 3
   },
   "file_extension": ".py",
   "mimetype": "text/x-python",
   "name": "python",
   "nbconvert_exporter": "python",
   "pygments_lexer": "ipython3",
   "version": "3.7.0"
  },
  "toc": {
   "base_numbering": 1,
   "nav_menu": {},
   "number_sections": true,
   "sideBar": true,
   "skip_h1_title": false,
   "title_cell": "Table of Contents",
   "title_sidebar": "Contents",
   "toc_cell": false,
   "toc_position": {
    "height": "calc(100% - 180px)",
    "left": "10px",
    "top": "150px",
    "width": "165px"
   },
   "toc_section_display": true,
   "toc_window_display": true
  }
 },
 "nbformat": 4,
 "nbformat_minor": 2
}
