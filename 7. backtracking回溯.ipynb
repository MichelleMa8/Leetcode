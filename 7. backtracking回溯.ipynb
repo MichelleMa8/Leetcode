{
 "cells": [
  {
   "cell_type": "markdown",
   "metadata": {},
   "source": [
    "本质是一种搜索法，是递归的副产品。\n",
    "\n",
    "回溯法解决的问题都可以抽象为树形结构。因为回溯法解决的都是在集合中递归查找子集，集合的大小就构成了树的宽度，递归的深度，都构成的树的深度。\n",
    "\n",
    "for循环可以理解是横向遍历，backtracking（递归）就是纵向遍历"
   ]
  },
  {
   "cell_type": "markdown",
   "metadata": {},
   "source": [
    "# 组合"
   ]
  },
  {
   "cell_type": "markdown",
   "metadata": {},
   "source": [
    "## 77.Combinations组合"
   ]
  },
  {
   "cell_type": "markdown",
   "metadata": {},
   "source": [
    "Given two integers n and k, return all possible combinations of k numbers out of the range [1, n].\n",
    "\n",
    "You may return the answer in any order.\n",
    "\n",
    " \n",
    "\n",
    "Example 1:\n",
    "\n",
    "Input: n = 4, k = 2\n",
    "Output:\n",
    "[\n",
    "  [2,4],\n",
    "  [3,4],\n",
    "  [2,3],\n",
    "  [1,2],\n",
    "  [1,3],\n",
    "  [1,4],\n",
    "]\n",
    "Example 2:\n",
    "\n",
    "Input: n = 1, k = 1\n",
    "Output: [[1]]"
   ]
  },
  {
   "cell_type": "code",
   "execution_count": 3,
   "metadata": {},
   "outputs": [],
   "source": [
    "class Solution:\n",
    "    def combine(self, n: int, k: int) -> list:\n",
    "        ans = [] #用来存放符合条件的结果集合\n",
    "        path = [] #用来存放符合条件的结果\n",
    "        \n",
    "        def backtracking(n, k, start):\n",
    "            if len(path) == k:\n",
    "                #使用[:]的原因：\n",
    "                #因为在python里面list是对象，函数参数是直接传的对象，所以直接传path的话后面path的内容是会被修改的\n",
    "                ans.append(path[:])\n",
    "                return\n",
    "            \n",
    "            for i in range(start, n + 1):\n",
    "                path.append(i) #处理节点\n",
    "                backtracking(n, k, i + 1) #递归\n",
    "                path.pop() #回溯，撤销处理的节点\n",
    "            \n",
    "        backtracking(n, k, 1)\n",
    "        return ans"
   ]
  },
  {
   "cell_type": "markdown",
   "metadata": {},
   "source": [
    "## 216.组合总和IIICombination Sum III"
   ]
  },
  {
   "cell_type": "markdown",
   "metadata": {},
   "source": [
    "Find all valid combinations of k numbers that sum up to n such that the following conditions are true:\n",
    "\n",
    "Only numbers 1 through 9 are used.\n",
    "Each number is used at most once.\n",
    "Return a list of all possible valid combinations. The list must not contain the same combination twice, and the combinations may be returned in any order.\n",
    "\n",
    " \n",
    "\n",
    "Example 1:\n",
    "\n",
    "Input: k = 3, n = 7\n",
    "Output: [[1,2,4]]\n",
    "Explanation:\n",
    "1 + 2 + 4 = 7\n",
    "There are no other valid combinations.\n",
    "Example 2:\n",
    "\n",
    "Input: k = 3, n = 9\n",
    "Output: [[1,2,6],[1,3,5],[2,3,4]]\n",
    "Explanation:\n",
    "1 + 2 + 6 = 9\n",
    "1 + 3 + 5 = 9\n",
    "2 + 3 + 4 = 9\n",
    "There are no other valid combinations.\n",
    "Example 3:\n",
    "\n",
    "Input: k = 4, n = 1\n",
    "Output: []\n",
    "Explanation: There are no valid combinations.\n",
    "Using 4 different numbers in the range [1,9], the smallest sum we can get is 1+2+3+4 = 10 and since 10 > 1, there are no valid combination."
   ]
  },
  {
   "cell_type": "code",
   "execution_count": 2,
   "metadata": {},
   "outputs": [],
   "source": [
    "class Solution:\n",
    "    def combinationSum3(self, k: int, n: int) -> list:\n",
    "        ans = []\n",
    "        path = []\n",
    "        \n",
    "        def backtracking(k, n, start):\n",
    "            if sum(path) == n and len(path) == k:\n",
    "                ans.append(path[:])\n",
    "                return\n",
    "            for i in range(start, 10):\n",
    "                path.append(i)\n",
    "                backtracking(k, n, i+1)\n",
    "                path.pop()\n",
    "        \n",
    "        backtracking(k, n, 1)\n",
    "        return ans"
   ]
  },
  {
   "cell_type": "markdown",
   "metadata": {},
   "source": [
    "## 17.Letter Combinations of a Phone Number电话号码的字母组合"
   ]
  },
  {
   "cell_type": "markdown",
   "metadata": {},
   "source": [
    "Given a string containing digits from 2-9 inclusive, return all possible letter combinations that the number could represent. Return the answer in any order.\n",
    "\n",
    "A mapping of digit to letters (just like on the telephone buttons) is given below. Note that 1 does not map to any letters.\n",
    "\n",
    "\n",
    "\n",
    "\n",
    "Example 1:\n",
    "\n",
    "Input: digits = \"23\"\n",
    "Output: [\"ad\",\"ae\",\"af\",\"bd\",\"be\",\"bf\",\"cd\",\"ce\",\"cf\"]\n",
    "Example 2:\n",
    "\n",
    "Input: digits = \"\"\n",
    "Output: []\n",
    "Example 3:\n",
    "\n",
    "Input: digits = \"2\"\n",
    "Output: [\"a\",\"b\",\"c\"]"
   ]
  },
  {
   "cell_type": "code",
   "execution_count": 7,
   "metadata": {},
   "outputs": [],
   "source": [
    "class Solution:\n",
    "    def letterCombinations(self, digits: str) -> list:\n",
    "        if len(digits) == 0: return []\n",
    "        \n",
    "        lettermap = [\"\", \"\", \"abc\", \"def\", \"ghi\", \"jkl\", \"mno\", \"pqrs\", \"tuv\", \"wxyz\"]\n",
    "        \n",
    "        ans = []\n",
    "        s = \"\"\n",
    "        \n",
    "        def backtracking(digits, index, s):\n",
    "            #或者是if index == len(digits):\n",
    "            if len(s) == len(digits):\n",
    "                return ans.append(s)\n",
    "            \n",
    "            digit = int(digits[index]) #将index指向的数字转换为int\n",
    "            letters = lettermap[digit]\n",
    "            for n in letters:\n",
    "                s += n\n",
    "                backtracking(digits, index + 1, s)\n",
    "                s = s[:-1]\n",
    "        \n",
    "        backtracking(digits, 0, s)\n",
    "        return ans"
   ]
  },
  {
   "cell_type": "markdown",
   "metadata": {},
   "source": [
    "## 39. Combination Sum组合总和"
   ]
  },
  {
   "cell_type": "markdown",
   "metadata": {},
   "source": [
    "Given an array of distinct integers candidates and a target integer target, return a list of all unique combinations of candidates where the chosen numbers sum to target. You may return the combinations in any order.\n",
    "\n",
    "The same number may be chosen from candidates an unlimited number of times. Two combinations are unique if the frequency of at least one of the chosen numbers is different.\n",
    "\n",
    "It is guaranteed that the number of unique combinations that sum up to target is less than 150 combinations for the given input.\n",
    "\n",
    " \n",
    "\n",
    "Example 1:\n",
    "\n",
    "Input: candidates = [2,3,6,7], target = 7\n",
    "Output: [[2,2,3],[7]]\n",
    "Explanation:\n",
    "2 and 3 are candidates, and 2 + 2 + 3 = 7. Note that 2 can be used multiple times.\n",
    "7 is a candidate, and 7 = 7.\n",
    "These are the only two combinations.\n",
    "Example 2:\n",
    "\n",
    "Input: candidates = [2,3,5], target = 8\n",
    "Output: [[2,2,2,2],[2,3,3],[3,5]]\n",
    "Example 3:\n",
    "\n",
    "Input: candidates = [2], target = 1\n",
    "Output: []"
   ]
  },
  {
   "cell_type": "code",
   "execution_count": 11,
   "metadata": {},
   "outputs": [],
   "source": [
    "class Solution:\n",
    "    def combinationSum(self, candidates: list, target: int) -> list:\n",
    "        ans = []\n",
    "        path = []\n",
    "        \n",
    "        def backtracking(candidates, target, start):\n",
    "            if sum(path) == target:\n",
    "                ans.append(path[:])\n",
    "                return\n",
    "            elif sum(path) > target:\n",
    "                return\n",
    "            else:\n",
    "                for i in range(start, len(candidates)):\n",
    "                    #剪枝\n",
    "                    if sum(path) > target: return\n",
    "                    else:\n",
    "                        path.append(int(candidates[i]))\n",
    "                        backtracking(candidates, target, i)\n",
    "                        path.pop()\n",
    "        \n",
    "        #因为剪枝的语句，所以需要排序\n",
    "        candidates = sorted(candidates)\n",
    "        backtracking(candidates, target, 0)\n",
    "        return ans"
   ]
  },
  {
   "cell_type": "markdown",
   "metadata": {},
   "source": [
    "## 40.Combination Sum II组合总和II （需要去重的）"
   ]
  },
  {
   "cell_type": "markdown",
   "metadata": {},
   "source": [
    "Given a collection of candidate numbers (candidates) and a target number (target), find all unique combinations in candidates where the candidate numbers sum to target.\n",
    "\n",
    "Each number in candidates may only be used once in the combination.\n",
    "\n",
    "Note: The solution set must not contain duplicate combinations.\n",
    "\n",
    " \n",
    "\n",
    "Example 1:\n",
    "\n",
    "Input: candidates = [10,1,2,7,6,1,5], target = 8\n",
    "Output: \n",
    "[\n",
    "[1,1,6],\n",
    "[1,2,5],\n",
    "[1,7],\n",
    "[2,6]\n",
    "]\n",
    "Example 2:\n",
    "\n",
    "Input: candidates = [2,5,2,1,2], target = 5\n",
    "Output: \n",
    "[\n",
    "[1,2,2],\n",
    "[5]\n",
    "]"
   ]
  },
  {
   "cell_type": "code",
   "execution_count": 12,
   "metadata": {},
   "outputs": [],
   "source": [
    "#此题难点在于candidates中可能存在重复数，而要求solution中不能存在相同combination\n",
    "class Solution:\n",
    "    def combinationSum2(self, candidates: list, target: int) -> list:\n",
    "        ans = []\n",
    "        path = []\n",
    "\n",
    "        \n",
    "        def backtracking(candidates, target, start):\n",
    "            if sum(path) == target:\n",
    "                ans.append(path[:])\n",
    "                return\n",
    "            elif sum(path) > target:\n",
    "                return\n",
    "            else:\n",
    "                for i in range(start, len(candidates)):\n",
    "                    #使用i和start的比较和candidates[i]和[i-1]来防止for横向添加重复的数\n",
    "                    if i > start and candidates[i] == candidates[i - 1]: continue\n",
    "                    else:\n",
    "                        #剪枝\n",
    "                        if sum(path) > target: return\n",
    "                        else:\n",
    "                            path.append(int(candidates[i]))\n",
    "                            backtracking(candidates, target, i + 1)\n",
    "                            path.pop()\n",
    "        \n",
    "        candidates = sorted(candidates)\n",
    "        backtracking(candidates, target, 0)\n",
    "        return ans"
   ]
  },
  {
   "cell_type": "code",
   "execution_count": 13,
   "metadata": {},
   "outputs": [],
   "source": [
    "class Solution:\n",
    "    def combinationSum2(self, candidates: list, target: int) -> list:\n",
    "        ans = []\n",
    "        path = []\n",
    "\n",
    "        \n",
    "        def backtracking(candidates, target, start, Sum):\n",
    "            if Sum == target:\n",
    "                ans.append(path[:])\n",
    "                return\n",
    "            elif sum(path) > target:\n",
    "                return\n",
    "            else:\n",
    "                for i in range(start, len(candidates)):\n",
    "                    if i > start and candidates[i] == candidates[i - 1]: continue\n",
    "                    else:\n",
    "                        #剪枝\n",
    "                        if sum(path) > target: return\n",
    "                        else:\n",
    "                            #将sum写成一个变量\n",
    "                            Sum += int(candidates[i])\n",
    "                            path.append(int(candidates[i]))\n",
    "                            backtracking(candidates, target, i + 1, Sum)\n",
    "                            #sum也需要回溯\n",
    "                            Sum -= int(candidates[i])\n",
    "                            path.pop()\n",
    "        \n",
    "        candidates = sorted(candidates)\n",
    "        backtracking(candidates, target, 0, 0)\n",
    "        return ans"
   ]
  },
  {
   "cell_type": "markdown",
   "metadata": {},
   "source": [
    "# 分割"
   ]
  },
  {
   "cell_type": "markdown",
   "metadata": {},
   "source": [
    "用start模拟切割线，start是上一层已经确定了的分割线，i是这一层试图寻找的新分割线"
   ]
  },
  {
   "cell_type": "markdown",
   "metadata": {},
   "source": [
    "## 131.Palindrome Partitioning分割回文串"
   ]
  },
  {
   "cell_type": "markdown",
   "metadata": {},
   "source": [
    "Given a string s, partition s such that every substring of the partition is a palindrome. Return all possible palindrome partitioning of s.\n",
    "\n",
    "A palindrome string is a string that reads the same backward as forward.\n",
    "\n",
    " \n",
    "\n",
    "Example 1:\n",
    "\n",
    "Input: s = \"aab\"\n",
    "Output: [[\"a\",\"a\",\"b\"],[\"aa\",\"b\"]]\n",
    "Example 2:\n",
    "\n",
    "Input: s = \"a\"\n",
    "Output: [[\"a\"]]"
   ]
  },
  {
   "cell_type": "code",
   "execution_count": 15,
   "metadata": {},
   "outputs": [],
   "source": [
    "class Solution:\n",
    "    def partition(self, s: str) -> list:\n",
    "        ans = []\n",
    "        path = []\n",
    "        \n",
    "        #判断是否是回文也可以直接用return n == n[::-1]\n",
    "        def isPalindrome(n):\n",
    "            i, j = 0, len(n) - 1\n",
    "            while i < j:\n",
    "                if n[i] != n[j]:\n",
    "                    return False\n",
    "                i += 1\n",
    "                j -= 1\n",
    "            return True\n",
    "            \n",
    "        def backtracking(s, start):\n",
    "            #start其实就是切割线的位置\n",
    "            if start == len(s):\n",
    "                #将判断是否回文放到单层搜索的代码里，如果不是回文，就不会进行下一层的递归\n",
    "                #所以到这里的path都是符合回文的\n",
    "                ans.append(path[:])\n",
    "                return \n",
    "            \n",
    "            for i in range(start, len(s)):\n",
    "                if isPalindrome(s[start:i+1]):\n",
    "                    path.append(s[start:i+1])\n",
    "                    \n",
    "                else:\n",
    "                    continue\n",
    "                backtracking(s, i + 1)\n",
    "                path.pop()\n",
    "        \n",
    "        backtracking(s, 0)\n",
    "        return ans     "
   ]
  },
  {
   "cell_type": "markdown",
   "metadata": {},
   "source": [
    "## 93.Restore IP Addresses复原IP地址"
   ]
  },
  {
   "cell_type": "markdown",
   "metadata": {},
   "source": [
    "A valid IP address consists of exactly four integers separated by single dots. Each integer is between 0 and 255 (inclusive) and cannot have leading zeros.\n",
    "\n",
    "For example, \"0.1.2.201\" and \"192.168.1.1\" are valid IP addresses, but \"0.011.255.245\", \"192.168.1.312\" and \"192.168@1.1\" are invalid IP addresses.\n",
    "Given a string s containing only digits, return all possible valid IP addresses that can be formed by inserting dots into s. You are not allowed to reorder or remove any digits in s. You may return the valid IP addresses in any order.\n",
    "\n",
    " \n",
    "\n",
    "Example 1:\n",
    "\n",
    "Input: s = \"25525511135\"\n",
    "Output: [\"255.255.11.135\",\"255.255.111.35\"]\n",
    "Example 2:\n",
    "\n",
    "Input: s = \"0000\"\n",
    "Output: [\"0.0.0.0\"]\n",
    "Example 3:\n",
    "\n",
    "Input: s = \"101023\"\n",
    "Output: [\"1.0.10.23\",\"1.0.102.3\",\"10.1.0.23\",\"10.10.2.3\",\"101.0.2.3\"]"
   ]
  },
  {
   "cell_type": "code",
   "execution_count": 71,
   "metadata": {},
   "outputs": [],
   "source": [
    "class Solution:\n",
    "    def restoreIpAddresses(self, s: str) -> list:\n",
    "        ans = []\n",
    "        path = []\n",
    "        \n",
    "        def isValid(s):\n",
    "            if not s:\n",
    "                return False\n",
    "            elif not 0 <= int(s) <= 255:\n",
    "                return False\n",
    "            elif not s == '0' and not s.lstrip('0') == s:\n",
    "                return False\n",
    "            else:\n",
    "                return True\n",
    "            \n",
    "        \n",
    "        def backtracking(s, start):\n",
    "            if len(path) == 4:\n",
    "                #别忘记还要判断是否完全分割整个s\n",
    "                if start == len(s):\n",
    "                    ans.append('.'.join(path[:]))\n",
    "                    return\n",
    "            for i in range(start, min(start + 3, len(s))):\n",
    "                if isValid(s[start: i + 1]):\n",
    "                    path.append(s[start: i + 1])\n",
    "                else:\n",
    "                    continue\n",
    "                backtracking(s, i + 1)\n",
    "                path.pop()\n",
    "        backtracking(s, 0)\n",
    "        return ans"
   ]
  },
  {
   "cell_type": "code",
   "execution_count": 72,
   "metadata": {},
   "outputs": [
    {
     "data": {
      "text/plain": [
       "['255.255.11.135', '255.255.111.35']"
      ]
     },
     "execution_count": 72,
     "metadata": {},
     "output_type": "execute_result"
    }
   ],
   "source": [
    "m=Solution()\n",
    "m.restoreIpAddresses(\"25525511135\")"
   ]
  },
  {
   "cell_type": "markdown",
   "metadata": {},
   "source": [
    "# 子集"
   ]
  },
  {
   "cell_type": "markdown",
   "metadata": {},
   "source": [
    "子集问题不是只返回叶子节点的值，每个节点的值都需要返回"
   ]
  },
  {
   "cell_type": "markdown",
   "metadata": {},
   "source": [
    "## 78.Subsets子集"
   ]
  },
  {
   "cell_type": "markdown",
   "metadata": {},
   "source": [
    "Given an integer array nums of unique elements, return all possible subsets (the power set).\n",
    "\n",
    "The solution set must not contain duplicate subsets. Return the solution in any order.\n",
    "\n",
    " \n",
    "\n",
    "Example 1:\n",
    "\n",
    "Input: nums = [1,2,3]\n",
    "Output: [[],[1],[2],[1,2],[3],[1,3],[2,3],[1,2,3]]\n",
    "Example 2:\n",
    "\n",
    "Input: nums = [0]\n",
    "Output: [[],[0]]"
   ]
  },
  {
   "cell_type": "code",
   "execution_count": 73,
   "metadata": {},
   "outputs": [],
   "source": [
    "class Solution:\n",
    "    def subsets(self, nums: list) -> list:\n",
    "        ans = ['']\n",
    "        path = []\n",
    "        \n",
    "        def backtracking(nums, start):\n",
    "            for i in range(start, len(nums)):\n",
    "                path.append(nums[i])\n",
    "                ans.append(path[:])\n",
    "                backtracking(nums, i + 1)\n",
    "                path.pop()\n",
    "        \n",
    "        backtracking(nums, 0)\n",
    "        return ans"
   ]
  },
  {
   "cell_type": "markdown",
   "metadata": {},
   "source": [
    "## 90. Subsets II子集II（需要去重的）"
   ]
  },
  {
   "cell_type": "markdown",
   "metadata": {},
   "source": [
    "Given an integer array nums that may contain duplicates, return all possible subsets (the power set).\n",
    "\n",
    "The solution set must not contain duplicate subsets. Return the solution in any order.\n",
    "\n",
    " \n",
    "\n",
    "Example 1:\n",
    "\n",
    "Input: nums = [1,2,2]\n",
    "Output: [[],[1],[1,2],[1,2,2],[2],[2,2]]\n",
    "Example 2:\n",
    "\n",
    "Input: nums = [0]\n",
    "Output: [[],[0]]"
   ]
  },
  {
   "cell_type": "code",
   "execution_count": 75,
   "metadata": {},
   "outputs": [],
   "source": [
    "class Solution:\n",
    "    def subsetsWithDup(self, nums: list) -> list:\n",
    "        ans = []\n",
    "        path = []\n",
    "        \n",
    "        def backtracking(nums, start):\n",
    "            #也可以将ans.append()放到for循环的前边，这样ans初始化就不用写成[\"\"]\n",
    "            ans.append(path[:])\n",
    "            for i in range(start, len(nums)):\n",
    "                if i > start and nums[i] == nums[i - 1]:\n",
    "                    continue\n",
    "                path.append(nums[i])\n",
    "                backtracking(nums, i + 1)\n",
    "                path.pop()\n",
    "        nums = sorted(nums)\n",
    "        backtracking(nums, 0)\n",
    "        return ans"
   ]
  },
  {
   "cell_type": "markdown",
   "metadata": {},
   "source": [
    "## 491.Increasing Subsequences递增子序列"
   ]
  },
  {
   "cell_type": "markdown",
   "metadata": {},
   "source": [
    "Given an integer array nums, return all the different possible increasing subsequences of the given array with at least two elements. You may return the answer in any order.\n",
    "\n",
    "The given array may contain duplicates, and two equal integers should also be considered a special case of increasing sequence.\n",
    "\n",
    " \n",
    "\n",
    "Example 1:\n",
    "\n",
    "Input: nums = [4,6,7,7]\n",
    "Output: [[4,6],[4,6,7],[4,6,7,7],[4,7],[4,7,7],[6,7],[6,7,7],[7,7]]\n",
    "Example 2:\n",
    "\n",
    "Input: nums = [4,4,3,2,1]\n",
    "Output: [[4,4]]"
   ]
  },
  {
   "cell_type": "code",
   "execution_count": 81,
   "metadata": {},
   "outputs": [],
   "source": [
    "class Solution:\n",
    "    def findSubsequences(self, nums: list) -> list:\n",
    "        ans = []\n",
    "        path = []\n",
    "        \n",
    "        def backtracking(nums, start): \n",
    "            #使用repeat列表来去重：\n",
    "            repeat = []\n",
    "            \n",
    "            if len(path) > 1:\n",
    "                    ans.append(path[:]) #这里不能加return，因为要继续取下层树上的节点\n",
    "                    \n",
    "            for i in range(start, len(nums)):\n",
    "                if nums[i] in repeat:\n",
    "                    continue\n",
    "                \n",
    "                if path and nums[i] < path[-1]:\n",
    "                    continue\n",
    "                \n",
    "                repeat.append(nums[i])\n",
    "                path.append(nums[i])\n",
    "                backtracking(nums, i + 1)\n",
    "                path.pop()\n",
    "        \n",
    "        backtracking(nums, 0)\n",
    "        return ans"
   ]
  },
  {
   "cell_type": "markdown",
   "metadata": {},
   "source": [
    "# 排列"
   ]
  },
  {
   "cell_type": "markdown",
   "metadata": {},
   "source": [
    "排列问题的不同：\n",
    "\n",
    "* 每层都是从0开始搜索而不是startIndex   \n",
    "* 需要used数组记录path里都放了哪些元素了"
   ]
  },
  {
   "cell_type": "markdown",
   "metadata": {},
   "source": [
    "## 46.Permutations全排列"
   ]
  },
  {
   "cell_type": "markdown",
   "metadata": {},
   "source": [
    "Given an array nums of distinct integers, return all the possible permutations. You can return the answer in any order.\n",
    "\n",
    " \n",
    "\n",
    "Example 1:\n",
    "\n",
    "Input: nums = [1,2,3]\n",
    "Output: [[1,2,3],[1,3,2],[2,1,3],[2,3,1],[3,1,2],[3,2,1]]\n",
    "Example 2:\n",
    "\n",
    "Input: nums = [0,1]\n",
    "Output: [[0,1],[1,0]]\n",
    "Example 3:\n",
    "\n",
    "Input: nums = [1]\n",
    "Output: [[1]]"
   ]
  },
  {
   "cell_type": "code",
   "execution_count": 84,
   "metadata": {},
   "outputs": [],
   "source": [
    "class Solution:\n",
    "    def permute(self, nums: list) -> list:\n",
    "        ans = []\n",
    "        path = []\n",
    "        #使用Used列表来记录当前backtracking中用过的元素\n",
    "        used = [''] * len(nums)\n",
    "        \n",
    "        def backtracking(nums):\n",
    "            \n",
    "            if len(path) == len(nums):\n",
    "                ans.append(path[:])\n",
    "                return\n",
    "            for i in range(len(nums)):\n",
    "                if used[i] == True:\n",
    "                    continue\n",
    "                used[i] = True\n",
    "                path.append(nums[i])\n",
    "                backtracking(nums)\n",
    "                path.pop()\n",
    "                used[i] = False\n",
    "        \n",
    "        backtracking(nums)\n",
    "        return ans                "
   ]
  },
  {
   "cell_type": "markdown",
   "metadata": {},
   "source": [
    "## 47.Permutations II全排列 II （需要去重的全排列）"
   ]
  },
  {
   "cell_type": "markdown",
   "metadata": {},
   "source": [
    "Given a collection of numbers, nums, that might contain duplicates, return all possible unique permutations in any order.\n",
    "\n",
    " \n",
    "\n",
    "Example 1:\n",
    "\n",
    "Input: nums = [1,1,2]\n",
    "Output:\n",
    "[[1,1,2],\n",
    " [1,2,1],\n",
    " [2,1,1]]\n",
    "Example 2:\n",
    "\n",
    "Input: nums = [1,2,3]\n",
    "Output: [[1,2,3],[1,3,2],[2,1,3],[2,3,1],[3,1,2],[3,2,1]]"
   ]
  },
  {
   "cell_type": "code",
   "execution_count": 86,
   "metadata": {},
   "outputs": [],
   "source": [
    "class Solution:\n",
    "    def permuteUnique(self, nums: list) -> list:\n",
    "        ans = []\n",
    "        path = []\n",
    "        used = [''] * len(nums)\n",
    "\n",
    "        \n",
    "        def backtracking(nums):\n",
    "            if len(path) == len(nums):\n",
    "                ans.append(path[:])\n",
    "                return\n",
    "            for i in range(len(nums)):\n",
    "                if used[i] == True:\n",
    "                    continue\n",
    "                #这里的used[i-1]==False还要保证上一个数已被使用用过发展孩子节点，即上一个在纵向中没被使用过\n",
    "                if i > 0 and nums[i-1] == nums[i] and used[i-1] == False:\n",
    "                    continue\n",
    "                used[i] = True\n",
    "                path.append(nums[i])\n",
    "                backtracking(nums)\n",
    "                path.pop()\n",
    "                used[i] = False\n",
    "        nums = sorted(nums)\n",
    "        backtracking(nums)\n",
    "        return ans  "
   ]
  },
  {
   "cell_type": "markdown",
   "metadata": {},
   "source": [
    "# 棋盘问题"
   ]
  },
  {
   "cell_type": "markdown",
   "metadata": {},
   "source": [
    "## 51. N-Queens N皇后"
   ]
  },
  {
   "cell_type": "markdown",
   "metadata": {},
   "source": [
    "本质是一个全排列搜索问题，同时判断横向、纵向和对角线上是否有元素。   \n",
    "难点是如何判断对角线上是否有元素。"
   ]
  },
  {
   "cell_type": "markdown",
   "metadata": {},
   "source": [
    "The n-queens puzzle is the problem of placing n queens on an n x n chessboard such that no two queens attack each other.\n",
    "\n",
    "Given an integer n, return all distinct solutions to the n-queens puzzle. You may return the answer in any order.\n",
    "\n",
    "Each solution contains a distinct board configuration of the n-queens' placement, where 'Q' and '.' both indicate a queen and an empty space, respectively.\n",
    "\n",
    " \n",
    "\n",
    "Example 1:\n",
    "\n",
    "\n",
    "Input: n = 4\n",
    "Output: [[\".Q..\",\"...Q\",\"Q...\",\"..Q.\"],[\"..Q.\",\"Q...\",\"...Q\",\".Q..\"]]\n",
    "Explanation: There exist two distinct solutions to the 4-queens puzzle as shown above\n",
    "Example 2:\n",
    "\n",
    "Input: n = 1\n",
    "Output: [[\"Q\"]]"
   ]
  },
  {
   "cell_type": "code",
   "execution_count": 117,
   "metadata": {},
   "outputs": [],
   "source": [
    "class Solution:\n",
    "    def solveNQueens(self, n: int) -> list:\n",
    "        ans = []\n",
    "        path = [['.'] * n for _ in range(n)]\n",
    "        col = [False] * n\n",
    "        dg = [False] * (2 * n)\n",
    "        udg = [False] * (2 * n)\n",
    "        \n",
    "        def backtracking(row):\n",
    "            #如果走到最后一行，说明已经找到一个解\n",
    "            if row == n:\n",
    "                #注意输出格式\n",
    "                temp_ans = []\n",
    "                for p in path:\n",
    "                    temp_str = ''.join(p)\n",
    "                    temp_ans.append(temp_str)\n",
    "                return ans.append(temp_ans)\n",
    "            \n",
    "            for i in range(n):\n",
    "                if col[i] == False and dg[row-i+n] == False and udg[row+i]== False:\n",
    "                    path[row][i] = 'Q'\n",
    "                    col[i] = True\n",
    "                    dg[row-i+n] = True\n",
    "                    udg[row+i] = True\n",
    "                    backtracking(row + 1)\n",
    "                    path[row][i] = '.'\n",
    "                    col[i] = False\n",
    "                    dg[row-i+n] = False\n",
    "                    udg[row+i] = False\n",
    "        backtracking(0)\n",
    "        return ans"
   ]
  },
  {
   "cell_type": "code",
   "execution_count": 119,
   "metadata": {},
   "outputs": [
    {
     "data": {
      "text/plain": [
       "[['.Q..', '...Q', 'Q...', '..Q.'], ['..Q.', 'Q...', '...Q', '.Q..']]"
      ]
     },
     "execution_count": 119,
     "metadata": {},
     "output_type": "execute_result"
    }
   ],
   "source": [
    "m=Solution()\n",
    "m.solveNQueens(4)"
   ]
  },
  {
   "cell_type": "markdown",
   "metadata": {},
   "source": [
    "## <font color='red'>37. Sudoku Solver解数独（时间未通过）"
   ]
  },
  {
   "cell_type": "markdown",
   "metadata": {},
   "source": [
    "Write a program to solve a Sudoku puzzle by filling the empty cells.\n",
    "\n",
    "A sudoku solution must satisfy all of the following rules:\n",
    "\n",
    "Each of the digits 1-9 must occur exactly once in each row.\n",
    "Each of the digits 1-9 must occur exactly once in each column.\n",
    "Each of the digits 1-9 must occur exactly once in each of the 9 3x3 sub-boxes of the grid.\n",
    "The '.' character indicates empty cells.\n",
    "\n",
    " \n",
    "\n",
    "Example 1:\n",
    "\n",
    "\n",
    "Input: board = [[\"5\",\"3\",\".\",\".\",\"7\",\".\",\".\",\".\",\".\"],[\"6\",\".\",\".\",\"1\",\"9\",\"5\",\".\",\".\",\".\"],[\".\",\"9\",\"8\",\".\",\".\",\".\",\".\",\"6\",\".\"],[\"8\",\".\",\".\",\".\",\"6\",\".\",\".\",\".\",\"3\"],[\"4\",\".\",\".\",\"8\",\".\",\"3\",\".\",\".\",\"1\"],[\"7\",\".\",\".\",\".\",\"2\",\".\",\".\",\".\",\"6\"],[\".\",\"6\",\".\",\".\",\".\",\".\",\"2\",\"8\",\".\"],[\".\",\".\",\".\",\"4\",\"1\",\"9\",\".\",\".\",\"5\"],[\".\",\".\",\".\",\".\",\"8\",\".\",\".\",\"7\",\"9\"]]\n",
    "Output: [[\"5\",\"3\",\"4\",\"6\",\"7\",\"8\",\"9\",\"1\",\"2\"],[\"6\",\"7\",\"2\",\"1\",\"9\",\"5\",\"3\",\"4\",\"8\"],[\"1\",\"9\",\"8\",\"3\",\"4\",\"2\",\"5\",\"6\",\"7\"],[\"8\",\"5\",\"9\",\"7\",\"6\",\"1\",\"4\",\"2\",\"3\"],[\"4\",\"2\",\"6\",\"8\",\"5\",\"3\",\"7\",\"9\",\"1\"],[\"7\",\"1\",\"3\",\"9\",\"2\",\"4\",\"8\",\"5\",\"6\"],[\"9\",\"6\",\"1\",\"5\",\"3\",\"7\",\"2\",\"8\",\"4\"],[\"2\",\"8\",\"7\",\"4\",\"1\",\"9\",\"6\",\"3\",\"5\"],[\"3\",\"4\",\"5\",\"2\",\"8\",\"6\",\"1\",\"7\",\"9\"]]\n",
    "Explanation: The input board is shown above and the only valid solution is shown below:\n",
    "\n"
   ]
  },
  {
   "cell_type": "code",
   "execution_count": 120,
   "metadata": {},
   "outputs": [],
   "source": [
    "class Solution:\n",
    "    def solveSudoku(self, board: list) -> None:\n",
    "        \"\"\"\n",
    "        Do not return anything, modify board in-place instead.\n",
    "        \"\"\" \n",
    "            \n",
    "        def backtracking(board):\n",
    "            for i in range(9):\n",
    "                for j in range(9):\n",
    "                    if board[i][j] != '.': continue\n",
    "                    for k in range(1, 10):\n",
    "                        if isValid(i, j, k, board):\n",
    "                            board[i][j] = str(k)\n",
    "                            if backtracking(board): return True\n",
    "                            board[i][j] = '.'\n",
    "                    return False\n",
    "            return True\n",
    "        \n",
    "        def isValid(row, col, val, board):\n",
    "            #判断行是否有重复\n",
    "            if val in board[row]: \n",
    "                return False\n",
    "            #判断列是否有重复\n",
    "            for j in range(9):\n",
    "                if str(val) == board[j][col]:\n",
    "                    return False\n",
    "            #判断3*3中是否有重复\n",
    "            startrow = (row // 3) * 3\n",
    "            startcol = (col // 3) * 3\n",
    "            for i in range(startrow, startrow + 3):\n",
    "                for j in range(startcol, startcol + 3):\n",
    "                    if board[i][j] == str(val):\n",
    "                        return False\n",
    "            return True\n",
    "    \n",
    "        backtracking(board)"
   ]
  },
  {
   "cell_type": "markdown",
   "metadata": {},
   "source": [
    "# <font color='red'>深搜其实等价于回溯 (未解决)"
   ]
  },
  {
   "cell_type": "markdown",
   "metadata": {},
   "source": [
    "## 332.Reconstruct Itinerary重新安排行程"
   ]
  },
  {
   "cell_type": "markdown",
   "metadata": {},
   "source": [
    "You are given a list of airline tickets where tickets[i] = [fromi, toi] represent the departure and the arrival airports of one flight. Reconstruct the itinerary in order and return it.\n",
    "\n",
    "All of the tickets belong to a man who departs from \"JFK\", thus, the itinerary must begin with \"JFK\". If there are multiple valid itineraries, you should return the itinerary that has the smallest lexical order when read as a single string.\n",
    "\n",
    "For example, the itinerary [\"JFK\", \"LGA\"] has a smaller lexical order than [\"JFK\", \"LGB\"].\n",
    "You may assume all tickets form at least one valid itinerary. You must use all the tickets once and only once.\n",
    "\n",
    " \n",
    "\n",
    "Example 1:\n",
    "\n",
    "\n",
    "Input: tickets = [[\"MUC\",\"LHR\"],[\"JFK\",\"MUC\"],[\"SFO\",\"SJC\"],[\"LHR\",\"SFO\"]]\n",
    "Output: [\"JFK\",\"MUC\",\"LHR\",\"SFO\",\"SJC\"]\n",
    "Example 2:\n",
    "\n",
    "\n",
    "Input: tickets = [[\"JFK\",\"SFO\"],[\"JFK\",\"ATL\"],[\"SFO\",\"ATL\"],[\"ATL\",\"JFK\"],[\"ATL\",\"SFO\"]]\n",
    "Output: [\"JFK\",\"ATL\",\"JFK\",\"SFO\",\"ATL\",\"SFO\"]\n",
    "Explanation: Another possible reconstruction is [\"JFK\",\"SFO\",\"ATL\",\"JFK\",\"ATL\",\"SFO\"] but it is larger in lexical order."
   ]
  },
  {
   "cell_type": "code",
   "execution_count": null,
   "metadata": {},
   "outputs": [],
   "source": [
    "class Solution:\n",
    "    def findItinerary(self, tickets: list) -> list:\n",
    "        "
   ]
  }
 ],
 "metadata": {
  "kernelspec": {
   "display_name": "Python 3",
   "language": "python",
   "name": "python3"
  },
  "language_info": {
   "codemirror_mode": {
    "name": "ipython",
    "version": 3
   },
   "file_extension": ".py",
   "mimetype": "text/x-python",
   "name": "python",
   "nbconvert_exporter": "python",
   "pygments_lexer": "ipython3",
   "version": "3.7.0"
  },
  "toc": {
   "base_numbering": 1,
   "nav_menu": {},
   "number_sections": true,
   "sideBar": true,
   "skip_h1_title": false,
   "title_cell": "Table of Contents",
   "title_sidebar": "Contents",
   "toc_cell": false,
   "toc_position": {},
   "toc_section_display": true,
   "toc_window_display": true
  }
 },
 "nbformat": 4,
 "nbformat_minor": 2
}
