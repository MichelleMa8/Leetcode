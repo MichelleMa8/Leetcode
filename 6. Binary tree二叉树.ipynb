{
 "cells": [
  {
   "cell_type": "markdown",
   "metadata": {},
   "source": [
    "## 构建二叉树   \n",
    "https://zhuanlan.zhihu.com/p/60838201"
   ]
  },
  {
   "cell_type": "code",
   "execution_count": 15,
   "metadata": {},
   "outputs": [],
   "source": [
    "#实现二叉树根节点\n",
    "class TreeNode:\n",
    "    def __init__(self, val=0, left=None, right=None):\n",
    "        self.val = val\n",
    "        self.left = left\n",
    "        self.right = right"
   ]
  },
  {
   "cell_type": "code",
   "execution_count": 21,
   "metadata": {},
   "outputs": [],
   "source": [
    "#创建二叉树\n",
    "def build(data):\n",
    "    if len(data) == 0:\n",
    "        return TreeNode(0)\n",
    "    nodeQueue = []\n",
    "    # 创建一根节点，并将根节点进栈\n",
    "    root = TreeNode(data[0])\n",
    "    nodeQueue.append(root)\n",
    "    # 记录当前行节点的数量\n",
    "    lineNum = 2\n",
    "    # 记录当前行中数字在数组中的位置\n",
    "    startIndex = 1\n",
    "    # 记录数组中剩余元素的数量\n",
    "    restLength = len(data) - 1\n",
    "    while restLength > 0:\n",
    "        for index in range(startIndex, startIndex + lineNum, 2):\n",
    "            if index == len(data):\n",
    "                return root\n",
    "            cur_node = nodeQueue.pop()\n",
    "            if data[index] is not None:\n",
    "                cur_node.left = TreeNode(data[index])\n",
    "                nodeQueue.append(cur_node.left)\n",
    "            if index + 1 == len(data):\n",
    "                return root\n",
    "            if data[index + 1] is not None:\n",
    "                cur_node.right = TreeNode(data[index + 1])\n",
    "                nodeQueue.append(cur_node.right)\n",
    "        startIndex += lineNum\n",
    "        restLength -= lineNum\n",
    "        # 此处用来更新下一层树对应节点的最大值\n",
    "        lineNum = len(nodeQueue) * 2\n",
    "    return root"
   ]
  },
  {
   "cell_type": "code",
   "execution_count": 43,
   "metadata": {},
   "outputs": [],
   "source": [
    "if __name__ == \"__main__\":\n",
    "    data = [1, None, 2, 3]\n",
    "    pNode = build(data)"
   ]
  },
  {
   "cell_type": "code",
   "execution_count": 44,
   "metadata": {},
   "outputs": [
    {
     "data": {
      "text/plain": [
       "<__main__.TreeNode at 0x2208f731160>"
      ]
     },
     "execution_count": 44,
     "metadata": {},
     "output_type": "execute_result"
    }
   ],
   "source": [
    "pNode"
   ]
  },
  {
   "cell_type": "markdown",
   "metadata": {},
   "source": [
    "## 递归三部曲：   \n",
    "\n",
    "1. 确定递归函数的参数和返回值   \n",
    "2. 确定终止条件   \n",
    "3. 确定单层递归的逻辑"
   ]
  },
  {
   "cell_type": "markdown",
   "metadata": {},
   "source": [
    "# 二叉树的遍历"
   ]
  },
  {
   "cell_type": "markdown",
   "metadata": {},
   "source": [
    "**<font size=3>二叉树主要有两种遍历方式：**\n",
    "1. 深度优先遍历：先往深走，遇到叶子节点再往回走。\n",
    "2. 广度优先遍历：一层一层的去遍历。\n",
    "\n",
    "深度优先遍历：   \n",
    "* 前序遍历（递归法，迭代法）：中左右\n",
    "* 中序遍历（递归法，迭代法）：左中右\n",
    "* 后序遍历（递归法，迭代法）：左右中\n",
    "\n",
    "广度优先遍历：   \n",
    "* 层次遍历（迭代法）"
   ]
  },
  {
   "cell_type": "markdown",
   "metadata": {},
   "source": [
    "**<font size=3>递归方法论：**   \n",
    "1. **确定递归函数的参数和返回值：**确定哪些参数是递归的过程中需要处理的，那么就在递归函数里加上这个参数， 并且还要明确每次递归的返回值是什么进而确定递归函数的返回类型。   \n",
    "\n",
    "2. **确定终止条件：**写完了递归算法,  运行的时候，经常会遇到栈溢出的错误，就是没写终止条件或者终止条件写的不对，操作系统也是用一个栈的结构来保存每一层递归的信息，如果递归没有终止，操作系统的内存栈必然就会溢出。   \n",
    "\n",
    "3. **确定单层递归的逻辑：**确定每一层递归需要处理的信息。在这里也就会重复调用自己来实现递归的过程。"
   ]
  },
  {
   "cell_type": "markdown",
   "metadata": {},
   "source": [
    "## 深度优先遍历：前中后序遍历"
   ]
  },
  {
   "cell_type": "markdown",
   "metadata": {},
   "source": [
    "### 144.二叉树的前序遍历Binary Tree Preorder Traversal"
   ]
  },
  {
   "cell_type": "markdown",
   "metadata": {},
   "source": [
    "Given the root of a binary tree, return the preorder traversal of its nodes' values.\n",
    "\n",
    " \n",
    "\n",
    "Example 1:\n",
    "\n",
    "\n",
    "Input: root = [1,null,2,3]\n",
    "Output: [1,2,3]\n",
    "   \n",
    "   \n",
    "Example 2:\n",
    "\n",
    "Input: root = []\n",
    "Output: []"
   ]
  },
  {
   "cell_type": "markdown",
   "metadata": {},
   "source": [
    "法一：递归"
   ]
  },
  {
   "cell_type": "code",
   "execution_count": 18,
   "metadata": {},
   "outputs": [],
   "source": [
    "# Definition for a binary tree node.\n",
    "class TreeNode:\n",
    "    def __init__(self, val=0, left=None, right=None):\n",
    "        self.val = val\n",
    "        self.left = left\n",
    "        self.right = right\n",
    "class Solution:\n",
    "    def preorderTraversal(self, root:TreeNode) -> list:\n",
    "        result = []\n",
    "        def traversal(root):\n",
    "            if root == None:\n",
    "                return\n",
    "            result.append(root.val)\n",
    "            traversal(root.left)\n",
    "            traversal(root.right)\n",
    "        traversal(root)\n",
    "        return result"
   ]
  },
  {
   "cell_type": "code",
   "execution_count": 34,
   "metadata": {},
   "outputs": [
    {
     "data": {
      "text/plain": [
       "[1, 2, 3]"
      ]
     },
     "execution_count": 34,
     "metadata": {},
     "output_type": "execute_result"
    }
   ],
   "source": [
    "m=Solution()\n",
    "m.preorderTraversal(pNode)"
   ]
  },
  {
   "cell_type": "markdown",
   "metadata": {},
   "source": [
    "法二：迭代"
   ]
  },
  {
   "cell_type": "code",
   "execution_count": 3,
   "metadata": {},
   "outputs": [],
   "source": [
    "# Definition for a binary tree node.\n",
    "# class TreeNode:\n",
    "#     def __init__(self, val=0, left=None, right=None):\n",
    "#         self.val = val\n",
    "#         self.left = left\n",
    "#         self.right = right\n",
    "class Solution:\n",
    "    def preorderTraversal(self, root) -> list:\n",
    "        ans = []\n",
    "        stack = []\n",
    "        \n",
    "        while root or stack:\n",
    "            #如果当前节点不空就遍历且入栈，入栈就意味着要遍历其左子树了，一直往左走\n",
    "            while root:\n",
    "                ans.append(root.val)\n",
    "                stack.append(root)\n",
    "                root = root.left\n",
    "            #这时左儿子都遍历完，root在最左节点也就是null\n",
    "            root = stack.pop().right #root来到最左节点的右儿子，也就是Null,继续下个while，\n",
    "            #现在要回溯回去找他的分岔口，栈顶元素就是分岔口，需要将root移动到分岔口的右儿子上\n",
    "            #（不用担心没有右儿子，没有的话就不是分岔口）\n",
    "        return ans"
   ]
  },
  {
   "cell_type": "markdown",
   "metadata": {},
   "source": [
    "法三：迭代（统一）\n",
    "   \n",
    "使用栈的话，无法同时解决访问节点（遍历节点）和处理节点（将元素放进结果集）不一致的情况。\n",
    "\n",
    "那我们就将访问的节点放入栈中，把要处理的节点也放入栈中但是要做标记。\n",
    "\n",
    "如何标记呢，就是要处理的节点放入栈之后，紧接着放入一个空指针作为标记。 这种方法也可以叫做**标记法**。\n",
    "\n",
    "https://mp.weixin.qq.com/s?__biz=MzUxNjY5NTYxNA==&mid=2247490898&idx=2&sn=233cc1e7ac33cebff5e605db95954329&scene=21#wechat_redirect"
   ]
  },
  {
   "cell_type": "code",
   "execution_count": 53,
   "metadata": {},
   "outputs": [
    {
     "data": {
      "text/plain": [
       "[1, 2, 3]"
      ]
     },
     "execution_count": 53,
     "metadata": {},
     "output_type": "execute_result"
    }
   ],
   "source": [
    "m=Solution()\n",
    "m.preorderTraversal(pNode)"
   ]
  },
  {
   "cell_type": "markdown",
   "metadata": {},
   "source": [
    "### 94. Binary Tree Inorder Traversal二叉树的中序遍历"
   ]
  },
  {
   "cell_type": "markdown",
   "metadata": {},
   "source": [
    "法一：递归"
   ]
  },
  {
   "cell_type": "code",
   "execution_count": 14,
   "metadata": {},
   "outputs": [],
   "source": [
    "# Definition for a binary tree node.\n",
    "# class TreeNode:\n",
    "#     def __init__(self, val=0, left=None, right=None):\n",
    "#         self.val = val\n",
    "#         self.left = left\n",
    "#         self.right = right\n",
    "class Solution:\n",
    "    def inorderTraversal(self, root) -> list:\n",
    "        result = []\n",
    "        def traversal(root):\n",
    "            if root == None:\n",
    "                return\n",
    "            traversal(root.left)\n",
    "            result.append(root.val)\n",
    "            traversal(root.right)\n",
    "            \n",
    "            \n",
    "        traversal(root)\n",
    "        return result"
   ]
  },
  {
   "cell_type": "markdown",
   "metadata": {},
   "source": [
    "法二：迭代   "
   ]
  },
  {
   "cell_type": "code",
   "execution_count": null,
   "metadata": {},
   "outputs": [],
   "source": [
    "# Definition for a binary tree node.\n",
    "# class TreeNode:\n",
    "#     def __init__(self, val=0, left=None, right=None):\n",
    "#         self.val = val\n",
    "#         self.left = left\n",
    "#         self.right = right\n",
    "class Solution:\n",
    "    def inorderTraversal(self, root) -> list:\n",
    "        ans = []\n",
    "        stack = []\n",
    "        \n",
    "        while root or stack:\n",
    "            while root:\n",
    "                stack.append(root)\n",
    "                root = root.left\n",
    "            \n",
    "            #现在root来到null\n",
    "            #栈顶元素即下一个节点，即“左根右”里的根，遍历它即可\n",
    "            root = stack.pop()\n",
    "            ans.append(root.val)\n",
    "            root = root.right\n",
    "            \n",
    "\n",
    "        return ans"
   ]
  },
  {
   "cell_type": "code",
   "execution_count": 55,
   "metadata": {},
   "outputs": [
    {
     "data": {
      "text/plain": [
       "[1, 3, 2]"
      ]
     },
     "execution_count": 55,
     "metadata": {},
     "output_type": "execute_result"
    }
   ],
   "source": [
    "m=Solution()\n",
    "m.inorderTraversal(pNode)"
   ]
  },
  {
   "cell_type": "markdown",
   "metadata": {},
   "source": [
    "### 145.Binary Tree Postorder Traversal二叉树的后序遍历"
   ]
  },
  {
   "cell_type": "markdown",
   "metadata": {},
   "source": [
    "法一：递归"
   ]
  },
  {
   "cell_type": "code",
   "execution_count": 13,
   "metadata": {},
   "outputs": [],
   "source": [
    "# Definition for a binary tree node.\n",
    "# class TreeNode:\n",
    "#     def __init__(self, val=0, left=None, right=None):\n",
    "#         self.val = val\n",
    "#         self.left = left\n",
    "#         self.right = right\n",
    "class Solution:\n",
    "    def postorderTraversal(self, root) -> list:\n",
    "        result = []\n",
    "        def traversal(root):\n",
    "            if root == None:\n",
    "                return\n",
    "            traversal(root.left)\n",
    "            traversal(root.right)\n",
    "            result.append(root.val)\n",
    "            \n",
    "        traversal(root)\n",
    "        return result"
   ]
  },
  {
   "cell_type": "markdown",
   "metadata": {},
   "source": [
    "法二：迭代"
   ]
  },
  {
   "cell_type": "code",
   "execution_count": 4,
   "metadata": {},
   "outputs": [],
   "source": [
    "# Definition for a binary tree node.\n",
    "# class TreeNode:\n",
    "#     def __init__(self, val=0, left=None, right=None):\n",
    "#         self.val = val\n",
    "#         self.left = left\n",
    "#         self.right = right\n",
    "class Solution:\n",
    "    def postorderTraversal(self, root) -> list:\n",
    "        ans = []\n",
    "        stack = []\n",
    "        \n",
    "        while root or stack:\n",
    "            while root:\n",
    "                ans.append(root.val)\n",
    "                stack.append(root)\n",
    "                root = root.right\n",
    "                \n",
    "            root = stack.pop().left\n",
    "                \n",
    "        \n",
    "        return ans[::-1]"
   ]
  },
  {
   "cell_type": "code",
   "execution_count": 57,
   "metadata": {},
   "outputs": [
    {
     "data": {
      "text/plain": [
       "[3, 2, 1]"
      ]
     },
     "execution_count": 57,
     "metadata": {},
     "output_type": "execute_result"
    }
   ],
   "source": [
    "m=Solution()\n",
    "m.postorderTraversal(pNode)"
   ]
  },
  {
   "cell_type": "markdown",
   "metadata": {},
   "source": [
    "## 广度优先遍历：层序遍历"
   ]
  },
  {
   "cell_type": "markdown",
   "metadata": {},
   "source": [
    "BFS：breadth first search广度优先搜索"
   ]
  },
  {
   "cell_type": "markdown",
   "metadata": {},
   "source": [
    "### 102.Binary Tree Level Order Traversal二叉树的层序遍历"
   ]
  },
  {
   "cell_type": "markdown",
   "metadata": {},
   "source": [
    "https://youtu.be/6ZnyEApgFYg"
   ]
  },
  {
   "cell_type": "markdown",
   "metadata": {},
   "source": [
    "Given the root of a binary tree, return the level order traversal of its nodes' values. (i.e., from left to right, level by level).\n",
    "\n",
    "\n",
    "Example 1:\n",
    "\n",
    "\n",
    "Input: root = [3,9,20,null,null,15,7]\n",
    "Output: [[3],[9,20],[15,7]]   \n",
    "\n",
    "Example 2:\n",
    "\n",
    "Input: root = [1]\n",
    "Output: [[1]]   \n",
    "\n",
    "Example 3:\n",
    "\n",
    "Input: root = []\n",
    "Output: []"
   ]
  },
  {
   "cell_type": "code",
   "execution_count": 59,
   "metadata": {},
   "outputs": [],
   "source": [
    "# Definition for a binary tree node.\n",
    "# class TreeNode:\n",
    "#     def __init__(self, val=0, left=None, right=None):\n",
    "#         self.val = val\n",
    "#         self.left = left\n",
    "#         self.right = right\n",
    "class Solution:\n",
    "    def levelOrder(self, root):\n",
    "        res = []\n",
    "        \n",
    "        #Python中创建queue的方法，deque是一个双向可操作队列\n",
    "        #deque用法：https://blog.csdn.net/weixin_43790276/article/details/107749745\n",
    "        q = collections.deque()\n",
    "        q.append(root)\n",
    "        \n",
    "        while q:\n",
    "            qLen = len(q)\n",
    "            #level用来存放每一层的val\n",
    "            level = []\n",
    "            for i in range(qLen):\n",
    "                node = q.popleft()\n",
    "                if node:\n",
    "                    level.append(node.val)\n",
    "                    q.append(node.left)\n",
    "                    q.append(node.right)\n",
    "            if level:\n",
    "                res.append(level)\n",
    "        \n",
    "        return res"
   ]
  },
  {
   "cell_type": "markdown",
   "metadata": {},
   "source": [
    "### 107.Binary Tree Level Order Traversal II二叉树的层次遍历 II"
   ]
  },
  {
   "cell_type": "markdown",
   "metadata": {},
   "source": [
    "Given the root of a binary tree, return the bottom-up level order traversal of its nodes' values. (i.e., from left to right, level by level from leaf to root).\n",
    "\n",
    " \n",
    "\n",
    "Example 1:\n",
    "\n",
    "\n",
    "Input: root = [3,9,20,null,null,15,7]\n",
    "Output: [[15,7],[9,20],[3]]   \n",
    "\n",
    "Example 2:\n",
    "\n",
    "Input: root = [1]\n",
    "Output: [[1]]   \n",
    "\n",
    "Example 3:\n",
    "\n",
    "Input: root = []\n",
    "Output: []"
   ]
  },
  {
   "cell_type": "code",
   "execution_count": 7,
   "metadata": {},
   "outputs": [],
   "source": [
    "# Definition for a binary tree node.\n",
    "# class TreeNode:\n",
    "#     def __init__(self, val=0, left=None, right=None):\n",
    "#         self.val = val\n",
    "#         self.left = left\n",
    "#         self.right = right\n",
    "class Solution:\n",
    "    def levelOrderBottom(self, root):\n",
    "        res = []\n",
    "        \n",
    "        q = collections.deque()\n",
    "        q.append(root)\n",
    "        \n",
    "        while q:\n",
    "            qLen = len(q)\n",
    "            level = []\n",
    "            \n",
    "            for i in range(qLen):\n",
    "                cur = q.popleft()\n",
    "                if cur:\n",
    "                    level.append(cur.val)\n",
    "                    q.append(cur.left)\n",
    "                    q.append(cur.right)\n",
    "            \n",
    "            if level:\n",
    "                res.append(level)\n",
    "        \n",
    "        return res[::-1]\n",
    "        "
   ]
  },
  {
   "cell_type": "markdown",
   "metadata": {},
   "source": [
    "# 二叉树的属性"
   ]
  },
  {
   "cell_type": "markdown",
   "metadata": {},
   "source": [
    "## 对称二叉树"
   ]
  },
  {
   "cell_type": "markdown",
   "metadata": {},
   "source": [
    "### 101. Symmetric Tree对称二叉树"
   ]
  },
  {
   "cell_type": "markdown",
   "metadata": {},
   "source": [
    "Given the root of a binary tree, check whether it is a mirror of itself (i.e., symmetric around its center).\n",
    "\n",
    " \n",
    "\n",
    "Example 1:\n",
    "\n",
    "\n",
    "Input: root = [1,2,2,3,4,4,3]\n",
    "Output: true\n",
    "Example 2:\n",
    "\n",
    "\n",
    "Input: root = [1,2,2,null,3,null,3]\n",
    "Output: false"
   ]
  },
  {
   "cell_type": "markdown",
   "metadata": {},
   "source": [
    "法一：递归"
   ]
  },
  {
   "cell_type": "markdown",
   "metadata": {},
   "source": [
    "递归三部曲：   \n",
    "\n",
    "1. 确定递归函数的参数和返回值:   \n",
    "因为我们要比较的是根节点的两个子树是否是相互翻转的，进而判断这个树是不是对称树，所以要比较的是两个树，参数自然也是左子树节点和右子树节点。\n",
    "返回值自然是bool类型。\n",
    "2. 确定终止条件：  \n",
    "\n",
    "3. 确定单层递归的逻辑：   \n",
    "此时才进入单层递归的逻辑，单层递归的逻辑就是处理 右节点都不为空，且数值相同的情况。\n",
    "\n",
    " * 比较二叉树外侧是否对称：传入的是左节点的左孩子，右节点的右孩子。\n",
    " * 比较内测是否对称，传入左节点的右孩子，右节点的左孩子。\n",
    " * 如果左右都对称就返回true ，有一侧不对称就返回false 。"
   ]
  },
  {
   "cell_type": "code",
   "execution_count": 5,
   "metadata": {},
   "outputs": [],
   "source": [
    "# Definition for a binary tree node.\n",
    "# class TreeNode:\n",
    "#     def __init__(self, val=0, left=None, right=None):\n",
    "#         self.val = val\n",
    "#         self.left = left\n",
    "#         self.right = right\n",
    "class Solution:\n",
    "    def isSymmetric(self, root) -> bool:\n",
    "        if not root: return True\n",
    "        else:\n",
    "            return self.dfs(root.left, root.right)\n",
    "        \n",
    "    def dfs(self, p, q):\n",
    "        #思路：先比较根节点值是否一样，一样的话再比较当前根节点的左子树和右子树是否一样\n",
    "        if not p and not q: return True\n",
    "        if not p or not q or p.val != q.val: return False\n",
    "        #经过上一个if，已经确定左右子树的根节点值相同\n",
    "        return self.dfs(p.left, q.right) and self.dfs(p.right, q.left)"
   ]
  },
  {
   "cell_type": "markdown",
   "metadata": {},
   "source": [
    "法二：迭代（使用队列）\n",
    "不是层序遍历"
   ]
  },
  {
   "cell_type": "code",
   "execution_count": 6,
   "metadata": {},
   "outputs": [],
   "source": [
    "# Definition for a binary tree node.\n",
    "# class TreeNode:\n",
    "#     def __init__(self, val=0, left=None, right=None):\n",
    "#         self.val = val\n",
    "#         self.left = left\n",
    "#         self.right = right\n",
    "class Solution:\n",
    "    def isSymmetric(self, root) -> bool:\n",
    "        if not root: return True\n",
    "        queue = collections.deque()\n",
    "        queue.append(root.left)\n",
    "        queue.append(root.right)\n",
    "        \n",
    "        while queue:\n",
    "            leftNode = queue.popleft()\n",
    "            rightNode = queue.popleft()\n",
    "            \n",
    "            if not leftNode and not rightNode: \n",
    "                continue\n",
    "            if not leftNode or not rightNode or leftNode.val != rightNode.val:\n",
    "                return False\n",
    "            \n",
    "            queue.append(leftNode.left)\n",
    "            queue.append(rightNode.right)\n",
    "            queue.append(leftNode.right)\n",
    "            queue.append(rightNode.left)\n",
    "        return True"
   ]
  },
  {
   "cell_type": "markdown",
   "metadata": {},
   "source": [
    "法三：迭代（使用栈）"
   ]
  },
  {
   "cell_type": "code",
   "execution_count": null,
   "metadata": {},
   "outputs": [],
   "source": [
    "# Definition for a binary tree node.\n",
    "# class TreeNode:\n",
    "#     def __init__(self, val=0, left=None, right=None):\n",
    "#         self.val = val\n",
    "#         self.left = left\n",
    "#         self.right = right\n",
    "class Solution:\n",
    "    def isSymmetric(self, root) -> bool:\n",
    "        if not root: return True\n",
    "        st = []\n",
    "        st.append(root.left)\n",
    "        st.append(root.right)\n",
    "        \n",
    "        while queue:\n",
    "            leftNode = st.pop()\n",
    "            rightNode = st.pop()\n",
    "            \n",
    "            if not leftNode and not rightNode: \n",
    "                continue\n",
    "            if not leftNode or not rightNode or leftNode.val != rightNode.val:\n",
    "                return False\n",
    "            \n",
    "            st.append(leftNode.left)\n",
    "            st.append(rightNode.right)\n",
    "            st.append(leftNode.right)\n",
    "            st.append(rightNode.left)\n",
    "        return True"
   ]
  },
  {
   "cell_type": "markdown",
   "metadata": {},
   "source": [
    "### 100. Same Tree"
   ]
  },
  {
   "cell_type": "markdown",
   "metadata": {},
   "source": [
    "Given the roots of two binary trees p and q, write a function to check if they are the same or not.\n",
    "\n",
    "Two binary trees are considered the same if they are structurally identical, and the nodes have the same value.\n",
    "\n",
    " \n",
    "\n",
    "Example 1:\n",
    "\n",
    "\n",
    "Input: p = [1,2,3], q = [1,2,3]\n",
    "Output: true\n",
    "Example 2:\n",
    "\n",
    "\n",
    "Input: p = [1,2], q = [1,null,2]\n",
    "Output: false\n",
    "Example 3:\n",
    "\n",
    "\n",
    "Input: p = [1,2,1], q = [1,1,2]\n",
    "Output: false"
   ]
  },
  {
   "cell_type": "code",
   "execution_count": 3,
   "metadata": {},
   "outputs": [],
   "source": [
    "# Definition for a binary tree node.\n",
    "# class TreeNode:\n",
    "#     def __init__(self, val=0, left=None, right=None):\n",
    "#         self.val = val\n",
    "#         self.left = left\n",
    "#         self.right = right\n",
    "class Solution:\n",
    "    def isSameTree(self, p, q) -> bool:\n",
    "        def dfs(roota, rootb):\n",
    "            if not roota and not rootb: return True\n",
    "            if not roota or not rootb or not roota.val == rootb.val: return False\n",
    "            return dfs(roota.left, rootb.left) and dfs(roota.right, rootb.right)\n",
    "        \n",
    "        return dfs(p, q)\n",
    "        "
   ]
  },
  {
   "cell_type": "markdown",
   "metadata": {},
   "source": [
    "### 572. Subtree of Another Tree"
   ]
  },
  {
   "cell_type": "markdown",
   "metadata": {},
   "source": [
    "Given the roots of two binary trees root and subRoot, return true if there is a subtree of root with the same structure and node values of subRoot and false otherwise.\n",
    "\n",
    "A subtree of a binary tree tree is a tree that consists of a node in tree and all of this node's descendants. The tree tree could also be considered as a subtree of itself.\n",
    "\n",
    " \n",
    "\n",
    "Example 1:\n",
    "\n",
    "\n",
    "Input: root = [3,4,5,1,2], subRoot = [4,1,2]\n",
    "Output: true\n",
    "Example 2:\n",
    "\n",
    "\n",
    "Input: root = [3,4,5,1,2,null,null,null,null,0], subRoot = [4,1,2]\n",
    "Output: false"
   ]
  },
  {
   "cell_type": "markdown",
   "metadata": {},
   "source": [
    "树哈希问题"
   ]
  },
  {
   "cell_type": "code",
   "execution_count": 6,
   "metadata": {},
   "outputs": [],
   "source": [
    "# Definition for a binary tree node.\n",
    "# class TreeNode:\n",
    "#     def __init__(self, val=0, left=None, right=None):\n",
    "#         self.val = val\n",
    "#         self.left = left\n",
    "#         self.right = right\n",
    "class Solution:\n",
    "    def isSubtree(self, root, subRoot) -> bool:\n",
    "        def dfs(roota, rootb):\n",
    "            if not roota and not rootb: return True\n",
    "            if not roota or not rootb or not roota.val == rootb.val: return False\n",
    "            return dfs(roota.left, rootb.left) and dfs(roota.right, rootb.right)\n",
    "        \n",
    "        if not subRoot: return True\n",
    "        if not root: return False\n",
    "        \n",
    "        if dfs(root, subRoot):\n",
    "            return True\n",
    "        \n",
    "        return self.isSubtree(root.left, subRoot) or self.isSubtree(root.right, subRoot)"
   ]
  },
  {
   "cell_type": "markdown",
   "metadata": {},
   "source": [
    "## 104 Maximum Depth of Binary Tree二叉树最大树深度"
   ]
  },
  {
   "cell_type": "markdown",
   "metadata": {},
   "source": [
    "Given the root of a binary tree, return its maximum depth.\n",
    "\n",
    "A binary tree's maximum depth is the number of nodes along the longest path from the root node down to the farthest leaf node.\n",
    "\n",
    " \n",
    "\n",
    "Example 1:\n",
    "\n",
    "\n",
    "Input: root = [3,9,20,null,null,15,7]\n",
    "Output: 3\n",
    "Example 2:\n",
    "\n",
    "Input: root = [1,null,2]\n",
    "Output: 2"
   ]
  },
  {
   "cell_type": "markdown",
   "metadata": {},
   "source": [
    "法一：递归（后序遍历）   \n",
    "使用后序求的是高度。而根节点的高度就是二叉树的最大深度"
   ]
  },
  {
   "cell_type": "code",
   "execution_count": 8,
   "metadata": {},
   "outputs": [],
   "source": [
    "class Solution:\n",
    "    def getDepth(self, node):\n",
    "        if not node: return 0\n",
    "        leftDepth = getDepth(node.left)\n",
    "        rightDepth = getDepth(node.right)\n",
    "        depth = 1 + max(leftDepth, rightDepth)\n",
    "        return depth\n",
    "        \n",
    "    def maxDepth(self, root) -> int:\n",
    "        return getDepth(root)"
   ]
  },
  {
   "cell_type": "code",
   "execution_count": 10,
   "metadata": {},
   "outputs": [],
   "source": [
    "#精简版\n",
    "class Solution:\n",
    "    def maxDepth(self, root) -> int:\n",
    "        if root is None:\n",
    "            return 0\n",
    "        else:\n",
    "            return max(self.maxDepth(root.left)+1,self.maxDepth(root.right)+1)"
   ]
  },
  {
   "cell_type": "markdown",
   "metadata": {},
   "source": [
    "法二：迭代法（层序遍历）"
   ]
  },
  {
   "cell_type": "code",
   "execution_count": 11,
   "metadata": {},
   "outputs": [],
   "source": [
    "class Solution:\n",
    "    def maxDepth(self, root) -> int:\n",
    "        if not root: return 0\n",
    "        depth = 0\n",
    "        queue = collections.deque()\n",
    "        queue.append(root)\n",
    "        \n",
    "        while queue:\n",
    "            depth += 1\n",
    "            size = len(queue)\n",
    "            for i in range(size):\n",
    "                node = queue.popleft()\n",
    "                if node.left:\n",
    "                    queue.append(node.left)\n",
    "                if node.right:\n",
    "                    queue.append(node.right)\n",
    "        return depth"
   ]
  },
  {
   "cell_type": "markdown",
   "metadata": {},
   "source": [
    "## 559.Maximum Depth of N-ary Treen叉树的最大深度"
   ]
  },
  {
   "cell_type": "markdown",
   "metadata": {},
   "source": [
    "Given a n-ary tree, find its maximum depth.\n",
    "\n",
    "The maximum depth is the number of nodes along the longest path from the root node down to the farthest leaf node.\n",
    "\n",
    "Nary-Tree input serialization is represented in their level order traversal, each group of children is separated by the null value (See examples).\n",
    "\n",
    " \n",
    "\n",
    "Example 1:\n",
    "\n",
    "\n",
    "\n",
    "Input: root = [1,null,3,2,4,null,5,6]\n",
    "Output: 3\n",
    "Example 2:\n",
    "\n",
    "\n",
    "\n",
    "Input: root = [1,null,2,3,4,5,null,null,6,7,null,8,null,9,10,null,null,11,null,12,null,13,null,null,14]\n",
    "Output: 5"
   ]
  },
  {
   "cell_type": "code",
   "execution_count": 13,
   "metadata": {},
   "outputs": [],
   "source": [
    "#递归\n",
    "\"\"\"\n",
    "# Definition for a Node.\n",
    "class Node:\n",
    "    def __init__(self, val=None, children=None):\n",
    "        self.val = val\n",
    "        self.children = children\n",
    "\"\"\"\n",
    "\n",
    "class Solution:\n",
    "    def maxdepth(self, root) -> int:\n",
    "        if not root:\n",
    "            return 0\n",
    "        depth = 0\n",
    "        for i in range(len(root.children)):\n",
    "            depth = max(depth, self.maxdepth(root.children[i]))\n",
    "        return depth + 1"
   ]
  },
  {
   "cell_type": "code",
   "execution_count": 14,
   "metadata": {},
   "outputs": [],
   "source": [
    "#迭代\n",
    "class Solution:\n",
    "    def maxDepth(self, root) -> int:\n",
    "        if not root: return 0\n",
    "        depth = 0\n",
    "        queue = collections.deque()\n",
    "        queue.append(root)\n",
    "        \n",
    "        while queue:\n",
    "            depth += 1\n",
    "            size = len(queue)\n",
    "            for i in range(size):\n",
    "                node = queue.popleft()\n",
    "                if node.children:\n",
    "                    for j in range(len(node.children)):\n",
    "                        queue.append(node.children[j])\n",
    "        return depth"
   ]
  },
  {
   "cell_type": "markdown",
   "metadata": {},
   "source": [
    "## 111.Minimum Depth of Binary Tree二叉树的最小深度"
   ]
  },
  {
   "cell_type": "markdown",
   "metadata": {},
   "source": [
    "Given a binary tree, find its minimum depth.\n",
    "\n",
    "The minimum depth is the number of nodes along the shortest path from the root node down to the nearest leaf node.\n",
    "\n",
    "Note: A leaf is a node with no children.\n",
    "\n",
    " \n",
    "\n",
    "Example 1:\n",
    "\n",
    "\n",
    "Input: root = [3,9,20,null,null,15,7]\n",
    "Output: 2\n",
    "Example 2:\n",
    "\n",
    "Input: root = [2,null,3,null,4,null,5,null,6]\n",
    "Output: 5"
   ]
  },
  {
   "cell_type": "markdown",
   "metadata": {},
   "source": [
    "法一：递归法"
   ]
  },
  {
   "cell_type": "code",
   "execution_count": 18,
   "metadata": {},
   "outputs": [],
   "source": [
    "# Definition for a binary tree node.\n",
    "# class TreeNode:\n",
    "#     def __init__(self, val=0, left=None, right=None):\n",
    "#         self.val = val\n",
    "#         self.left = left\n",
    "#         self.right = right\n",
    "class Solution:\n",
    "    def getDepth(self, node):\n",
    "        if not node: \n",
    "            return 0\n",
    "        leftNode = self.getDepth(node.left)\n",
    "        rightNode = self.getDepth(node.right)\n",
    "        \n",
    "        #当一个左子树为空，右不为空，这时不是最低点\n",
    "        if not node.left and node.right:\n",
    "            return 1 + rightNode\n",
    "        \n",
    "        #当一个右子树为空，左不为空，这时不是最低点\n",
    "        if node.left and not node.right:\n",
    "            return 1 + leftNode\n",
    "        \n",
    "        depth = 1 + min(leftNode, rightNode)\n",
    "        return depth\n",
    "    def minDepth(self, root) -> int:\n",
    "        return self.getDepth(root)"
   ]
  },
  {
   "cell_type": "code",
   "execution_count": 19,
   "metadata": {},
   "outputs": [],
   "source": [
    "#精简版\n",
    "\n",
    "# Definition for a binary tree node.\n",
    "# class TreeNode:\n",
    "#     def __init__(self, val=0, left=None, right=None):\n",
    "#         self.val = val\n",
    "#         self.left = left\n",
    "#         self.right = right\n",
    "class Solution:\n",
    "    def minDepth(self, root) -> int:\n",
    "        if not root: return 0\n",
    "        \n",
    "        if not root.left and root.right:\n",
    "            return 1 + self.minDepth(root.right)\n",
    "        if root.left and not root.right:\n",
    "            return 1 + self.minDepth(root.left)\n",
    "        \n",
    "        return min(1 + self.minDepth(root.left), 1 + self.minDepth(root.right))"
   ]
  },
  {
   "cell_type": "markdown",
   "metadata": {},
   "source": [
    "法二：迭代法"
   ]
  },
  {
   "cell_type": "code",
   "execution_count": 24,
   "metadata": {},
   "outputs": [],
   "source": [
    "# Definition for a binary tree node.\n",
    "# class TreeNode:\n",
    "#     def __init__(self, val=0, left=None, right=None):\n",
    "#         self.val = val\n",
    "#         self.left = left\n",
    "#         self.right = right\n",
    "class Solution:\n",
    "    def minDepth(self, root) -> int:\n",
    "        if not root: return 0\n",
    "        \n",
    "        depth = 0\n",
    "        queue = collections.deque()\n",
    "        queue.append(root)\n",
    "        while queue:\n",
    "            depth += 1\n",
    "            size = len(queue)\n",
    "            for i in range(size):\n",
    "                node = queue.popleft()\n",
    "                if not node.left and not node.right:\n",
    "                    return depth\n",
    "                if node.left:\n",
    "                    queue.append(node.left)\n",
    "                if node.right:\n",
    "                    queue.append(node.right)\n",
    "        return depth"
   ]
  },
  {
   "cell_type": "markdown",
   "metadata": {},
   "source": [
    "## 222.Count Complete Tree Nodes完全二叉树的节点个数"
   ]
  },
  {
   "cell_type": "markdown",
   "metadata": {},
   "source": [
    "Given the root of a complete binary tree, return the number of the nodes in the tree.\n",
    "\n",
    "According to Wikipedia, every level, except possibly the last, is completely filled in a complete binary tree, and all nodes in the last level are as far left as possible. It can have between 1 and 2h nodes inclusive at the last level h.\n",
    "\n",
    "Design an algorithm that runs in less than O(n) time complexity.\n",
    "\n",
    " \n",
    "\n",
    "Example 1:\n",
    "\n",
    "\n",
    "Input: root = [1,2,3,4,5,6]\n",
    "Output: 6\n",
    "Example 2:\n",
    "\n",
    "Input: root = []\n",
    "Output: 0\n",
    "Example 3:\n",
    "\n",
    "Input: root = [1]\n",
    "Output: 1"
   ]
  },
  {
   "cell_type": "markdown",
   "metadata": {},
   "source": [
    "法一：普通二叉树（递归）   \n",
    "* 时间复杂度：O(n)   \n",
    "* 空间复杂度：O(logn)，算上了递归系统栈占用的空间"
   ]
  },
  {
   "cell_type": "code",
   "execution_count": 25,
   "metadata": {},
   "outputs": [],
   "source": [
    "# Definition for a binary tree node.\n",
    "# class TreeNode:\n",
    "#     def __init__(self, val=0, left=None, right=None):\n",
    "#         self.val = val\n",
    "#         self.left = left\n",
    "#         self.right = right\n",
    "class Solution:\n",
    "    def count(self, node):\n",
    "        if not node: return 0\n",
    "        leftCount = self.count(node.left)\n",
    "        rightCount = self.count(node.right)\n",
    "        res = 1 + leftCount + rightCount\n",
    "        return res\n",
    "        \n",
    "        \n",
    "    def countNodes(self, root) -> int:\n",
    "        return self.count(root)"
   ]
  },
  {
   "cell_type": "code",
   "execution_count": 27,
   "metadata": {},
   "outputs": [],
   "source": [
    "# Definition for a binary tree node.\n",
    "# class TreeNode:\n",
    "#     def __init__(self, val=0, left=None, right=None):\n",
    "#         self.val = val\n",
    "#         self.left = left\n",
    "#         self.right = right\n",
    "class Solution:   \n",
    "    def countNodes(self, root) -> int:\n",
    "        if not root: return 0\n",
    "        return 1 + self.countNodes(root.left) + self.countNodes(root.right)"
   ]
  },
  {
   "cell_type": "markdown",
   "metadata": {},
   "source": [
    "法二：普通二叉树（迭代）   \n",
    "* 时间复杂度：O(n)\n",
    "* 空间复杂度：O(n)"
   ]
  },
  {
   "cell_type": "code",
   "execution_count": 28,
   "metadata": {},
   "outputs": [],
   "source": [
    "# Definition for a binary tree node.\n",
    "# class TreeNode:\n",
    "#     def __init__(self, val=0, left=None, right=None):\n",
    "#         self.val = val\n",
    "#         self.left = left\n",
    "#         self.right = right\n",
    "class Solution:   \n",
    "    def countNodes(self, root) -> int:\n",
    "        if not root: return 0\n",
    "        \n",
    "        queue = collections.deque()\n",
    "        queue.append(root)\n",
    "        res = 0\n",
    "        while queue:\n",
    "            for i in range(len(queue)):\n",
    "                node = queue.popleft()\n",
    "                res += 1\n",
    "                if node.left:\n",
    "                    queue.append(node.left)\n",
    "                if node.right:\n",
    "                    queue.append(node.right)\n",
    "        return res"
   ]
  },
  {
   "cell_type": "markdown",
   "metadata": {},
   "source": [
    "法三：完全二叉树（递归）     \n",
    "* 时间复杂度：O(logn * logn)\n",
    "* 空间复杂度：O(logn)   \n",
    "https://youtu.be/CvrPf1-flAA"
   ]
  },
  {
   "cell_type": "code",
   "execution_count": 29,
   "metadata": {},
   "outputs": [],
   "source": [
    "# Definition for a binary tree node.\n",
    "# class TreeNode:\n",
    "#     def __init__(self, val=0, left=None, right=None):\n",
    "#         self.val = val\n",
    "#         self.left = left\n",
    "#         self.right = right\n",
    "class Solution:   \n",
    "    def countNodes(self, root) -> int:\n",
    "        if not root: return 0\n",
    "\n",
    "        #求左子树深度\n",
    "        left = root.left\n",
    "        leftHeight = 1\n",
    "        while left:\n",
    "            left = left.left\n",
    "            leftHeight += 1\n",
    "            \n",
    "        #求右子树深度\n",
    "        right = root.right\n",
    "        rightHeight = 1\n",
    "        while right:\n",
    "            right = right.right\n",
    "            rightHeight += 1\n",
    "            \n",
    "        \n",
    "        if leftHeight == rightHeight:\n",
    "            return 2 ** leftHeight - 1\n",
    "        \n",
    "        return self.countNodes(root.left) + self.countNodes(root.right) + 1\n",
    "            "
   ]
  },
  {
   "cell_type": "markdown",
   "metadata": {},
   "source": [
    "## 110.Balanced Binary Tree平衡二叉树 "
   ]
  },
  {
   "cell_type": "markdown",
   "metadata": {},
   "source": [
    "Given a binary tree, determine if it is height-balanced.\n",
    "\n",
    "For this problem, a height-balanced binary tree is defined as:\n",
    "\n",
    "a binary tree in which the left and right subtrees of every node differ in height by no more than 1.\n",
    "\n",
    " \n",
    "\n",
    "Example 1:\n",
    "\n",
    "\n",
    "Input: root = [3,9,20,null,null,15,7]\n",
    "Output: true\n",
    "Example 2:\n",
    "\n",
    "\n",
    "Input: root = [1,2,2,3,3,null,null,4,4]\n",
    "Output: false\n",
    "Example 3:\n",
    "\n",
    "Input: root = []\n",
    "Output: true"
   ]
  },
  {
   "cell_type": "markdown",
   "metadata": {},
   "source": [
    "本题是求二叉树高度，不是深度\n",
    "\n",
    "* 二叉树节点的深度：指从根节点到该节点的最长简单路径边的条数。\n",
    "* 二叉树节点的高度：指从该节点到叶子节点的最长简单路径边的条数。\n",
    "\n",
    "求二叉树深度和二叉树高度的差异:   \n",
    "求深度适合用前序遍历，而求高度适合用后序遍历。"
   ]
  },
  {
   "cell_type": "code",
   "execution_count": 32,
   "metadata": {},
   "outputs": [],
   "source": [
    "# Definition for a binary tree node.\n",
    "# class TreeNode:\n",
    "#     def __init__(self, val=0, left=None, right=None):\n",
    "#         self.val = val\n",
    "#         self.left = left\n",
    "#         self.right = right\n",
    "class Solution:\n",
    "    def isBalanced(self, root) -> bool:\n",
    "        \n",
    "        def dfs(root):\n",
    "            #每次返回两个值，一个判断是否是平衡树(True/False)，一个记录当前树的高度(h)\n",
    "            if not root: return [True, 0]\n",
    "            \n",
    "            left, right = dfs(root.left), dfs(root.right)\n",
    "            #左右子树是否是平衡树 and 本身是否是平衡树\n",
    "            balanced = left[0] and right[0] and abs(left[1] - right[1]) <= 1\n",
    "            return [balanced, 1 + max(left[1], right[1])]\n",
    "\n",
    "        \n",
    "        return dfs(root)[0]"
   ]
  },
  {
   "cell_type": "code",
   "execution_count": 34,
   "metadata": {},
   "outputs": [],
   "source": [
    "#递归\n",
    "\n",
    "# Definition for a binary tree node.\n",
    "# class TreeNode:\n",
    "#     def __init__(self, val=0, left=None, right=None):\n",
    "#         self.val = val\n",
    "#         self.left = left\n",
    "#         self.right = right\n",
    "class Solution:\n",
    "    def isBalanced(self, root) -> bool:\n",
    "        \n",
    "        def getHeight(root):\n",
    "            #返回以该节点为根节点的二叉树的高度，如果不是二叉搜索树了则返回-1\n",
    "            if not root: return 0\n",
    "            \n",
    "            #如果左子树不是平衡树，直接返回-1\n",
    "            leftHeight = getHeight(root.left)\n",
    "            if leftHeight == -1: return -1\n",
    "            #如果右子树不是平衡树，直接返回-1\n",
    "            rightHeight = getHeight(root.right)\n",
    "            if rightHeight == -1: return -1\n",
    "            \n",
    "            \n",
    "            if abs(leftHeight - rightHeight) <= 1:\n",
    "                return 1 + max(leftHeight, rightHeight)\n",
    "            else:\n",
    "                return -1\n",
    "        \n",
    "        return False if getHeight(root) == -1 else True"
   ]
  },
  {
   "cell_type": "markdown",
   "metadata": {},
   "source": [
    "## 257. Binary Tree Paths二叉树的所有路径"
   ]
  },
  {
   "cell_type": "markdown",
   "metadata": {},
   "source": [
    "Given the root of a binary tree, return all root-to-leaf paths in any order.\n",
    "\n",
    "A leaf is a node with no children.\n",
    "\n",
    " \n",
    "\n",
    "Example 1:\n",
    "\n",
    "\n",
    "Input: root = [1,2,3,null,5]\n",
    "Output: [\"1->2->5\",\"1->3\"]\n",
    "Example 2:\n",
    "\n",
    "Input: root = [1]\n",
    "Output: [\"1\"]"
   ]
  },
  {
   "cell_type": "code",
   "execution_count": 1,
   "metadata": {},
   "outputs": [],
   "source": [
    "# Definition for a binary tree node.\n",
    "# class TreeNode:\n",
    "#     def __init__(self, val=0, left=None, right=None):\n",
    "#         self.val = val\n",
    "#         self.left = left\n",
    "#         self.right = right\n",
    "class Solution:\n",
    "    def binaryTreePaths(self, root) -> list:\n",
    "        ans = []\n",
    "        path = []\n",
    "        \n",
    "        def dfs(root):\n",
    "            path.append(str(root.val))\n",
    "            if not root.left and not root.right:\n",
    "                line = '->'.join(path)\n",
    "                ans.append(line)\n",
    "            else:\n",
    "                if root.left: dfs(root.left)\n",
    "                if root.right: dfs(root.right)\n",
    "            path.pop()\n",
    "        \n",
    "        if root: dfs(root)\n",
    "        return ans      "
   ]
  },
  {
   "cell_type": "markdown",
   "metadata": {},
   "source": [
    "## 404.左叶子之和Sum of Left Leaves"
   ]
  },
  {
   "cell_type": "markdown",
   "metadata": {},
   "source": [
    "Given the root of a binary tree, return the sum of all left leaves.\n",
    "\n",
    "A leaf is a node with no children. A left leaf is a leaf that is the left child of another node.\n",
    "\n",
    " \n",
    "\n",
    "Example 1:\n",
    "\n",
    "\n",
    "Input: root = [3,9,20,null,null,15,7]\n",
    "Output: 24\n",
    "Explanation: There are two left leaves in the binary tree, with values 9 and 15 respectively.\n",
    "Example 2:\n",
    "\n",
    "Input: root = [1]\n",
    "Output: 0"
   ]
  },
  {
   "cell_type": "code",
   "execution_count": null,
   "metadata": {},
   "outputs": [],
   "source": [
    "# Definition for a binary tree node.\n",
    "# class TreeNode:\n",
    "#     def __init__(self, val=0, left=None, right=None):\n",
    "#         self.val = val\n",
    "#         self.left = left\n",
    "#         self.right = right\n",
    "class Solution:\n",
    "    def sumOfLeftLeaves(self, root) -> int:"
   ]
  },
  {
   "cell_type": "code",
   "execution_count": null,
   "metadata": {},
   "outputs": [],
   "source": []
  },
  {
   "cell_type": "code",
   "execution_count": null,
   "metadata": {},
   "outputs": [],
   "source": []
  },
  {
   "cell_type": "code",
   "execution_count": null,
   "metadata": {},
   "outputs": [],
   "source": []
  },
  {
   "cell_type": "code",
   "execution_count": null,
   "metadata": {},
   "outputs": [],
   "source": []
  },
  {
   "cell_type": "code",
   "execution_count": null,
   "metadata": {},
   "outputs": [],
   "source": []
  },
  {
   "cell_type": "code",
   "execution_count": null,
   "metadata": {},
   "outputs": [],
   "source": []
  },
  {
   "cell_type": "code",
   "execution_count": null,
   "metadata": {},
   "outputs": [],
   "source": []
  },
  {
   "cell_type": "markdown",
   "metadata": {},
   "source": [
    "# 二叉树的修改与构造"
   ]
  },
  {
   "cell_type": "markdown",
   "metadata": {},
   "source": [
    "## 226. Invert Binary Tree翻转二叉树"
   ]
  },
  {
   "cell_type": "markdown",
   "metadata": {},
   "source": [
    "Given the root of a binary tree, invert the tree, and return its root.\n",
    "\n",
    " \n",
    "\n",
    "Example 1:\n",
    "\n",
    "\n",
    "Input: root = [4,2,7,1,3,6,9]\n",
    "Output: [4,7,2,9,6,3,1]\n",
    "Example 2:\n",
    "\n",
    "\n",
    "Input: root = [2,1,3]\n",
    "Output: [2,3,1]\n",
    "Example 3:\n",
    "\n",
    "Input: root = []\n",
    "Output: []"
   ]
  },
  {
   "cell_type": "markdown",
   "metadata": {},
   "source": [
    "法一：递归(DFS)   \n",
    "前序遍历"
   ]
  },
  {
   "cell_type": "code",
   "execution_count": 1,
   "metadata": {},
   "outputs": [],
   "source": [
    "# Definition for a binary tree node.\n",
    "# class TreeNode:\n",
    "#     def __init__(self, val=0, left=None, right=None):\n",
    "#         self.val = val\n",
    "#         self.left = left\n",
    "#         self.right = right\n",
    "class Solution:\n",
    "    def invertTree(self, root):\n",
    "        if not root: return\n",
    "        \n",
    "        #swap the children\n",
    "        root.left, root.right = root.right, root.left\n",
    "\n",
    "        self.invertTree(root.left)\n",
    "        self.invertTree(root.right)\n",
    "        return root"
   ]
  },
  {
   "cell_type": "markdown",
   "metadata": {},
   "source": [
    "法二：迭代(DFS)   \n",
    "前序遍历"
   ]
  },
  {
   "cell_type": "code",
   "execution_count": 2,
   "metadata": {},
   "outputs": [],
   "source": [
    "# Definition for a binary tree node.\n",
    "# class TreeNode:\n",
    "#     def __init__(self, val=0, left=None, right=None):\n",
    "#         self.val = val\n",
    "#         self.left = left\n",
    "#         self.right = right\n",
    "class Solution:\n",
    "    def invertTree(self, root):\n",
    "        if not root: return root\n",
    "        st = []\n",
    "        st.append(root)\n",
    "        while st:\n",
    "            node = st.pop()\n",
    "            node.left, node.right = node.right, node.left #中\n",
    "            \n",
    "            #因为取node时从st pop，所以先加右结点，后pop出右结点；后加左节点，先pop出左节点\n",
    "            if node.right:\n",
    "                st.append(node.right) #右\n",
    "            if node.left:\n",
    "                st.append(node.left) # 左\n",
    "                \n",
    "        return root"
   ]
  },
  {
   "cell_type": "markdown",
   "metadata": {},
   "source": [
    "法三：迭代(BFS)   \n",
    "从上到下一层层翻转"
   ]
  },
  {
   "cell_type": "code",
   "execution_count": 4,
   "metadata": {},
   "outputs": [],
   "source": [
    "# Definition for a binary tree node.\n",
    "# class TreeNode:\n",
    "#     def __init__(self, val=0, left=None, right=None):\n",
    "#         self.val = val\n",
    "#         self.left = left\n",
    "#         self.right = right\n",
    "class Solution:\n",
    "    def invertTree(self, root):\n",
    "        q = collections.deque()\n",
    "        if root:\n",
    "            q.append(root)\n",
    "        while q:\n",
    "            qLen = len(q)\n",
    "            for i in range(qLen):\n",
    "                node = q.popleft()\n",
    "                node.left, node.right = node.right, node.left\n",
    "                if node.left:\n",
    "                    q.append(node.left)\n",
    "                if node.right:\n",
    "                    q.append(node.right)\n",
    "        return root\n",
    "            "
   ]
  },
  {
   "cell_type": "code",
   "execution_count": null,
   "metadata": {},
   "outputs": [],
   "source": [
    "## 106. Construct Binary Tree from Inorder and Postorder Traversal"
   ]
  }
 ],
 "metadata": {
  "kernelspec": {
   "display_name": "Python 3",
   "language": "python",
   "name": "python3"
  },
  "language_info": {
   "codemirror_mode": {
    "name": "ipython",
    "version": 3
   },
   "file_extension": ".py",
   "mimetype": "text/x-python",
   "name": "python",
   "nbconvert_exporter": "python",
   "pygments_lexer": "ipython3",
   "version": "3.7.0"
  },
  "toc": {
   "base_numbering": 1,
   "nav_menu": {},
   "number_sections": true,
   "sideBar": true,
   "skip_h1_title": false,
   "title_cell": "Table of Contents",
   "title_sidebar": "Contents",
   "toc_cell": false,
   "toc_position": {
    "height": "calc(100% - 180px)",
    "left": "10px",
    "top": "150px",
    "width": "418.594px"
   },
   "toc_section_display": true,
   "toc_window_display": true
  }
 },
 "nbformat": 4,
 "nbformat_minor": 2
}
