{
 "cells": [
  {
   "cell_type": "markdown",
   "metadata": {},
   "source": [
    "**基本思想：**   \n",
    "\n",
    "动态规划中每一个状态一定是由上一个状态推导出来的，这一点就区分于贪心，贪心没有状态推导，而是从局部直接选最优的\n",
    "\n",
    "**解题步骤：**   \n",
    "\n",
    "* 确定dp数组（dp table）以及下标的含义\n",
    "* 确定递推公式\n",
    "* dp数组如何初始化\n",
    "* 确定遍历顺序\n",
    "* 举例推导dp数组"
   ]
  },
  {
   "cell_type": "markdown",
   "metadata": {},
   "source": [
    "# 基础题目"
   ]
  },
  {
   "cell_type": "markdown",
   "metadata": {},
   "source": [
    "## 509.Fibonacci Number斐波那契数"
   ]
  },
  {
   "cell_type": "markdown",
   "metadata": {},
   "source": [
    "The Fibonacci numbers, commonly denoted F(n) form a sequence, called the Fibonacci sequence, such that each number is the sum of the two preceding ones, starting from 0 and 1. That is,\n",
    "\n",
    "F(0) = 0, F(1) = 1\n",
    "F(n) = F(n - 1) + F(n - 2), for n > 1.\n",
    "Given n, calculate F(n).\n",
    "\n",
    " \n",
    "\n",
    "Example 1:\n",
    "\n",
    "Input: n = 2\n",
    "Output: 1\n",
    "Explanation: F(2) = F(1) + F(0) = 1 + 0 = 1.   \n",
    "\n",
    "Example 2:\n",
    "\n",
    "Input: n = 3\n",
    "Output: 2\n",
    "Explanation: F(3) = F(2) + F(1) = 1 + 1 = 2.   \n",
    "\n",
    "Example 3:\n",
    "\n",
    "Input: n = 4\n",
    "Output: 3\n",
    "Explanation: F(4) = F(3) + F(2) = 2 + 1 = 3."
   ]
  },
  {
   "cell_type": "code",
   "execution_count": 1,
   "metadata": {},
   "outputs": [],
   "source": [
    "class Solution:\n",
    "    def fib(self, n: int) -> int:  \n",
    "        #防止n为0时，ans[1]报错\n",
    "        if n <= 1: return n\n",
    "        \n",
    "        ans = [0] * (n + 1)\n",
    "        \n",
    "        #dp数字初始化\n",
    "        ans[0] = 0\n",
    "        ans[1] = 1\n",
    "        for i in range(2, n + 1):\n",
    "            #状态转移方程\n",
    "            ans[i] = ans[i-1] + ans[i-2]\n",
    "        return ans[n]"
   ]
  },
  {
   "cell_type": "code",
   "execution_count": 8,
   "metadata": {},
   "outputs": [],
   "source": [
    "#迭代法：\n",
    "class Solution:\n",
    "    def fib(self, n: int) -> int:  \n",
    "        if n <= 1: return n\n",
    "        a, b = 0, 1\n",
    "        for i in range(1, n):\n",
    "            a, b = b, a + b\n",
    "        return b"
   ]
  },
  {
   "cell_type": "markdown",
   "metadata": {},
   "source": [
    "## 70.Climbing Stairs爬楼梯"
   ]
  },
  {
   "cell_type": "markdown",
   "metadata": {},
   "source": [
    "You are climbing a staircase. It takes n steps to reach the top.\n",
    "\n",
    "Each time you can either climb 1 or 2 steps. In how many distinct ways can you climb to the top?\n",
    "\n",
    " \n",
    "\n",
    "Example 1:\n",
    "\n",
    "Input: n = 2\n",
    "Output: 2\n",
    "Explanation: There are two ways to climb to the top.\n",
    "1. 1 step + 1 step\n",
    "2. 2 steps  \n",
    "\n",
    "Example 2:\n",
    "\n",
    "Input: n = 3\n",
    "Output: 3\n",
    "Explanation: There are three ways to climb to the top.\n",
    "1. 1 step + 1 step + 1 step\n",
    "2. 1 step + 2 steps\n",
    "3. 2 steps + 1 step"
   ]
  },
  {
   "cell_type": "code",
   "execution_count": 4,
   "metadata": {},
   "outputs": [],
   "source": [
    "class Solution:\n",
    "    def climbStairs(self, n: int) -> int:\n",
    "        #从dp[i]的定义可以看出，dp[i] 可以有两个方向推出来。\n",
    "        #首先是dp[i - 1]，上i-1层楼梯，有dp[i - 1]种方法，那么再一步跳一个台阶不就是dp[i]了么。\n",
    "        #还有就是dp[i - 2]，上i-2层楼梯，有dp[i - 2]种方法，那么再一步跳两个台阶不就是dp[i]了么。\n",
    "        #那么dp[i]就是 dp[i - 1]与dp[i - 2]之和！\n",
    "        \n",
    "        if n <= 1: return n\n",
    "        \n",
    "        dp = [0] * (n + 1)\n",
    "        dp[1] = 1\n",
    "        dp[2] = 2\n",
    "        for i in range(3, n + 1):\n",
    "            dp[i] = dp[i-1] + dp[i-2]\n",
    "        \n",
    "        return dp[n]"
   ]
  },
  {
   "cell_type": "code",
   "execution_count": null,
   "metadata": {},
   "outputs": [],
   "source": [
    "#优化空间复杂度\n",
    "class Solution:\n",
    "    def climbStairs(self, n: int) -> int:\n",
    "        \n",
    "        if n <= 1: return n\n",
    "        \n",
    "        dp = [0] * 3\n",
    "        dp[1] = 1\n",
    "        dp[2] = 2\n",
    "        s = 0\n",
    "        for i in range(3, n + 1):\n",
    "            s = dp[]\n",
    "            dp[i] = dp[i-1] + dp[i-2]\n",
    "        \n",
    "        return dp[n]"
   ]
  },
  {
   "cell_type": "markdown",
   "metadata": {},
   "source": [
    "## 746.Min Cost Climbing Stairs使用最小花费爬楼梯"
   ]
  },
  {
   "cell_type": "markdown",
   "metadata": {},
   "source": [
    "You are given an integer array cost where cost[i] is the cost of ith step on a staircase. Once you pay the cost, you can either climb one or two steps.\n",
    "\n",
    "You can either start from the step with index 0, or the step with index 1.\n",
    "\n",
    "Return the minimum cost to reach the top of the floor.\n",
    "\n",
    " \n",
    "\n",
    "Example 1:\n",
    "\n",
    "Input: cost = [10,15,20]\n",
    "Output: 15\n",
    "Explanation: You will start at index 1.\n",
    "- Pay 15 and climb two steps to reach the top.\n",
    "The total cost is 15.\n",
    "Example 2:\n",
    "\n",
    "Input: cost = [1,100,1,1,1,100,1,1,100,1]\n",
    "Output: 6\n",
    "Explanation: You will start at index 0.\n",
    "- Pay 1 and climb two steps to reach index 2.\n",
    "- Pay 1 and climb two steps to reach index 4.\n",
    "- Pay 1 and climb two steps to reach index 6.\n",
    "- Pay 1 and climb one step to reach index 7.\n",
    "- Pay 1 and climb two steps to reach index 9.\n",
    "- Pay 1 and climb one step to reach the top.\n",
    "The total cost is 6."
   ]
  },
  {
   "cell_type": "code",
   "execution_count": 7,
   "metadata": {},
   "outputs": [],
   "source": [
    "class Solution:\n",
    "    def minCostClimbingStairs(self, cost:list) -> int:\n",
    "        n = len(cost)\n",
    "        dp = [0] * n\n",
    "        dp[0] = cost[0]\n",
    "        dp[1] = cost[1]\n",
    "        \n",
    "        for i in range(2,n):\n",
    "            dp[i] = min(dp[i-1], dp[i-2]) + cost[i]\n",
    "            \n",
    "        return min(dp[n-1], dp[n-2])"
   ]
  },
  {
   "cell_type": "markdown",
   "metadata": {},
   "source": [
    "## 62.不同路径Unique Paths"
   ]
  },
  {
   "cell_type": "markdown",
   "metadata": {},
   "source": [
    "There is a robot on an m x n grid. The robot is initially located at the top-left corner (i.e., grid[0][0]). The robot tries to move to the bottom-right corner (i.e., grid[m - 1][n - 1]). The robot can only move either down or right at any point in time.\n",
    "\n",
    "Given the two integers m and n, return the number of possible unique paths that the robot can take to reach the bottom-right corner.\n",
    "\n",
    "The test cases are generated so that the answer will be less than or equal to 2 * 109.\n",
    "\n",
    " \n",
    "\n",
    "Example 1:\n",
    "\n",
    "\n",
    "Input: m = 3, n = 7\n",
    "Output: 28\n",
    "Example 2:\n",
    "\n",
    "Input: m = 3, n = 2\n",
    "Output: 3\n",
    "Explanation: From the top-left corner, there are a total of 3 ways to reach the bottom-right corner:\n",
    "1. Right -> Down -> Down\n",
    "2. Down -> Down -> Right\n",
    "3. Down -> Right -> Down"
   ]
  },
  {
   "cell_type": "code",
   "execution_count": 64,
   "metadata": {},
   "outputs": [],
   "source": [
    "class Solution:\n",
    "    def uniquePaths(self, m: int, n: int) -> int:\n",
    "        dp = [[1] * n for _ in range(m)]\n",
    "        for i in range(1, m):\n",
    "            for j in range(1, n):\n",
    "                dp[i][j] = dp[i - 1][j] + dp[i][j - 1]\n",
    "        return dp[m - 1][n - 1]"
   ]
  },
  {
   "cell_type": "code",
   "execution_count": 65,
   "metadata": {},
   "outputs": [
    {
     "data": {
      "text/plain": [
       "10"
      ]
     },
     "execution_count": 65,
     "metadata": {},
     "output_type": "execute_result"
    }
   ],
   "source": [
    "m=Solution()\n",
    "m.uniquePaths(3,4)"
   ]
  },
  {
   "cell_type": "markdown",
   "metadata": {},
   "source": [
    "## 63.有障碍的不同路径Unique Paths II"
   ]
  },
  {
   "cell_type": "markdown",
   "metadata": {},
   "source": [
    "You are given an m x n integer array grid. There is a robot initially located at the top-left corner (i.e., grid[0][0]). The robot tries to move to the bottom-right corner (i.e., grid[m-1][n-1]). The robot can only move either down or right at any point in time.\n",
    "\n",
    "An obstacle and space are marked as 1 or 0 respectively in grid. A path that the robot takes cannot include any square that is an obstacle.\n",
    "\n",
    "Return the number of possible unique paths that the robot can take to reach the bottom-right corner.\n",
    "\n",
    "The testcases are generated so that the answer will be less than or equal to 2 * 109.\n",
    "\n",
    " \n",
    "\n",
    "Example 1:\n",
    "\n",
    "\n",
    "Input: obstacleGrid = [[0,0,0],[0,1,0],[0,0,0]]\n",
    "Output: 2\n",
    "Explanation: There is one obstacle in the middle of the 3x3 grid above.\n",
    "There are two ways to reach the bottom-right corner:\n",
    "1. Right -> Right -> Down -> Down\n",
    "2. Down -> Down -> Right -> Right\n",
    "Example 2:\n",
    "\n",
    "\n",
    "Input: obstacleGrid = [[0,1],[0,0]]\n",
    "Output: 1"
   ]
  },
  {
   "cell_type": "code",
   "execution_count": 73,
   "metadata": {},
   "outputs": [],
   "source": [
    "class Solution:\n",
    "    def uniquePathsWithObstacles(self, obstacleGrid) -> int:\n",
    "        m = len(obstacleGrid)\n",
    "        n = len(obstacleGrid[0])\n",
    "        #这里不能把第一行和第一列都直接定义为1，因为第一行或第一列可能存在障碍\n",
    "        dp = [[0] * n for i in range(m)]\n",
    "        \n",
    "        for i in range(0, m):\n",
    "            if obstacleGrid[i][0] == 1:\n",
    "                break\n",
    "            else:\n",
    "                dp[i][0] = 1\n",
    "        \n",
    "        for j in range(0, n):\n",
    "            if obstacleGrid[0][j] == 1:\n",
    "                break\n",
    "            else:\n",
    "                dp[0][j] = 1\n",
    "\n",
    "        for i in range(1, m):\n",
    "            for j in range(1, n):\n",
    "                if obstacleGrid[i][j] == 0:\n",
    "                    dp[i][j] = dp[i][j - 1] + dp[i - 1][j]\n",
    "        \n",
    "        return dp[m - 1][n - 1]"
   ]
  },
  {
   "cell_type": "markdown",
   "metadata": {},
   "source": [
    "## 64最小路径和"
   ]
  },
  {
   "cell_type": "markdown",
   "metadata": {},
   "source": [
    "Given a m x n grid filled with non-negative numbers, find a path from top left to bottom right, which minimizes the sum of all numbers along its path.\n",
    "\n",
    "Note: You can only move either down or right at any point in time.\n",
    "\n",
    " \n",
    "\n",
    "Example 1:\n",
    "\n",
    "\n",
    "Input: grid = [[1,3,1],[1,5,1],[4,2,1]]\n",
    "Output: 7\n",
    "Explanation: Because the path 1 → 3 → 1 → 1 → 1 minimizes the sum.\n",
    "Example 2:\n",
    "\n",
    "Input: grid = [[1,2,3],[4,5,6]]\n",
    "Output: 12\n",
    " \n",
    "\n",
    "Constraints:\n",
    "\n",
    "m == grid.length\n",
    "n == grid[i].length\n",
    "1 <= m, n <= 200\n",
    "0 <= grid[i][j] <= 100"
   ]
  },
  {
   "cell_type": "code",
   "execution_count": 3,
   "metadata": {},
   "outputs": [],
   "source": [
    "class Solution:\n",
    "    def minPathSum(self, grid: list([int])) -> int:\n",
    "        r=len(grid)\n",
    "        c=len(grid[0])\n",
    "        dp=[[[] for j in range(c+1)]for i in range(r+1)]\n",
    "        dp[0][0]=grid[0][0]\n",
    "        for i in range(1,c):\n",
    "            dp[0][i]=dp[0][i-1]+grid[0][i]\n",
    "        for i in range(1,r):\n",
    "            dp[i][0]=dp[i-1][0]+grid[i][0]\n",
    "        for i in range(1,r):\n",
    "            for j in range(1,c):\n",
    "                dp[i][j]=min(dp[i][j-1],dp[i-1][j])+grid[i][j]\n",
    "        return dp[r-1][c-1]"
   ]
  },
  {
   "cell_type": "markdown",
   "metadata": {},
   "source": [
    "## 华为笔试：自行车障碍比赛"
   ]
  },
  {
   "cell_type": "markdown",
   "metadata": {},
   "source": [
    "一块场地进行自行车比赛，场地右0障碍、平地（1分钟通行）、2草地、3泥地组成。障碍无法通行。给定一块地图，计算从左上到右下最短耗时，只允许水平或垂直方向骑行。"
   ]
  },
  {
   "cell_type": "code",
   "execution_count": 1,
   "metadata": {},
   "outputs": [],
   "source": [
    "class Solution:\n",
    "    def minPathSumHuawei(self, grid: list([int])) -> int:\n",
    "        m = len(grid)\n",
    "        n = len(grid[0])\n",
    "\n",
    "        dp = [[0] * n for i in range(m)]\n",
    "        dp[0][0] = grid[0][0]\n",
    "        \n",
    "        for i in range(1, m):\n",
    "            if grid[i][0] == 0:\n",
    "                grid[i][0] = float('inf')\n",
    "            else:\n",
    "                dp[i][0] = grid[i][0] + dp[i - 1][0]\n",
    "        \n",
    "        for j in range(1, n):\n",
    "            if grid[0][j] == 0:\n",
    "                grid[0][j] = float('inf')\n",
    "            else:\n",
    "                dp[0][j] = grid[0][j] + dp[0][j - 1]\n",
    "\n",
    "        for i in range(1, m):\n",
    "            for j in range(1, n):\n",
    "                if grid[i][j] == 0:\n",
    "                    dp[i][j] = float('inf')\n",
    "                else:\n",
    "                    dp[i][j] = min(dp[i][j - 1], dp[i - 1][j]) + grid[i][j]\n",
    "        \n",
    "        return dp[m - 1][n - 1]"
   ]
  },
  {
   "cell_type": "code",
   "execution_count": 3,
   "metadata": {},
   "outputs": [
    {
     "data": {
      "text/plain": [
       "8"
      ]
     },
     "execution_count": 3,
     "metadata": {},
     "output_type": "execute_result"
    }
   ],
   "source": [
    "m=Solution()\n",
    "m.minPathSumHuawei([[1,0,3],[1,0,3],[2,0,2]])"
   ]
  },
  {
   "cell_type": "markdown",
   "metadata": {},
   "source": [
    "## 343.整数拆分Integer Break"
   ]
  },
  {
   "cell_type": "markdown",
   "metadata": {},
   "source": [
    "Given an integer n, break it into the sum of k positive integers, where k >= 2, and maximize the product of those integers.\n",
    "\n",
    "Return the maximum product you can get.\n",
    "\n",
    " \n",
    "\n",
    "Example 1:\n",
    "\n",
    "Input: n = 2\n",
    "Output: 1\n",
    "Explanation: 2 = 1 + 1, 1 × 1 = 1.\n",
    "Example 2:\n",
    "\n",
    "Input: n = 10\n",
    "Output: 36\n",
    "Explanation: 10 = 3 + 3 + 4, 3 × 3 × 4 = 36."
   ]
  },
  {
   "cell_type": "markdown",
   "metadata": {},
   "source": [
    "结论：分解的数都由2和3组成，且2的个数不超过两个。\n",
    "证明：\n",
    "1. n不大于5：n>=5时, a = 3(a - 3) = 3a - 9 > a，所以n不大于5\n",
    "2. n不为1，否则1*一个数不变\n",
    "3. 2不能超过2个，6 = 2+2+2=3+3 3 * 3 > 2 * 2 * 2 \n",
    "4. 4 = 2 + 2 = 2 * 2"
   ]
  },
  {
   "cell_type": "code",
   "execution_count": 81,
   "metadata": {},
   "outputs": [],
   "source": [
    "#动规方法\n",
    "class Solution:\n",
    "    def integerBreak(self, n: int) -> int:\n",
    "        dp = [0] * (n + 1)\n",
    "        dp[2] = 1\n",
    "        \n",
    "        for i in range(3, n + 1):\n",
    "            for j in range(1, i - 1):\n",
    "                dp[i] = max(dp[i], max(dp[i - j] * j, (i - j) * j))\n",
    "        return dp[n]"
   ]
  },
  {
   "cell_type": "code",
   "execution_count": 80,
   "metadata": {},
   "outputs": [],
   "source": [
    "#贪心方法\n",
    "class Solution:\n",
    "    def integerBreak(self, n: int) -> int:\n",
    "        #题目要求k>=2，至少拆分成两个数\n",
    "        if n <= 3: return 1 * (n - 1)\n",
    "        \n",
    "        p = 1\n",
    "        while n >= 5:\n",
    "            p *= 3\n",
    "            n -= 3\n",
    "        return p * n"
   ]
  },
  {
   "cell_type": "markdown",
   "metadata": {},
   "source": [
    "## <font color = \"red\">96.Unique Binary Search Trees不同的二叉搜索树"
   ]
  },
  {
   "cell_type": "markdown",
   "metadata": {},
   "source": [
    "Given an integer n, return the number of structurally unique BST's (binary search trees) which has exactly n nodes of unique values from 1 to n.\n",
    "\n",
    " \n",
    "\n",
    "Example 1:\n",
    "\n",
    "\n",
    "Input: n = 3\n",
    "Output: 5\n",
    "Example 2:\n",
    "\n",
    "Input: n = 1\n",
    "Output: 1\n",
    " "
   ]
  },
  {
   "cell_type": "markdown",
   "metadata": {},
   "source": [
    "# 背包问题"
   ]
  },
  {
   "cell_type": "markdown",
   "metadata": {},
   "source": [
    "01背包： for先物品再背包， for背包倒序 \n",
    "\n",
    "完全背包： for背包正序   \n",
    "* 组合：for先物品再背包\n",
    "* 排列：for先背包再物品"
   ]
  },
  {
   "cell_type": "markdown",
   "metadata": {},
   "source": [
    "## 01背包"
   ]
  },
  {
   "cell_type": "markdown",
   "metadata": {},
   "source": [
    "n个物品放入容量为j的背包里，每个物品有各自的价值，求背包放入物品的最大价值。每个物品仅有一个。"
   ]
  },
  {
   "cell_type": "markdown",
   "metadata": {},
   "source": [
    "**面试问题：** \n",
    "\n",
    "dp[i][j]和dp[j]的含义   \n",
    "一维和二维数组做法两个for循环可以颠倒顺序吗？      \n",
    "for j 的循环为什么一维的时候要倒序，二维不用"
   ]
  },
  {
   "cell_type": "markdown",
   "metadata": {},
   "source": [
    "**二维做法：**\n",
    "\n",
    "dp[i][j]的含义：从下标为[0-i]的物品里任意取，放进容量为j的背包，价值总和最大是多少。"
   ]
  },
  {
   "cell_type": "code",
   "execution_count": 20,
   "metadata": {},
   "outputs": [],
   "source": [
    "#用二维dp数组做\n",
    "\n",
    "def test_2_wei_bag_problem():\n",
    "    weight = [1, 3, 4]\n",
    "    value = [15, 20, 30]\n",
    "    bag_weight = 4\n",
    "    \n",
    "    #初始化\n",
    "    dp = [[0] * (bag_weight + 1) for _ in range(len(weight) + 1)]\n",
    "    \n",
    "    for j in range(bag_weight):\n",
    "        if weight[0] <= j:\n",
    "            dp[0][j] = dp[0][j - weight[0]] + value[0]\n",
    "    \n",
    "    \n",
    "    #遍历\n",
    "    for i in range(1, len(weight)):\n",
    "        for j in range(bag_weight + 1):\n",
    "            if j < weight[i]:\n",
    "                dp[i][j] = dp[i - 1][j] \n",
    "            else:\n",
    "                dp[i][j] = max(dp[i - 1][j], dp[i][j - weight[i]] + value[i])\n",
    "    \n",
    "    \n",
    "    return dp[len(weight) - 1][bag_weight]"
   ]
  },
  {
   "cell_type": "code",
   "execution_count": 21,
   "metadata": {},
   "outputs": [
    {
     "data": {
      "text/plain": [
       "35"
      ]
     },
     "execution_count": 21,
     "metadata": {},
     "output_type": "execute_result"
    }
   ],
   "source": [
    "test_2_wei_bag_problem()"
   ]
  },
  {
   "cell_type": "markdown",
   "metadata": {},
   "source": [
    "**一维做法：（滚动数组）**\n",
    "\n",
    "dp[j]的含义：容量为j的背包，所背的物品价值可以最大为dp[j]"
   ]
  },
  {
   "cell_type": "code",
   "execution_count": 57,
   "metadata": {},
   "outputs": [],
   "source": [
    "# 用一维dp数组做\n",
    "\n",
    "def test_1_wei_bag_problem():\n",
    "    weight = [1, 3, 4]\n",
    "    value = [15, 20, 30]\n",
    "    bag_weight = 4\n",
    "\n",
    "    #初始化\n",
    "    dp = [0] * (bag_weight + 1)\n",
    "    \n",
    "    #遍历\n",
    "    for i in range(len(weight)):\n",
    "        for j in range(bag_weight, weight[i] - 1, -1):\n",
    "            dp[j] = max(dp[j], dp[j - weight[i]] + value[i])\n",
    "    \n",
    "    return dp[bag_weight]"
   ]
  },
  {
   "cell_type": "code",
   "execution_count": 36,
   "metadata": {},
   "outputs": [
    {
     "data": {
      "text/plain": [
       "35"
      ]
     },
     "execution_count": 36,
     "metadata": {},
     "output_type": "execute_result"
    }
   ],
   "source": [
    "test_1_wei_bag_problem()"
   ]
  },
  {
   "cell_type": "markdown",
   "metadata": {},
   "source": [
    "### 416. 分割等和子集Partition Equal Subset Sum"
   ]
  },
  {
   "cell_type": "markdown",
   "metadata": {},
   "source": [
    "Given a non-empty array nums containing only positive integers, find if the array can be partitioned into two subsets such that the sum of elements in both subsets is equal.\n",
    "\n",
    " \n",
    "\n",
    "Example 1:\n",
    "\n",
    "Input: nums = [1,5,11,5]\n",
    "Output: true\n",
    "Explanation: The array can be partitioned as [1, 5, 5] and [11].\n",
    "Example 2:\n",
    "\n",
    "Input: nums = [1,2,3,5]\n",
    "Output: false\n",
    "Explanation: The array cannot be partitioned into equal sum subsets.\n",
    "\n",
    "Constraints:\n",
    "\n",
    "1 <= nums.length <= 200\n",
    "1 <= nums[i] <= 100"
   ]
  },
  {
   "cell_type": "code",
   "execution_count": 47,
   "metadata": {},
   "outputs": [],
   "source": [
    "class Solution:\n",
    "    def canPartition(self, nums: list) -> bool:\n",
    "        if sum(nums) % 2 ==1: \n",
    "            return False\n",
    "        \n",
    "        else:\n",
    "            target = int(sum(nums) / 2)\n",
    "            dp = [0] * (20001)\n",
    "\n",
    "            for i in range(len(nums)):\n",
    "                for j in range(target, nums[i] - 1, -1):\n",
    "                    dp[j] = max(dp[j], dp[j - nums[i]] + nums[i])\n",
    "            \n",
    "            return target == dp[target]"
   ]
  },
  {
   "cell_type": "code",
   "execution_count": 49,
   "metadata": {},
   "outputs": [
    {
     "data": {
      "text/plain": [
       "False"
      ]
     },
     "execution_count": 49,
     "metadata": {},
     "output_type": "execute_result"
    }
   ],
   "source": [
    "m = Solution()\n",
    "m.canPartition( [1,2,3,5])"
   ]
  },
  {
   "cell_type": "markdown",
   "metadata": {},
   "source": [
    "### 1049. 最后一块石头的重量 IILast Stone Weight II"
   ]
  },
  {
   "cell_type": "markdown",
   "metadata": {},
   "source": [
    "You are given an array of integers stones where stones[i] is the weight of the ith stone.\n",
    "\n",
    "We are playing a game with the stones. On each turn, we choose any two stones and smash them together. Suppose the stones have weights x and y with x <= y. The result of this smash is:\n",
    "\n",
    "If x == y, both stones are destroyed, and\n",
    "If x != y, the stone of weight x is destroyed, and the stone of weight y has new weight y - x.\n",
    "At the end of the game, there is at most one stone left.\n",
    "\n",
    "Return the smallest possible weight of the left stone. If there are no stones left, return 0.\n",
    "\n",
    " \n",
    "\n",
    "Example 1:\n",
    "\n",
    "Input: stones = [2,7,4,1,8,1]\n",
    "Output: 1\n",
    "Explanation:\n",
    "We can combine 2 and 4 to get 2, so the array converts to [2,7,1,8,1] then,\n",
    "we can combine 7 and 8 to get 1, so the array converts to [2,1,1,1] then,\n",
    "we can combine 2 and 1 to get 1, so the array converts to [1,1,1] then,\n",
    "we can combine 1 and 1 to get 0, so the array converts to [1], then that's the optimal value.\n",
    "Example 2:\n",
    "\n",
    "Input: stones = [31,26,33,21,40]\n",
    "Output: 5\n",
    " \n",
    "\n",
    "Constraints:\n",
    "\n",
    "1 <= stones.length <= 30\n",
    "1 <= stones[i] <= 100"
   ]
  },
  {
   "cell_type": "code",
   "execution_count": 50,
   "metadata": {},
   "outputs": [],
   "source": [
    "class Solution:\n",
    "    def lastStoneWeightII(self, stones: list) -> int:\n",
    "        s = sum(stones)\n",
    "        target = s // 2\n",
    "        \n",
    "        dp = [0] * 3001\n",
    "        \n",
    "        for i in range(len(stones)):\n",
    "            for j in range(target, stones[i] - 1, -1):\n",
    "                dp[j] = max(dp[j], dp[j - stones[i]] + stones[i])\n",
    "        \n",
    "        return s - dp[target] * 2"
   ]
  },
  {
   "cell_type": "markdown",
   "metadata": {},
   "source": [
    "### 494. 目标和Target Sum"
   ]
  },
  {
   "cell_type": "markdown",
   "metadata": {},
   "source": [
    "You are given an integer array nums and an integer target.\n",
    "\n",
    "You want to build an expression out of nums by adding one of the symbols '+' and '-' before each integer in nums and then concatenate all the integers.\n",
    "\n",
    "For example, if nums = [2, 1], you can add a '+' before 2 and a '-' before 1 and concatenate them to build the expression \"+2-1\".\n",
    "Return the number of different expressions that you can build, which evaluates to target.\n",
    "\n",
    " \n",
    "\n",
    "Example 1:\n",
    "\n",
    "Input: nums = [1,1,1,1,1], target = 3\n",
    "Output: 5\n",
    "Explanation: There are 5 ways to assign symbols to make the sum of nums be target 3.\n",
    "-1 + 1 + 1 + 1 + 1 = 3\n",
    "+1 - 1 + 1 + 1 + 1 = 3\n",
    "+1 + 1 - 1 + 1 + 1 = 3\n",
    "+1 + 1 + 1 - 1 + 1 = 3\n",
    "+1 + 1 + 1 + 1 - 1 = 3\n",
    "Example 2:\n",
    "\n",
    "Input: nums = [1], target = 1\n",
    "Output: 1\n",
    "\n",
    "Constraints:\n",
    "\n",
    "1 <= nums.length <= 20\n",
    "0 <= nums[i] <= 1000\n",
    "0 <= sum(nums[i]) <= 1000\n",
    "-1000 <= target <= 1000"
   ]
  },
  {
   "cell_type": "markdown",
   "metadata": {},
   "source": [
    "**背包组合问题：**   \n",
    "dp[j] 表示：填满j（包括j）这么大容积的包，有dp[i]种方法"
   ]
  },
  {
   "cell_type": "markdown",
   "metadata": {},
   "source": [
    "满足:   \n",
    "left + right = sum,   \n",
    "left - right = target   \n",
    "解得  left = 0.5 * (target + sum)\n",
    "\n",
    "递推公式：   \n",
    "不考虑nums[i]的情况下，填满容量为j - nums[i]的背包，有dp[j - nums[i]]中方法。\n",
    "\n",
    "\n",
    "初始化：   \n",
    "从递归公式可以看出，在初始化的时候dp[0] 一定要初始化为1，因为dp[0]是在公式中一切递推结果的起源，如果dp[0]是0的话，递归结果将都是0。\n",
    "dp[0] = 1，理论上也很好解释，装满容量为0的背包，有1种方法，就是装0件物品。"
   ]
  },
  {
   "cell_type": "code",
   "execution_count": 53,
   "metadata": {},
   "outputs": [],
   "source": [
    "class Solution:\n",
    "    def findTargetSumWays(self, nums: list, target: int) -> int:\n",
    "        s = sum(nums)\n",
    "        \n",
    "        if (target + s) % 2 != 0 or abs(target) > s:\n",
    "            return 0\n",
    "        else:\n",
    "            left = (target + s) // 2\n",
    "            \n",
    "            dp = [0] * (left + 1)\n",
    "            \n",
    "            #dp初始化\n",
    "            dp[0] = 1\n",
    "            \n",
    "            for i in range(len(nums)):\n",
    "                for j in range(left, nums[i] - 1, -1):\n",
    "                    dp[j] = dp[j] + dp[j - nums[i]]\n",
    "            \n",
    "            return dp[left]       "
   ]
  },
  {
   "cell_type": "markdown",
   "metadata": {},
   "source": [
    "### 474.一和零Ones and Zeroes"
   ]
  },
  {
   "cell_type": "markdown",
   "metadata": {},
   "source": [
    "You are given an array of binary strings strs and two integers m and n.\n",
    "\n",
    "Return the size of the largest subset of strs such that there are at most m 0's and n 1's in the subset.\n",
    "\n",
    "A set x is a subset of a set y if all elements of x are also elements of y.\n",
    "\n",
    " \n",
    "\n",
    "Example 1:\n",
    "\n",
    "Input: strs = [\"10\",\"0001\",\"111001\",\"1\",\"0\"], m = 5, n = 3\n",
    "Output: 4\n",
    "Explanation: The largest subset with at most 5 0's and 3 1's is {\"10\", \"0001\", \"1\", \"0\"}, so the answer is 4.\n",
    "Other valid but smaller subsets include {\"0001\", \"1\"} and {\"10\", \"1\", \"0\"}.\n",
    "{\"111001\"} is an invalid subset because it contains 4 1's, greater than the maximum of 3.\n",
    "Example 2:\n",
    "\n",
    "Input: strs = [\"10\",\"0\",\"1\"], m = 1, n = 1\n",
    "Output: 2\n",
    "Explanation: The largest subset is {\"0\", \"1\"}, so the answer is 2.\n",
    " \n",
    "\n",
    "Constraints:\n",
    "\n",
    "1 <= strs.length <= 600\n",
    "1 <= strs[i].length <= 100\n",
    "strs[i] consists only of digits '0' and '1'.\n",
    "1 <= m, n <= 100"
   ]
  },
  {
   "cell_type": "markdown",
   "metadata": {},
   "source": [
    "思路：   \n",
    "str转换为nums[k][b]：strs中第k个数拥有的0和1的数量（b=0: 0的数量, b=1: 1的数量）\n",
    "\n",
    "1. dp[i][j]表示一共有i个0和j个1，最大的子集size.\n",
    "2. 递推公式：   \n",
    "  dp[i][j] = max(dp[i][j], dp[i-nums[k][0]][j-nums[k][1]] + 1)\n",
    "3. 初始化：   \n",
    "  dp[0][0] = 1 if nums[0][0] <= m and nums[0][1] <= n\n",
    "4. 遍历顺序：\n",
    "  x正向，i,j逆向"
   ]
  },
  {
   "cell_type": "code",
   "execution_count": 54,
   "metadata": {},
   "outputs": [],
   "source": [
    "class Solution:\n",
    "    def findMaxForm(self, strs: list, m: int, n: int) -> int:\n",
    "        nums = []\n",
    "        for x in strs:\n",
    "            l = [x.count('0'),x.count('1')]\n",
    "            nums.append(l)\n",
    "        \n",
    "        #初始化：\n",
    "        dp = [[0] * (n + 1) for _ in range(m + 1)]\n",
    "        \n",
    "        #遍历：\n",
    "        for k in range(len(strs)):\n",
    "            for i in range(m, nums[k][0] - 1, -1):\n",
    "                for j in range(n, nums[k][1] - 1, -1):\n",
    "                    dp[i][j] = max(dp[i][j], dp[i-nums[k][0]][j-nums[k][1]] + 1)\n",
    "        \n",
    "        return dp[m][n]"
   ]
  },
  {
   "cell_type": "markdown",
   "metadata": {},
   "source": [
    "## 完全背包"
   ]
  },
  {
   "cell_type": "markdown",
   "metadata": {},
   "source": [
    "每个物品可以重复取"
   ]
  },
  {
   "cell_type": "markdown",
   "metadata": {},
   "source": [
    "在完全背包中，对于一维dp数组来说，两个for循环嵌套顺序同样无所谓！\n",
    "\n",
    "因为dp[j] 是根据 下标j之前所对应的dp[j]计算出来的。只要保证下标j之前的dp[j]都是经过计算的就可以了。"
   ]
  },
  {
   "cell_type": "code",
   "execution_count": 60,
   "metadata": {},
   "outputs": [],
   "source": [
    "def test__CompletePack():\n",
    "    weight = [1, 3, 4]\n",
    "    value = [15, 20, 30]\n",
    "    bag_weight = 4\n",
    "\n",
    "    #初始化\n",
    "    dp = [0] * (bag_weight + 1)\n",
    "    \n",
    "    #遍历\n",
    "    for i in range(len(weight)):\n",
    "        for j in range(weight[i], bag_weight + 1):\n",
    "            dp[j] = max(dp[j], dp[j - weight[i]] + value[i])\n",
    "    \n",
    "    return dp[bag_weight]"
   ]
  },
  {
   "cell_type": "code",
   "execution_count": 61,
   "metadata": {},
   "outputs": [
    {
     "data": {
      "text/plain": [
       "60"
      ]
     },
     "execution_count": 61,
     "metadata": {},
     "output_type": "execute_result"
    }
   ],
   "source": [
    "test__CompletePack()"
   ]
  },
  {
   "cell_type": "markdown",
   "metadata": {},
   "source": [
    "### 518. 零钱兑换 IICoin Change 2"
   ]
  },
  {
   "cell_type": "markdown",
   "metadata": {},
   "source": [
    "You are given an integer array coins representing coins of different denominations and an integer amount representing a total amount of money.\n",
    "\n",
    "Return the number of combinations that make up that amount. If that amount of money cannot be made up by any combination of the coins, return 0.\n",
    "\n",
    "You may assume that you have an infinite number of each kind of coin.\n",
    "\n",
    "The answer is guaranteed to fit into a signed 32-bit integer.\n",
    "\n",
    " \n",
    "\n",
    "Example 1:\n",
    "\n",
    "Input: amount = 5, coins = [1,2,5]\n",
    "Output: 4\n",
    "Explanation: there are four ways to make up the amount:\n",
    "5=5\n",
    "5=2+2+1\n",
    "5=2+1+1+1\n",
    "5=1+1+1+1+1\n",
    "Example 2:\n",
    "\n",
    "Input: amount = 3, coins = [2]\n",
    "Output: 0\n",
    "Explanation: the amount of 3 cannot be made up just with coins of 2.\n",
    "Example 3:\n",
    "\n",
    "Input: amount = 10, coins = [10]\n",
    "Output: 1\n",
    " \n",
    "\n",
    "Constraints:\n",
    "\n",
    "1 <= coins.length <= 300\n",
    "1 <= coins[i] <= 5000\n",
    "All the values of coins are unique.\n",
    "0 <= amount <= 5000"
   ]
  },
  {
   "cell_type": "markdown",
   "metadata": {},
   "source": [
    "**如果求组合数就是外层for循环遍历物品，内层for遍历背包。**\n",
    "\n",
    "**如果求排列数就是外层for遍历背包，内层for循环遍历物品。**"
   ]
  },
  {
   "cell_type": "code",
   "execution_count": 64,
   "metadata": {},
   "outputs": [],
   "source": [
    "# 此题两个for循环不能交换\n",
    "\n",
    "class Solution:\n",
    "    def change(self, amount: int, coins: list) -> int:\n",
    "        dp = [0] * (amount + 1)\n",
    "        dp[0] = 1\n",
    "        \n",
    "        for i in range(len(coins)):\n",
    "            for j in range(coins[i], amount + 1):\n",
    "                dp[j] = dp[j - coins[i]] + dp[j]\n",
    "        \n",
    "        return dp[amount]"
   ]
  },
  {
   "cell_type": "markdown",
   "metadata": {},
   "source": [
    "### 377. 组合总和 ⅣCombination Sum IV"
   ]
  },
  {
   "cell_type": "markdown",
   "metadata": {},
   "source": [
    "Given an array of distinct integers nums and a target integer target, return the number of possible combinations that add up to target.\n",
    "\n",
    "The test cases are generated so that the answer can fit in a 32-bit integer.\n",
    "\n",
    " \n",
    "\n",
    "Example 1:\n",
    "\n",
    "Input: nums = [1,2,3], target = 4\n",
    "Output: 7\n",
    "Explanation:\n",
    "The possible combination ways are:\n",
    "(1, 1, 1, 1)\n",
    "(1, 1, 2)\n",
    "(1, 2, 1)\n",
    "(1, 3)\n",
    "(2, 1, 1)\n",
    "(2, 2)\n",
    "(3, 1)\n",
    "Note that different sequences are counted as different combinations.\n",
    "Example 2:\n",
    "\n",
    "Input: nums = [9], target = 3\n",
    "Output: 0\n",
    " \n",
    "\n",
    "Constraints:\n",
    "\n",
    "1 <= nums.length <= 200\n",
    "1 <= nums[i] <= 1000\n",
    "All the elements of nums are unique.\n",
    "1 <= target <= 1000\n",
    "\n",
    "Note that different sequences are counted as different combinations."
   ]
  },
  {
   "cell_type": "code",
   "execution_count": 65,
   "metadata": {},
   "outputs": [],
   "source": [
    "class Solution:\n",
    "    def combinationSum4(self, nums: list, target: int) -> int:\n",
    "        dp = [0] * (target + 1)\n",
    "        dp[0] = 1\n",
    "        \n",
    "        for j in range(1, target + 1):\n",
    "            for i in range(len(nums)):\n",
    "                if j >= nums[i]:\n",
    "                    dp[j] = dp[j] + dp[j - nums[i]]\n",
    "        \n",
    "        return dp[target]"
   ]
  },
  {
   "cell_type": "markdown",
   "metadata": {},
   "source": [
    "### 70. 爬楼梯Climbing Stairs"
   ]
  },
  {
   "cell_type": "markdown",
   "metadata": {},
   "source": [
    "You are climbing a staircase. It takes n steps to reach the top.\n",
    "\n",
    "Each time you can either climb 1 or 2 steps. In how many distinct ways can you climb to the top?\n",
    "\n",
    " \n",
    "\n",
    "Example 1:\n",
    "\n",
    "Input: n = 2\n",
    "Output: 2\n",
    "Explanation: There are two ways to climb to the top.\n",
    "1. 1 step + 1 step\n",
    "2. 2 steps\n",
    "Example 2:\n",
    "\n",
    "Input: n = 3\n",
    "Output: 3\n",
    "Explanation: There are three ways to climb to the top.\n",
    "1. 1 step + 1 step + 1 step\n",
    "2. 1 step + 2 steps\n",
    "3. 2 steps + 1 step"
   ]
  },
  {
   "cell_type": "code",
   "execution_count": 66,
   "metadata": {},
   "outputs": [],
   "source": [
    "#物品为[1,2]的背包问题（排列）\n",
    "\n",
    "class Solution:\n",
    "    def climbStairs(self, n: int) -> int:\n",
    "        dp = [0] * (n + 1)\n",
    "        dp[0] = 1\n",
    "        \n",
    "        \n",
    "        for j in range(1, n + 1):\n",
    "            dp[j] += dp[j - 1] + dp[j - 2]\n",
    "        \n",
    "        #   for i in [1, 2]:\n",
    "                 #dp[j] += dp[j - i]\n",
    "            \n",
    "        return dp[n]"
   ]
  },
  {
   "cell_type": "markdown",
   "metadata": {},
   "source": [
    "### 322. 零钱兑换Coin Change"
   ]
  },
  {
   "cell_type": "markdown",
   "metadata": {},
   "source": [
    "You are given an integer array coins representing coins of different denominations and an integer amount representing a total amount of money.\n",
    "\n",
    "Return the fewest number of coins that you need to make up that amount. If that amount of money cannot be made up by any combination of the coins, return -1.\n",
    "\n",
    "You may assume that you have an infinite number of each kind of coin.\n",
    "\n",
    " \n",
    "\n",
    "Example 1:\n",
    "\n",
    "Input: coins = [1,2,5], amount = 11\n",
    "Output: 3\n",
    "Explanation: 11 = 5 + 5 + 1\n",
    "Example 2:\n",
    "\n",
    "Input: coins = [2], amount = 3\n",
    "Output: -1\n",
    "Example 3:\n",
    "\n",
    "Input: coins = [1], amount = 0\n",
    "Output: 0\n",
    " \n",
    "\n",
    "Constraints:\n",
    "\n",
    "1 <= coins.length <= 12\n",
    "1 <= coins[i] <= 231 - 1\n",
    "0 <= amount <= 104"
   ]
  },
  {
   "cell_type": "markdown",
   "metadata": {},
   "source": [
    "五部曲：\n",
    "\n",
    "1. dp[j]表示凑到j所用最少硬币数量。\n",
    "2. dp[j] = min(dp[j], dp[j - coins[i]] + 1)\n",
    "3. 初始化：因为要返回比较的min，所以初始化为无限大数inf"
   ]
  },
  {
   "cell_type": "code",
   "execution_count": 68,
   "metadata": {},
   "outputs": [],
   "source": [
    "class Solution:\n",
    "    def coinChange(self, coins: list, amount: int) -> int:\n",
    "        dp = [float('inf')] * (amount + 1)\n",
    "        dp[0] = 0\n",
    "        \n",
    "        for i in range(len(coins)):\n",
    "             for j in range(coins[i], amount + 1):\n",
    "                    dp[j] = min(dp[j], dp[j - coins[i]] + 1)\n",
    "        \n",
    "        if dp[amount] == float('inf'): return -1\n",
    "        else: return dp[amount]"
   ]
  },
  {
   "cell_type": "markdown",
   "metadata": {},
   "source": [
    "### 279.完全平方数Perfect Squares"
   ]
  },
  {
   "cell_type": "markdown",
   "metadata": {},
   "source": [
    "Given an integer n, return the least number of perfect square numbers that sum to n.\n",
    "\n",
    "A perfect square is an integer that is the square of an integer; in other words, it is the product of some integer with itself. For example, 1, 4, 9, and 16 are perfect squares while 3 and 11 are not.\n",
    "\n",
    " \n",
    "\n",
    "Example 1:\n",
    "\n",
    "Input: n = 12\n",
    "Output: 3\n",
    "Explanation: 12 = 4 + 4 + 4.\n",
    "Example 2:\n",
    "\n",
    "Input: n = 13\n",
    "Output: 2\n",
    "Explanation: 13 = 4 + 9.\n",
    " \n",
    "\n",
    "Constraints:\n",
    "\n",
    "1 <= n <= 10^4"
   ]
  },
  {
   "cell_type": "code",
   "execution_count": 73,
   "metadata": {},
   "outputs": [],
   "source": [
    "class Solution:\n",
    "    def numSquares(self, n: int) -> int:\n",
    "        sqrtn = round(n ** 0.5)\n",
    "        nums = []\n",
    "        for i in range(1, sqrtn + 1):\n",
    "            nums.append(i ** 2)\n",
    "            \n",
    "        dp = [float('inf')] * (n + 1)\n",
    "        dp[0] = 0\n",
    "        \n",
    "        for i in range(sqrtn):\n",
    "            for j in range(nums[i], n + 1):\n",
    "                dp[j] = min(dp[j], dp[j - nums[i]] + 1)\n",
    "        \n",
    "        return dp[n]   "
   ]
  },
  {
   "cell_type": "code",
   "execution_count": 74,
   "metadata": {},
   "outputs": [],
   "source": [
    "class Solution:\n",
    "    def numSquares(self, n: int) -> int:\n",
    "        sqrtn = round(n ** 0.5)\n",
    "        \n",
    "        dp = [float('inf')] * (n + 1)\n",
    "        dp[0] = 0\n",
    "        \n",
    "        for i in range(1, sqrtn + 1):\n",
    "            for j in range(i ** 2, n + 1):\n",
    "                dp[j] = min(dp[j], dp[j - i ** 2] + 1)\n",
    "        \n",
    "        return dp[n]  "
   ]
  },
  {
   "cell_type": "markdown",
   "metadata": {},
   "source": [
    "### 139.单词拆分Word Break"
   ]
  },
  {
   "cell_type": "markdown",
   "metadata": {},
   "source": [
    "Given a string s and a dictionary of strings wordDict, return true if s can be segmented into a space-separated sequence of one or more dictionary words.\n",
    "\n",
    "Note that the same word in the dictionary may be reused multiple times in the segmentation.\n",
    "\n",
    " \n",
    "\n",
    "Example 1:\n",
    "\n",
    "Input: s = \"leetcode\", wordDict = [\"leet\",\"code\"]\n",
    "Output: true\n",
    "Explanation: Return true because \"leetcode\" can be segmented as \"leet code\".\n",
    "Example 2:\n",
    "\n",
    "Input: s = \"applepenapple\", wordDict = [\"apple\",\"pen\"]\n",
    "Output: true\n",
    "Explanation: Return true because \"applepenapple\" can be segmented as \"apple pen apple\".\n",
    "Note that you are allowed to reuse a dictionary word.\n",
    "Example 3:\n",
    "\n",
    "Input: s = \"catsandog\", wordDict = [\"cats\",\"dog\",\"sand\",\"and\",\"cat\"]\n",
    "Output: false\n",
    " \n",
    "\n",
    "Constraints:\n",
    "\n",
    "1 <= s.length <= 300\n",
    "1 <= wordDict.length <= 1000\n",
    "1 <= wordDict[i].length <= 20\n",
    "s and wordDict[i] consist of only lowercase English letters.\n",
    "All the strings of wordDict are unique."
   ]
  },
  {
   "cell_type": "markdown",
   "metadata": {},
   "source": [
    "五部曲：\n",
    "\n",
    "s是背包，wordDict是物品。\n",
    "\n",
    "1. dp[i] : 字符串s[0:j]的话(第一个到j-1)，dp[i]为true，表示可以拆分为一个或多个在字典中出现的单词。\n",
    "2. 递推公式：\n",
    "  dp[i] = (s[:j] in wordDict) or "
   ]
  },
  {
   "cell_type": "code",
   "execution_count": 98,
   "metadata": {},
   "outputs": [],
   "source": [
    "class Solution:\n",
    "    def wordBreak(self, s: str, wordDict: list) -> bool:\n",
    "        dp = [False] * (len(s) + 1)\n",
    "        dp[0] = True\n",
    "        \n",
    "        #遍历背包\n",
    "        for i in range(1, len(s) + 1):\n",
    "            #遍历物品：\n",
    "            for j in range(i + 1):\n",
    "                dp[i] = (s[j: i] in wordDict) and dp[j]\n",
    "                \n",
    "                #只要找到一个符合条件的拆分，dp[i]就赋值为true，如果继续循环，可能会被后面的false覆盖\n",
    "                if dp[i] == True: break\n",
    "                \n",
    "        return dp[len(s)]"
   ]
  },
  {
   "cell_type": "code",
   "execution_count": 99,
   "metadata": {},
   "outputs": [
    {
     "data": {
      "text/plain": [
       "True"
      ]
     },
     "execution_count": 99,
     "metadata": {},
     "output_type": "execute_result"
    }
   ],
   "source": [
    "s = Solution()\n",
    "s.wordBreak(s = 'leetcode', wordDict =['leet','code'])"
   ]
  },
  {
   "cell_type": "markdown",
   "metadata": {},
   "source": [
    "# 打家劫舍"
   ]
  },
  {
   "cell_type": "markdown",
   "metadata": {},
   "source": [
    "## 198.打家劫舍 House Robber"
   ]
  },
  {
   "cell_type": "markdown",
   "metadata": {},
   "source": [
    "You are a professional robber planning to rob houses along a street. Each house has a certain amount of money stashed, the only constraint stopping you from robbing each of them is that adjacent houses have security systems connected and it will automatically contact the police if two adjacent houses were broken into on the same night.\n",
    "\n",
    "Given an integer array nums representing the amount of money of each house, return the maximum amount of money you can rob tonight without alerting the police.\n",
    "\n",
    " \n",
    "\n",
    "Example 1:\n",
    "\n",
    "Input: nums = [1,2,3,1]\n",
    "Output: 4\n",
    "Explanation: Rob house 1 (money = 1) and then rob house 3 (money = 3).\n",
    "Total amount you can rob = 1 + 3 = 4.\n",
    "Example 2:\n",
    "\n",
    "Input: nums = [2,7,9,3,1]\n",
    "Output: 12\n",
    "Explanation: Rob house 1 (money = 2), rob house 3 (money = 9) and rob house 5 (money = 1).\n",
    "Total amount you can rob = 2 + 9 + 1 = 12.\n",
    " \n",
    "\n",
    "Constraints:\n",
    "\n",
    "1 <= nums.length <= 100\n",
    "0 <= nums[i] <= 400"
   ]
  },
  {
   "cell_type": "code",
   "execution_count": 4,
   "metadata": {},
   "outputs": [],
   "source": [
    "class Solution:\n",
    "    def rob(self, nums: list) -> int:\n",
    "        if len(nums) == 1:\n",
    "            return nums[0]\n",
    "        \n",
    "        dp = [0] * len(nums)\n",
    "        dp[0] = nums[0]\n",
    "        dp[1] = max(nums[1], dp[0])\n",
    "        \n",
    "        for i in range(2, len(nums)):\n",
    "            dp[i] = max(nums[i] + dp[i-2], dp[i-1])\n",
    "        \n",
    "        return dp[-1]"
   ]
  },
  {
   "cell_type": "markdown",
   "metadata": {},
   "source": [
    "## 213.打家劫舍II House Robber II"
   ]
  },
  {
   "cell_type": "markdown",
   "metadata": {},
   "source": [
    "You are a professional robber planning to rob houses along a street. Each house has a certain amount of money stashed. All houses at this place are arranged in a **circle**. That means the first house is the neighbor of the last one. Meanwhile, adjacent houses have a security system connected, and it will automatically contact the police if two adjacent houses were broken into on the same night.\n",
    "\n",
    "Given an integer array nums representing the amount of money of each house, return the maximum amount of money you can rob tonight without alerting the police.\n",
    "\n",
    " \n",
    "\n",
    "Example 1:\n",
    "\n",
    "Input: nums = [2,3,2]\n",
    "Output: 3\n",
    "Explanation: You cannot rob house 1 (money = 2) and then rob house 3 (money = 2), because they are adjacent houses.\n",
    "Example 2:\n",
    "\n",
    "Input: nums = [1,2,3,1]\n",
    "Output: 4\n",
    "Explanation: Rob house 1 (money = 1) and then rob house 3 (money = 3).\n",
    "Total amount you can rob = 1 + 3 = 4.\n",
    "Example 3:\n",
    "\n",
    "Input: nums = [1,2,3]\n",
    "Output: 3\n",
    " \n",
    "\n",
    "Constraints:\n",
    "\n",
    "1 <= nums.length <= 100\n",
    "0 <= nums[i] <= 1000"
   ]
  },
  {
   "cell_type": "code",
   "execution_count": 7,
   "metadata": {},
   "outputs": [],
   "source": [
    "class Solution:\n",
    "    def rob(self, nums: list) -> int:\n",
    "        n = len(nums)\n",
    "        if n == 1:\n",
    "            return nums[0]\n",
    "        if n == 2:\n",
    "            return max(nums[0], nums[1])\n",
    "        if n == 3:\n",
    "            return max(nums[0], nums[1], nums[2])\n",
    "        \n",
    "        #可以偷第一家\n",
    "        dp1 = [0] * (n - 1)\n",
    "        dp1[0] = nums[0]\n",
    "        dp1[1] = max(nums[0], nums[1])\n",
    "        for i in range(2, n - 1):\n",
    "            dp1[i] = max(dp1[i-1], nums[i] + dp1[i-2])\n",
    "        \n",
    "        #不偷第一家\n",
    "        dp2 = [0] * n\n",
    "        dp2[0] = 0\n",
    "        dp2[1] = nums[1]\n",
    "        for i in range(2, n):\n",
    "            dp2[i] = max(dp2[i-1], nums[i] + dp2[i-2])\n",
    "        \n",
    "        return max(dp1[-1], dp2[-1])"
   ]
  },
  {
   "cell_type": "markdown",
   "metadata": {},
   "source": [
    "## 337.打家劫舍 III House Robber III（树结构）"
   ]
  },
  {
   "cell_type": "markdown",
   "metadata": {},
   "source": [
    "The thief has found himself a new place for his thievery again. There is only one entrance to this area, called root.\n",
    "\n",
    "Besides the root, each house has one and only one parent house. After a tour, the smart thief realized that all houses in this place form a binary tree. It will automatically contact the police if two directly-linked houses were broken into on the same night.\n",
    "\n",
    "Given the root of the binary tree, return the maximum amount of money the thief can rob without alerting the police.\n",
    "\n",
    " \n",
    "\n",
    "Example 1:\n",
    "\n",
    "\n",
    "Input: root = [3,2,3,null,3,null,1]\n",
    "Output: 7\n",
    "Explanation: Maximum amount of money the thief can rob = 3 + 3 + 1 = 7.\n",
    "Example 2:\n",
    "\n",
    "\n",
    "Input: root = [3,4,5,1,3,null,1]\n",
    "Output: 9\n",
    "Explanation: Maximum amount of money the thief can rob = 4 + 5 = 9.\n",
    " \n",
    "\n",
    "Constraints:\n",
    "\n",
    "The number of nodes in the tree is in the range [1, 104].\n",
    "0 <= Node.val <= 104"
   ]
  },
  {
   "cell_type": "markdown",
   "metadata": {},
   "source": [
    "暴力递归：会超时（我们计算了root的四个孙子（左右孩子的孩子）为头结点的子树的情况，又计算了root的左右孩子为头结点的子树的情况，计算左右孩子的时候其实又把孙子计算了一遍。）"
   ]
  },
  {
   "cell_type": "code",
   "execution_count": 16,
   "metadata": {},
   "outputs": [],
   "source": [
    "# Definition for a binary tree node.\n",
    "# class TreeNode:\n",
    "#     def __init__(self, val=0, left=None, right=None):\n",
    "#         self.val = val\n",
    "#         self.left = left\n",
    "#         self.right = right\n",
    "class Solution:\n",
    "    def rob(self, root) -> int:\n",
    "        def traversal(root):\n",
    "            if not root: return 0 \n",
    "            if not root.left and not root.right: return root.val\n",
    "            \n",
    "            #抢父节点\n",
    "            n1 = root.val\n",
    "            if root.left:\n",
    "                n1 += traversal(root.left.left) + traversal(root.left.right)\n",
    "            if root.right:\n",
    "                n1 += traversal(root.right.left) + traversal(root.right.right)            \n",
    "            \n",
    "            #不抢父节点，抢左右孩子\n",
    "            leftval = traversal(root.left)\n",
    "            rightval = traversal(root.right)\n",
    "            n2 = leftval + rightval\n",
    "            \n",
    "            \n",
    "            \n",
    "            return max(n2, n1)\n",
    "        \n",
    "        return traversal(root)"
   ]
  },
  {
   "cell_type": "markdown",
   "metadata": {},
   "source": [
    "记忆化递推：使用一个map把计算过的结果保存一下，这样如果计算过孙子了，那么计算孩子的时候可以复用孙子节点的结果。\n",
    "\n",
    "map_dict报错？"
   ]
  },
  {
   "cell_type": "code",
   "execution_count": 18,
   "metadata": {},
   "outputs": [],
   "source": [
    "# Definition for a binary tree node.\n",
    "# class TreeNode:\n",
    "#     def __init__(self, val=0, left=None, right=None):\n",
    "#         self.val = val\n",
    "#         self.left = left\n",
    "#         self.right = right\n",
    "class Solution:\n",
    "    def rob(self, root) -> int:\n",
    "        map_dict = {}\n",
    "        def traversal(root, map_dict):\n",
    "            if not root: return 0 \n",
    "            if not root.left and not root.right: return root.val\n",
    "            if map_dict[root]: return map_dict[root]\n",
    "            \n",
    "            #抢父节点\n",
    "            n1 = root.val\n",
    "            if root.left:\n",
    "                n1 += traversal(root.left.left, map_dict) + traversal(root.left.right, map_dict)\n",
    "            if root.right:\n",
    "                n1 += traversal(root.right.left, map_dict) + traversal(root.right.right, map_dict)            \n",
    "            \n",
    "            #不抢父节点，抢左右孩子\n",
    "\n",
    "            n2 = traversal(root.left, map_dict) + traversal(root.right, map_dict)\n",
    "            \n",
    "            map_dict[root] = max(n2, n1) \n",
    "            \n",
    "            return max(n2, n1)\n",
    "        \n",
    "        return traversal(root, map_dict)"
   ]
  },
  {
   "cell_type": "markdown",
   "metadata": {},
   "source": [
    "neetcode   \n",
    "cases:[withRoot, withoutRoot]"
   ]
  },
  {
   "cell_type": "code",
   "execution_count": 20,
   "metadata": {},
   "outputs": [],
   "source": [
    "# Definition for a binary tree node.\n",
    "# class TreeNode:\n",
    "#     def __init__(self, val=0, left=None, right=None):\n",
    "#         self.val = val\n",
    "#         self.left = left\n",
    "#         self.right = right\n",
    "class Solution:\n",
    "    def rob(self, root) -> int:\n",
    "        \n",
    "        #return pair:[withroot, withoutroot]\n",
    "        def dfs(root):\n",
    "            if not root:\n",
    "                return [0, 0]\n",
    "            \n",
    "            leftPair = dfs(root.left)\n",
    "            rightPair = dfs(root.right)\n",
    "            \n",
    "            withRoot = root.val + leftPair[1] + rightPair[1]\n",
    "            withoutRoot = max(leftPair) + max(rightPair)\n",
    "            \n",
    "            return [withRoot, withoutRoot]\n",
    "        \n",
    "        return max(dfs(root))"
   ]
  },
  {
   "cell_type": "markdown",
   "metadata": {},
   "source": [
    "# 股票"
   ]
  },
  {
   "cell_type": "markdown",
   "metadata": {},
   "source": [
    "## 121. 买卖股票的最佳时机Best Time to Buy and Sell Stock"
   ]
  },
  {
   "cell_type": "markdown",
   "metadata": {},
   "source": [
    "You are given an array prices where prices[i] is the price of a given stock on the ith day.\n",
    "\n",
    "You want to maximize your profit by choosing a single day to buy one stock and choosing a different day in the future to sell that stock.\n",
    "\n",
    "Return the maximum profit you can achieve from this transaction. If you cannot achieve any profit, return 0.\n",
    "\n",
    " \n",
    "\n",
    "Example 1:\n",
    "\n",
    "Input: prices = [7,1,5,3,6,4]\n",
    "Output: 5\n",
    "Explanation: Buy on day 2 (price = 1) and sell on day 5 (price = 6), profit = 6-1 = 5.\n",
    "Note that buying on day 2 and selling on day 1 is not allowed because you must buy before you sell.\n",
    "Example 2:\n",
    "\n",
    "Input: prices = [7,6,4,3,1]\n",
    "Output: 0\n",
    "Explanation: In this case, no transactions are done and the max profit = 0.\n",
    " \n",
    "\n",
    "Constraints:\n",
    "\n",
    "1 <= prices.length <= 105\n",
    "0 <= prices[i] <= 104"
   ]
  },
  {
   "cell_type": "markdown",
   "metadata": {},
   "source": [
    "1. dp含义：   \n",
    "dp[i][0] 表示第i天持有股票所得现金；dp[i][1] 表示第i天不持有股票所得现金\n",
    "\n",
    "2. 递推公式：   \n",
    "如果第i天持有股票即dp[i][0]， 那么可以由两个状态推出来：    \n",
    "    第i-1天就持有股票，那么就保持现状，所得现金就是昨天持有股票的所得现金 即：dp[i - 1][0]  \n",
    "    第i天买入股票，所得现金就是买入今天的股票后所得现金即：-prices[i]    \n",
    "那么dp[i][0]应该选所得现金最大的，所以dp[i][0] = max(dp[i - 1][0], -prices[i]);\n",
    "\n",
    "如果第i天不持有股票即dp[i][1]， 也可以由两个状态推出来：   \n",
    "    第i-1天就不持有股票，那么就保持现状，所得现金就是昨天不持有股票的所得现金 即：dp[i - 1][1]    \n",
    "    第i天卖出股票，所得现金就是按照今天股票佳价格卖出后所得现金即：prices[i] + dp[i - 1][0]      \n",
    "同样dp[i][1]取最大的，dp[i][1] = max(dp[i - 1][1], prices[i] + dp[i - 1][0]);\n"
   ]
  },
  {
   "cell_type": "code",
   "execution_count": 29,
   "metadata": {},
   "outputs": [],
   "source": [
    "class Solution:\n",
    "    def maxProfit(self, prices: list) -> int:\n",
    "        dp = [[0] * 2 for _ in range(len(prices))]\n",
    "        dp[0][0] = -prices[0]\n",
    "        dp[0][1] = 0\n",
    "        \n",
    "        for i in range(1, len(prices)):\n",
    "            #只能买卖一次，所以dp[i][0]当前买入的钱为-prices[i]\n",
    "            dp[i][0] = max(dp[i - 1][0], - prices[i])\n",
    "            dp[i][1] = max(dp[i - 1][0] + prices[i], dp[i - 1][1])\n",
    "        \n",
    "        return dp[-1][1]"
   ]
  },
  {
   "cell_type": "markdown",
   "metadata": {},
   "source": [
    "## 122.买卖股票的最佳时机II Best Time to Buy and Sell Stock II"
   ]
  },
  {
   "cell_type": "markdown",
   "metadata": {},
   "source": [
    "You are given an integer array prices where prices[i] is the price of a given stock on the ith day.\n",
    "\n",
    "On each day, you may decide to buy and/or sell the stock. You can only hold at most one share of the stock at any time. However, you can buy it then immediately sell it on the same day.\n",
    "\n",
    "Find and return the maximum profit you can achieve.\n",
    "\n",
    " \n",
    "\n",
    "Example 1:\n",
    "\n",
    "Input: prices = [7,1,5,3,6,4]\n",
    "Output: 7\n",
    "Explanation: Buy on day 2 (price = 1) and sell on day 3 (price = 5), profit = 5-1 = 4.\n",
    "Then buy on day 4 (price = 3) and sell on day 5 (price = 6), profit = 6-3 = 3.\n",
    "Total profit is 4 + 3 = 7.\n",
    "Example 2:\n",
    "\n",
    "Input: prices = [1,2,3,4,5]\n",
    "Output: 4\n",
    "Explanation: Buy on day 1 (price = 1) and sell on day 5 (price = 5), profit = 5-1 = 4.\n",
    "Total profit is 4.\n",
    "Example 3:\n",
    "\n",
    "Input: prices = [7,6,4,3,1]\n",
    "Output: 0\n",
    "Explanation: There is no way to make a positive profit, so we never buy the stock to achieve the maximum profit of 0.\n",
    " \n",
    "\n",
    "Constraints:\n",
    "\n",
    "1 <= prices.length <= 3 * 104\n",
    "0 <= prices[i] <= 104"
   ]
  },
  {
   "cell_type": "code",
   "execution_count": 32,
   "metadata": {},
   "outputs": [],
   "source": [
    "class Solution:\n",
    "    def maxProfit(self, prices: list) -> int:\n",
    "        dp = [[0] * 2 for _ in range(len(prices))]\n",
    "        dp[0][0] = -prices[0]\n",
    "        dp[0][1] = 0\n",
    "        \n",
    "        for i in range(1, len(prices)):\n",
    "            dp[i][0] = max(dp[i - 1][0], dp[i - 1][1] - prices[i])\n",
    "            dp[i][1] = max(dp[i - 1][0] + prices[i], dp[i - 1][1])\n",
    "        \n",
    "        return dp[-1][1]"
   ]
  },
  {
   "cell_type": "markdown",
   "metadata": {},
   "source": [
    "## 123.买卖股票的最佳时机III Best Time to Buy and Sell Stock III"
   ]
  },
  {
   "cell_type": "markdown",
   "metadata": {},
   "source": [
    "You are given an array prices where prices[i] is the price of a given stock on the ith day.\n",
    "\n",
    "Find the maximum profit you can achieve. You may complete at most two transactions.\n",
    "\n",
    "Note: You may not engage in multiple transactions simultaneously (i.e., you must sell the stock before you buy again).\n",
    "\n",
    " \n",
    "\n",
    "Example 1:\n",
    "\n",
    "Input: prices = [3,3,5,0,0,3,1,4]\n",
    "Output: 6\n",
    "Explanation: Buy on day 4 (price = 0) and sell on day 6 (price = 3), profit = 3-0 = 3.\n",
    "Then buy on day 7 (price = 1) and sell on day 8 (price = 4), profit = 4-1 = 3.\n",
    "Example 2:\n",
    "\n",
    "Input: prices = [1,2,3,4,5]\n",
    "Output: 4\n",
    "Explanation: Buy on day 1 (price = 1) and sell on day 5 (price = 5), profit = 5-1 = 4.\n",
    "Note that you cannot buy on day 1, buy on day 2 and sell them later, as you are engaging multiple transactions at the same time. You must sell before buying again.\n",
    "Example 3:\n",
    "\n",
    "Input: prices = [7,6,4,3,1]\n",
    "Output: 0\n",
    "Explanation: In this case, no transaction is done, i.e. max profit = 0."
   ]
  },
  {
   "cell_type": "markdown",
   "metadata": {},
   "source": [
    "1. 确定dp数组以及下标的含义   \n",
    "一天一共就有五个状态:\n",
    "    0. 没有操作\n",
    "    1. 第一次买入\n",
    "    2. 第一次卖出\n",
    "    3. 第二次买入\n",
    "    4. 第二次卖出    \n",
    "dp[i][j]中 i表示第i天，j为 [0 - 4] 五个状态，dp[i][j]表示第i天状态j所剩最大现金。"
   ]
  },
  {
   "cell_type": "code",
   "execution_count": 34,
   "metadata": {},
   "outputs": [],
   "source": [
    "class Solution:\n",
    "    def maxProfit(self, prices: list) -> int:\n",
    "        dp = [[0] * 5 for _ in range(len(prices))]\n",
    "        dp[0][0] = 0\n",
    "        dp[0][1] = -prices[0]\n",
    "        dp[0][2] = 0\n",
    "        dp[0][3] = -prices[0]\n",
    "        dp[0][4] = 0\n",
    "        \n",
    "        for i in range(1, len(prices)):\n",
    "            dp[i][1] = max(dp[i-1][0] - prices[i], dp[i-1][1])\n",
    "            dp[i][2] = max(dp[i-1][1] + prices[i], dp[i-1][2])\n",
    "            dp[i][3] = max(dp[i-1][2] - prices[i], dp[i-1][3])\n",
    "            dp[i][4] = max(dp[i-1][3] + prices[i], dp[i-1][4])\n",
    "        \n",
    "        return max(dp[-1][0], dp[-1][2], dp[-1][4])"
   ]
  },
  {
   "cell_type": "markdown",
   "metadata": {},
   "source": [
    "## 188.买卖股票的最佳时机IV Best Time to Buy and Sell Stock IV"
   ]
  },
  {
   "cell_type": "markdown",
   "metadata": {},
   "source": [
    "You are given an integer array prices where prices[i] is the price of a given stock on the ith day, and an integer k.\n",
    "\n",
    "Find the maximum profit you can achieve. You may complete at most k transactions.\n",
    "\n",
    "Note: You may not engage in multiple transactions simultaneously (i.e., you must sell the stock before you buy again).\n",
    "\n",
    " \n",
    "\n",
    "Example 1:\n",
    "\n",
    "Input: k = 2, prices = [2,4,1]\n",
    "Output: 2\n",
    "Explanation: Buy on day 1 (price = 2) and sell on day 2 (price = 4), profit = 4-2 = 2.\n",
    "Example 2:\n",
    "\n",
    "Input: k = 2, prices = [3,2,6,5,0,3]\n",
    "Output: 7\n",
    "Explanation: Buy on day 2 (price = 2) and sell on day 3 (price = 6), profit = 6-2 = 4. Then buy on day 5 (price = 0) and sell on day 6 (price = 3), profit = 3-0 = 3.\n",
    " \n",
    "\n",
    "Constraints:\n",
    "\n",
    "0 <= k <= 100\n",
    "0 <= prices.length <= 1000\n",
    "0 <= prices[i] <= 1000"
   ]
  },
  {
   "cell_type": "code",
   "execution_count": 38,
   "metadata": {},
   "outputs": [],
   "source": [
    "class Solution:\n",
    "    def maxProfit(self, k: int, prices: list) -> int:\n",
    "        if len(prices) == 0: return 0\n",
    "        \n",
    "        dp = [[0] * (2 * k + 1) for _ in range(len(prices))]\n",
    "        for j in range(1, 2 * k + 1, 2):\n",
    "            dp[0][j] = -prices[0]\n",
    "        \n",
    "        for i in range(1, len(prices)):\n",
    "            for j in range(1, 2 * k + 1):\n",
    "                if j % 2 == 0:\n",
    "                    dp[i][j] = max(dp[i-1][j-1] + prices[i], dp[i-1][j])\n",
    "                else:\n",
    "                    dp[i][j] = max(dp[i-1][j-1] - prices[i], dp[i-1][j])\n",
    "        \n",
    "        res = 0\n",
    "        for j in range(2, 2 * k + 1, 2):\n",
    "            res = max(res, dp[-1][j])\n",
    "            \n",
    "        return res"
   ]
  },
  {
   "cell_type": "markdown",
   "metadata": {},
   "source": [
    "## 309.最佳买卖股票时机含冷冻期 Best Time to Buy and Sell Stock with Cooldown"
   ]
  },
  {
   "cell_type": "markdown",
   "metadata": {},
   "source": [
    "You are given an array prices where prices[i] is the price of a given stock on the ith day.\n",
    "\n",
    "Find the maximum profit you can achieve. You may complete as many transactions as you like (i.e., buy one and sell one share of the stock multiple times) with the following restrictions:\n",
    "\n",
    "After you sell your stock, you cannot buy stock on the next day (i.e., cooldown one day).\n",
    "Note: You may not engage in multiple transactions simultaneously (i.e., you must sell the stock before you buy again).\n",
    "\n",
    " \n",
    "\n",
    "Example 1:\n",
    "\n",
    "Input: prices = [1,2,3,0,2]\n",
    "Output: 3\n",
    "Explanation: transactions = [buy, sell, cooldown, buy, sell]\n",
    "Example 2:\n",
    "\n",
    "Input: prices = [1]\n",
    "Output: 0\n",
    " \n",
    "\n",
    "Constraints:\n",
    "\n",
    "1 <= prices.length <= 5000\n",
    "0 <= prices[i] <= 1000"
   ]
  },
  {
   "cell_type": "markdown",
   "metadata": {},
   "source": [
    "1. dp含义   \n",
    "dp[i][0]: 第i天持有，1.今天买入 2.之前买入没有操作       \n",
    "dp[i][1]: 第i天不持有，保持之前不持有的状态     \n",
    "dp[i][2]: 第i天不持有，之前持有，今天卖出了股票   \n",
    "dp[i][3]: 第i天不持有，前一天卖出了，处于冷冻期，不能操作"
   ]
  },
  {
   "cell_type": "code",
   "execution_count": 43,
   "metadata": {},
   "outputs": [],
   "source": [
    "class Solution:\n",
    "    def maxProfit(self, prices: list) -> int:\n",
    "        dp = [[0] * 4 for _ in range(len(prices))]\n",
    "        dp[0][0] = -prices[0]\n",
    "        \n",
    "        for i in range(1, len(prices)):\n",
    "            dp[i][0] = max(dp[i-1][1] - prices[i], dp[i-1][3] - prices[i], dp[i-1][0])\n",
    "            dp[i][1] = max(dp[i-1][1], dp[i-1][3])\n",
    "            dp[i][2] = dp[i-1][0] + prices[i]\n",
    "            dp[i][3] = dp[i-1][2]\n",
    "        \n",
    "        return max(dp[-1][1], dp[-1][2], dp[-1][3])"
   ]
  },
  {
   "cell_type": "markdown",
   "metadata": {},
   "source": [
    "## 714.买卖股票的最佳时机含手续费 Best Time to Buy and Sell Stock with Transaction Fee"
   ]
  },
  {
   "cell_type": "markdown",
   "metadata": {},
   "source": [
    "You are given an array prices where prices[i] is the price of a given stock on the ith day, and an integer fee representing a transaction fee.\n",
    "\n",
    "Find the maximum profit you can achieve. You may complete as many transactions as you like, but you need to pay the transaction fee for each transaction.\n",
    "\n",
    "Note: You may not engage in multiple transactions simultaneously (i.e., you must sell the stock before you buy again).\n",
    "\n",
    " \n",
    "\n",
    "Example 1:\n",
    "\n",
    "Input: prices = [1,3,2,8,4,9], fee = 2\n",
    "Output: 8\n",
    "Explanation: The maximum profit can be achieved by:\n",
    "- Buying at prices[0] = 1\n",
    "- Selling at prices[3] = 8\n",
    "- Buying at prices[4] = 4\n",
    "- Selling at prices[5] = 9\n",
    "The total profit is ((8 - 1) - 2) + ((9 - 4) - 2) = 8.\n",
    "Example 2:\n",
    "\n",
    "Input: prices = [1,3,7,5,10,3], fee = 3\n",
    "Output: 6\n",
    " \n",
    "\n",
    "Constraints:\n",
    "\n",
    "1 <= prices.length <= 5 * 104\n",
    "1 <= prices[i] < 5 * 104\n",
    "0 <= fee < 5 * 104"
   ]
  },
  {
   "cell_type": "code",
   "execution_count": 44,
   "metadata": {},
   "outputs": [],
   "source": [
    "class Solution:\n",
    "    def maxProfit(self, prices: list, fee: int) -> int:\n",
    "        dp = [[0] * 2 for _ in range(len(prices))]\n",
    "        dp[0][0] = -prices[0]\n",
    "        dp[0][1] = 0\n",
    "        \n",
    "        for i in range(1, len(prices)):\n",
    "            dp[i][0] = max(dp[i-1][0], dp[i-1][1] - prices[i])\n",
    "            dp[i][1] = max(dp[i-1][1], dp[i-1][0] + prices[i] - fee)\n",
    "        \n",
    "        return dp[-1][1]"
   ]
  },
  {
   "cell_type": "markdown",
   "metadata": {},
   "source": [
    "# 子序列"
   ]
  },
  {
   "cell_type": "markdown",
   "metadata": {},
   "source": [
    "## 子序列（不连续）"
   ]
  },
  {
   "cell_type": "markdown",
   "metadata": {},
   "source": [
    "### 300.最长递增子序列 Longest Increasing Subsequence"
   ]
  },
  {
   "cell_type": "markdown",
   "metadata": {},
   "source": [
    "Given an integer array nums, return the length of the longest strictly increasing subsequence.\n",
    "\n",
    "A subsequence is a sequence that can be derived from an array by deleting some or no elements without changing the order of the remaining elements. For example, [3,6,2,7] is a subsequence of the array [0,3,1,6,2,2,7].\n",
    "\n",
    " \n",
    "\n",
    "Example 1:\n",
    "\n",
    "Input: nums = [10,9,2,5,3,7,101,18]\n",
    "Output: 4\n",
    "Explanation: The longest increasing subsequence is [2,3,7,101], therefore the length is 4.\n",
    "Example 2:\n",
    "\n",
    "Input: nums = [0,1,0,3,2,3]\n",
    "Output: 4\n",
    "Example 3:\n",
    "\n",
    "Input: nums = [7,7,7,7,7,7,7]\n",
    "Output: 1\n",
    " \n",
    "\n",
    "Constraints:\n",
    "\n",
    "1 <= nums.length <= 2500\n",
    "-104 <= nums[i] <= 104"
   ]
  },
  {
   "cell_type": "code",
   "execution_count": 3,
   "metadata": {},
   "outputs": [],
   "source": [
    "class Solution:\n",
    "    def lengthOfLIS(self, nums: list) -> int:\n",
    "        if len(nums) == 1: return 1\n",
    "        \n",
    "        dp = [1] * len(nums)\n",
    "        #res = 0\n",
    "        for i in range(1, len(nums)):\n",
    "            for j in range(0, i):\n",
    "                if nums[i] > nums[j]:\n",
    "                    dp[i] = max(dp[j] + 1, dp[i])\n",
    "            \n",
    "            #res = max(res, dp[i])\n",
    "        \n",
    "        return max(dp)"
   ]
  },
  {
   "cell_type": "markdown",
   "metadata": {},
   "source": [
    "### 1143.最长公共子序列 Longest Common Subsequence"
   ]
  },
  {
   "cell_type": "markdown",
   "metadata": {},
   "source": [
    "Given two strings text1 and text2, return the length of their longest common subsequence. If there is no common subsequence, return 0.\n",
    "\n",
    "A subsequence of a string is a new string generated from the original string with some characters (can be none) deleted without changing the relative order of the remaining characters.\n",
    "\n",
    "For example, \"ace\" is a subsequence of \"abcde\".\n",
    "A common subsequence of two strings is a subsequence that is common to both strings.\n",
    "\n",
    " \n",
    "\n",
    "Example 1:\n",
    "\n",
    "Input: text1 = \"abcde\", text2 = \"ace\" \n",
    "Output: 3  \n",
    "Explanation: The longest common subsequence is \"ace\" and its length is 3.\n",
    "Example 2:\n",
    "\n",
    "Input: text1 = \"abc\", text2 = \"abc\"\n",
    "Output: 3\n",
    "Explanation: The longest common subsequence is \"abc\" and its length is 3.\n",
    "Example 3:\n",
    "\n",
    "Input: text1 = \"abc\", text2 = \"def\"\n",
    "Output: 0\n",
    "Explanation: There is no such common subsequence, so the result is 0.\n",
    " \n",
    "\n",
    "Constraints:\n",
    "\n",
    "1 <= text1.length, text2.length <= 1000\n",
    "text1 and text2 consist of only lowercase English characters."
   ]
  },
  {
   "cell_type": "code",
   "execution_count": 12,
   "metadata": {},
   "outputs": [],
   "source": [
    "class Solution:\n",
    "    def longestCommonSubsequence(self, text1: str, text2: str) -> int:\n",
    "        dp = [[0] * (len(text2) + 1) for _ in range(len(text1) + 1)]\n",
    "        \n",
    "        \n",
    "        for i in range(1, len(text1) + 1):\n",
    "             for j in range(1, len(text2) + 1):\n",
    "                    if text1[i - 1] == text2[j - 1]:\n",
    "                        dp[i][j] = dp[i - 1][j - 1] + 1\n",
    "                    else:\n",
    "                        dp[i][j] = max(dp[i - 1][j], dp[i][j - 1])\n",
    "        \n",
    "        return dp[-1][-1]"
   ]
  },
  {
   "cell_type": "markdown",
   "metadata": {},
   "source": [
    "### 1035.不相交的线Uncrossed Lines"
   ]
  },
  {
   "cell_type": "markdown",
   "metadata": {},
   "source": [
    "You are given two integer arrays nums1 and nums2. We write the integers of nums1 and nums2 (in the order they are given) on two separate horizontal lines.\n",
    "\n",
    "We may draw connecting lines: a straight line connecting two numbers nums1[i] and nums2[j] such that:\n",
    "\n",
    "nums1[i] == nums2[j], and\n",
    "the line we draw does not intersect any other connecting (non-horizontal) line.\n",
    "Note that a connecting line cannot intersect even at the endpoints (i.e., each number can only belong to one connecting line).\n",
    "\n",
    "Return the maximum number of connecting lines we can draw in this way.\n",
    "\n",
    " \n",
    "\n",
    "Example 1:\n",
    "\n",
    "\n",
    "Input: nums1 = [1,4,2], nums2 = [1,2,4]\n",
    "Output: 2\n",
    "Explanation: We can draw 2 uncrossed lines as in the diagram.\n",
    "We cannot draw 3 uncrossed lines, because the line from nums1[1] = 4 to nums2[2] = 4 will intersect the line from nums1[2]=2 to nums2[1]=2.\n",
    "Example 2:\n",
    "\n",
    "Input: nums1 = [2,5,1,2,5], nums2 = [10,5,2,1,5,2]\n",
    "Output: 3\n",
    "Example 3:\n",
    "\n",
    "Input: nums1 = [1,3,7,1,7,5], nums2 = [1,9,2,5,1]\n",
    "Output: 2\n",
    " \n",
    "\n",
    "Constraints:\n",
    "\n",
    "1 <= nums1.length, nums2.length <= 500\n",
    "1 <= nums1[i], nums2[j] <= 2000"
   ]
  },
  {
   "cell_type": "code",
   "execution_count": 13,
   "metadata": {},
   "outputs": [],
   "source": [
    "class Solution:\n",
    "    def maxUncrossedLines(self, nums1: list, nums2: list) -> int:\n",
    "        dp = [[0] * (len(nums2) + 1) for _ in range(len(nums1) + 1)]\n",
    "        \n",
    "        for i in range(1, len(nums1) + 1):\n",
    "            for j in range(1, len(nums2) + 1):\n",
    "                if nums1[i-1] == nums2[j-1]:\n",
    "                    dp[i][j] = dp[i-1][j-1] + 1\n",
    "                    \n",
    "                else:\n",
    "                    dp[i][j] = max(dp[i-1][j], dp[i][j-1])\n",
    "                \n",
    "        return dp[-1][-1]"
   ]
  },
  {
   "cell_type": "markdown",
   "metadata": {},
   "source": [
    "## 子序列（连续）"
   ]
  },
  {
   "cell_type": "markdown",
   "metadata": {},
   "source": [
    "### 674 最长连续递增序列Longest Continuous Increasing Subsequence"
   ]
  },
  {
   "cell_type": "markdown",
   "metadata": {},
   "source": [
    "Given an unsorted array of integers nums, return the length of the longest continuous increasing subsequence (i.e. subarray). The subsequence must be strictly increasing.\n",
    "\n",
    "A continuous increasing subsequence is defined by two indices l and r (l < r) such that it is [nums[l], nums[l + 1], ..., nums[r - 1], nums[r]] and for each l <= i < r, nums[i] < nums[i + 1].\n",
    "\n",
    " \n",
    "\n",
    "Example 1:\n",
    "\n",
    "Input: nums = [1,3,5,4,7]\n",
    "Output: 3\n",
    "Explanation: The longest continuous increasing subsequence is [1,3,5] with length 3.\n",
    "Even though [1,3,5,7] is an increasing subsequence, it is not continuous as elements 5 and 7 are separated by element\n",
    "4.\n",
    "Example 2:\n",
    "\n",
    "Input: nums = [2,2,2,2,2]\n",
    "Output: 1\n",
    "Explanation: The longest continuous increasing subsequence is [2] with length 1. Note that it must be strictly\n",
    "increasing.\n",
    " \n",
    "\n",
    "Constraints:\n",
    "\n",
    "1 <= nums.length <= 104\n",
    "-109 <= nums[i] <= 109"
   ]
  },
  {
   "cell_type": "code",
   "execution_count": 4,
   "metadata": {},
   "outputs": [],
   "source": [
    "class Solution:\n",
    "    def findLengthOfLCIS(self, nums: list) -> int:\n",
    "        dp = [1] * len(nums)\n",
    "        \n",
    "        for i in range(1, len(nums)):\n",
    "            if nums[i] > nums[i-1]:\n",
    "                dp[i] = dp[i-1] + 1\n",
    "        \n",
    "        return max(dp)"
   ]
  },
  {
   "cell_type": "markdown",
   "metadata": {},
   "source": [
    "### 718. 最长重复子数组 Maximum Length of Repeated Subarray"
   ]
  },
  {
   "cell_type": "markdown",
   "metadata": {},
   "source": [
    "Given two integer arrays nums1 and nums2, return the maximum length of a subarray that appears in both arrays.\n",
    "\n",
    " \n",
    "\n",
    "Example 1:\n",
    "\n",
    "Input: nums1 = [1,2,3,2,1], nums2 = [3,2,1,4,7]\n",
    "Output: 3\n",
    "Explanation: The repeated subarray with maximum length is [3,2,1].\n",
    "Example 2:\n",
    "\n",
    "Input: nums1 = [0,0,0,0,0], nums2 = [0,0,0,0,0]\n",
    "Output: 5\n",
    " \n",
    "\n",
    "Constraints:\n",
    "\n",
    "1 <= nums1.length, nums2.length <= 1000\n",
    "0 <= nums1[i], nums2[i] <= 100"
   ]
  },
  {
   "cell_type": "markdown",
   "metadata": {},
   "source": [
    "dp[i][j]:   \n",
    "以下标i为结尾的A，和以下标j为结尾的B，最长重复子数组长度为dp[i][j]。 "
   ]
  },
  {
   "cell_type": "code",
   "execution_count": 9,
   "metadata": {},
   "outputs": [],
   "source": [
    "class Solution:\n",
    "    def findLength(self, nums1: list, nums2: list) -> int:\n",
    "        dp = [[0] * (len(nums2) + 1) for _ in range(len(nums1) + 1)]\n",
    "        res = 0\n",
    "        \n",
    "        for i in range(1, len(nums1) + 1):\n",
    "            for j in range(1, len(nums2) + 1):\n",
    "                if nums1[i - 1] == nums2[j - 1]:\n",
    "                    dp[i][j] = dp[i - 1][j - 1] + 1\n",
    "                    res = max(res, dp[i][j])\n",
    "                \n",
    "        return res                    "
   ]
  },
  {
   "cell_type": "markdown",
   "metadata": {},
   "source": [
    "### 53. 最大子序和Maximum Subarray"
   ]
  },
  {
   "cell_type": "markdown",
   "metadata": {},
   "source": [
    "Given an integer array nums, find the contiguous subarray (containing at least one number) which has the largest sum and return its sum.\n",
    "\n",
    "A subarray is a contiguous part of an array.\n",
    "\n",
    " \n",
    "\n",
    "Example 1:\n",
    "\n",
    "Input: nums = [-2,1,-3,4,-1,2,1,-5,4]\n",
    "Output: 6\n",
    "Explanation: [4,-1,2,1] has the largest sum = 6.\n",
    "Example 2:\n",
    "\n",
    "Input: nums = [1]\n",
    "Output: 1\n",
    "Example 3:\n",
    "\n",
    "Input: nums = [5,4,-1,7,8]\n",
    "Output: 23\n",
    " \n",
    "\n",
    "Constraints:\n",
    "\n",
    "1 <= nums.length <= 105\n",
    "-104 <= nums[i] <= 104"
   ]
  },
  {
   "cell_type": "code",
   "execution_count": 15,
   "metadata": {},
   "outputs": [],
   "source": [
    "class Solution:\n",
    "    def maxSubArray(self, nums: list) -> int:\n",
    "        dp = [0] * len(nums)\n",
    "        dp[0] = nums[0]\n",
    "        res = nums[0]\n",
    "        \n",
    "        for i in range(1, len(nums)):\n",
    "            dp[i] = max(nums[i], dp[i-1] + nums[i])\n",
    "            res = max(res, dp[i])\n",
    "        \n",
    "        return res"
   ]
  },
  {
   "cell_type": "markdown",
   "metadata": {},
   "source": [
    "## 编辑距离"
   ]
  },
  {
   "cell_type": "markdown",
   "metadata": {},
   "source": [
    "### 392.判断子序列Is Subsequence"
   ]
  },
  {
   "cell_type": "markdown",
   "metadata": {},
   "source": [
    "Given two strings s and t, return true if s is a subsequence of t, or false otherwise.\n",
    "\n",
    "A subsequence of a string is a new string that is formed from the original string by deleting some (can be none) of the characters without disturbing the relative positions of the remaining characters. (i.e., \"ace\" is a subsequence of \"abcde\" while \"aec\" is not).\n",
    "\n",
    " \n",
    "\n",
    "Example 1:\n",
    "\n",
    "Input: s = \"abc\", t = \"ahbgdc\"\n",
    "Output: true\n",
    "Example 2:\n",
    "\n",
    "Input: s = \"axc\", t = \"ahbgdc\"\n",
    "Output: false\n",
    " \n",
    "\n",
    "Constraints:\n",
    "\n",
    "0 <= s.length <= 100\n",
    "0 <= t.length <= 104\n",
    "s and t consist only of lowercase English letters."
   ]
  },
  {
   "cell_type": "markdown",
   "metadata": {},
   "source": [
    "1. dp含义：   \n",
    "dp[i][j] 表示以下标i-1为结尾的字符串s，和以下标j-1为结尾的字符串t，相同子序列的长度为dp[i][j]。"
   ]
  },
  {
   "cell_type": "code",
   "execution_count": 9,
   "metadata": {},
   "outputs": [],
   "source": [
    "class Solution:\n",
    "    def isSubsequence(self, s: str, t: str) -> bool:\n",
    "        dp = [[0] * (len(t) + 1) for _ in range(len(s) + 1)]\n",
    "        \n",
    "        for i in range(1, len(s) + 1):\n",
    "            for j in range(i, len(t) + 1):\n",
    "                if s[i - 1] == t[j - 1]:\n",
    "                    dp[i][j] = dp[i-1][j-1] + 1\n",
    "                else:\n",
    "                    dp[i][j] = max(dp[i - 1][j], dp[i][j - 1])\n",
    "        \n",
    "        return dp[-1][-1] == len(s)"
   ]
  },
  {
   "cell_type": "code",
   "execution_count": 10,
   "metadata": {},
   "outputs": [
    {
     "data": {
      "text/plain": [
       "True"
      ]
     },
     "execution_count": 10,
     "metadata": {},
     "output_type": "execute_result"
    }
   ],
   "source": [
    "s = Solution()\n",
    "s.isSubsequence(\"abc\",\"ahbgdc\")"
   ]
  },
  {
   "cell_type": "markdown",
   "metadata": {},
   "source": [
    "### 115.不同的子序列Distinct Subsequences"
   ]
  },
  {
   "cell_type": "markdown",
   "metadata": {},
   "source": [
    "Given two strings s and t, return the number of distinct subsequences of s which equals t.\n",
    "\n",
    "A string's subsequence is a new string formed from the original string by deleting some (can be none) of the characters without disturbing the remaining characters' relative positions. (i.e., \"ACE\" is a subsequence of \"ABCDE\" while \"AEC\" is not).\n",
    "\n",
    "The test cases are generated so that the answer fits on a 32-bit signed integer.\n",
    "\n",
    " \n",
    "\n",
    "Example 1:\n",
    "\n",
    "Input: s = \"rabbbit\", t = \"rabbit\"\n",
    "Output: 3\n",
    "Explanation:\n",
    "As shown below, there are 3 ways you can generate \"rabbit\" from s.\n",
    "rabbbit\n",
    "rabbbit\n",
    "rabbbit\n",
    "Example 2:\n",
    "\n",
    "Input: s = \"babgbag\", t = \"bag\"\n",
    "Output: 5\n",
    "Explanation:\n",
    "As shown below, there are 5 ways you can generate \"bag\" from s.\n",
    "babgbag\n",
    "babgbag\n",
    "babgbag\n",
    "babgbag\n",
    "babgbag\n",
    " \n",
    "\n",
    "Constraints:\n",
    "\n",
    "1 <= s.length, t.length <= 1000\n",
    "s and t consist of English letters."
   ]
  },
  {
   "cell_type": "markdown",
   "metadata": {},
   "source": [
    "1. dp含义：   \n",
    "dp[i][j]：以i-1为结尾的s子序列中出现以j-1为结尾的t的个数为dp[i][j]。\n",
    "2. 确定递推公式：   \n",
    "    * s[i - 1] 与 t[j - 1]相等： \n",
    "    一部分是用s[i - 1]来匹配，那么个数为dp[i - 1][j - 1]。\n",
    "    一部分是不用s[i - 1]来匹配，个数为dp[i - 1][j]。\n",
    "\n",
    "    * s[i - 1] 与 t[j - 1] 不相等:   \n",
    "    dp[i][j]只有一部分组成，不用s[i - 1]来匹配，即：dp[i - 1][j]\n",
    "3. 初始化：   \n",
    "    * dp[i][0] 表示：以i-1为结尾的s可以随便删除元素，出现空字符串的个数。那么dp[i][0]一定都是1，因为也就是把以i-1为结尾的s，删除所有元素，出现空字符串的个数就是1。\n",
    "    * 再来看dp[0][j]，dp[0][j]：空字符串s可以随便删除元素，出现以j-1为结尾的字符串t的个数。那么dp[0][j]一定都是0，s如论如何也变成不了t。\n",
    "    * dp[0][0]应该是1，空字符串s，可以删除0个元素，变成空字符串t。\n",
    "\n",
    "    "
   ]
  },
  {
   "cell_type": "code",
   "execution_count": 12,
   "metadata": {},
   "outputs": [],
   "source": [
    "class Solution:\n",
    "    def numDistinct(self, s: str, t: str) -> int:\n",
    "        dp = [[0] * (len(s) + 1) for _ in range(len(t) + 1)]\n",
    "        \n",
    "        for n in range(len(s) + 1):\n",
    "            dp[0][n] = 1\n",
    "        \n",
    "        for i in range(1, len(t) + 1):\n",
    "            for j in range(i, len(s) + 1):\n",
    "                if s[j - 1] == t[i - 1]:\n",
    "                    dp[i][j] = dp[i-1][j-1] + dp[i][j-1]\n",
    "                else:\n",
    "                    dp[i][j] = dp[i][j-1]\n",
    "        \n",
    "        return dp[-1][-1]"
   ]
  },
  {
   "cell_type": "markdown",
   "metadata": {},
   "source": [
    "### 583. 两个字符串的删除操作Delete Operation for Two Strings"
   ]
  },
  {
   "cell_type": "markdown",
   "metadata": {},
   "source": [
    "Given two strings word1 and word2, return the minimum number of steps required to make word1 and word2 the same.\n",
    "\n",
    "In one step, you can delete exactly one character in either string.\n",
    "\n",
    " \n",
    "\n",
    "Example 1:\n",
    "\n",
    "Input: word1 = \"sea\", word2 = \"eat\"\n",
    "Output: 2\n",
    "Explanation: You need one step to make \"sea\" to \"ea\" and another step to make \"eat\" to \"ea\".\n",
    "Example 2:\n",
    "\n",
    "Input: word1 = \"leetcode\", word2 = \"etco\"\n",
    "Output: 4\n",
    " \n",
    "\n",
    "Constraints:\n",
    "\n",
    "1 <= word1.length, word2.length <= 500\n",
    "word1 and word2 consist of only lowercase English letters."
   ]
  },
  {
   "cell_type": "markdown",
   "metadata": {},
   "source": [
    "dp[i][j] 表示以下标i-1为结尾的字符串word1，和以下标j-1为结尾的字符串word2，最近编辑距离为dp[i][j]。"
   ]
  },
  {
   "cell_type": "code",
   "execution_count": 1,
   "metadata": {},
   "outputs": [],
   "source": [
    "class Solution:\n",
    "    def minDistance(self, word1: str, word2: str) -> int:\n",
    "        dp = [[0] * (len(word2) + 1) for _ in range(len(word1) + 1)]\n",
    "        for i in range(1, len(word1) + 1):\n",
    "            dp[i][0] = i\n",
    "        for j in range(1, len(word2) + 1):\n",
    "            dp[0][j] = j\n",
    "            \n",
    "        for i in range(1, len(word1) + 1):\n",
    "            for j in range(1, len(word2) + 1):\n",
    "                if word1[i-1] == word2[j-1]:\n",
    "                    dp[i][j] = dp[i-1][j-1]\n",
    "                else:\n",
    "                    dp[i][j] = min(dp[i-1][j-1] + 2, dp[i-1][j] + 1, dp[i][j-1] + 1)\n",
    "        return dp[-1][-1]"
   ]
  },
  {
   "cell_type": "markdown",
   "metadata": {},
   "source": [
    "### 72. 编辑距离Edit Distance"
   ]
  },
  {
   "cell_type": "markdown",
   "metadata": {},
   "source": [
    "Given two strings word1 and word2, return the minimum number of operations required to convert word1 to word2.\n",
    "\n",
    "You have the following three operations permitted on a word:\n",
    "\n",
    "Insert a character\n",
    "Delete a character\n",
    "Replace a character\n",
    " \n",
    "\n",
    "Example 1:\n",
    "\n",
    "Input: word1 = \"horse\", word2 = \"ros\"\n",
    "Output: 3\n",
    "Explanation: \n",
    "horse -> rorse (replace 'h' with 'r')\n",
    "rorse -> rose (remove 'r')\n",
    "rose -> ros (remove 'e')\n",
    "Example 2:\n",
    "\n",
    "Input: word1 = \"intention\", word2 = \"execution\"\n",
    "Output: 5\n",
    "Explanation: \n",
    "intention -> inention (remove 't')\n",
    "inention -> enention (replace 'i' with 'e')\n",
    "enention -> exention (replace 'n' with 'x')\n",
    "exention -> exection (replace 'n' with 'c')\n",
    "exection -> execution (insert 'u')\n",
    " \n",
    "\n",
    "Constraints:\n",
    "\n",
    "0 <= word1.length, word2.length <= 500\n",
    "word1 and word2 consist of lowercase English letters."
   ]
  },
  {
   "cell_type": "markdown",
   "metadata": {},
   "source": [
    "**answer:**    \n",
    "https://mp.weixin.qq.com/s?__biz=MzUxNjY5NTYxNA==&mid=2247487971&idx=1&sn=675b239c68e61e0e4a2766fc95e506ad&scene=21#wechat_redirect"
   ]
  },
  {
   "cell_type": "code",
   "execution_count": 2,
   "metadata": {},
   "outputs": [],
   "source": [
    "class Solution:\n",
    "    def minDistance(self, word1: str, word2: str) -> int:\n",
    "        dp = [[0] * (len(word2) + 1) for _ in range(len(word1) + 1)]\n",
    "        \n",
    "        for i in range(1, len(word1) + 1):\n",
    "            dp[i][0] = i\n",
    "        for j in range(1, len(word2) + 1):\n",
    "            dp[0][j] = j\n",
    "            \n",
    "        for i in range(1, len(word1) + 1):\n",
    "            for j in range(1, len(word2) + 1):\n",
    "                if word1[i-1] == word2[j-1]:\n",
    "                    dp[i][j] = dp[i-1][j-1]\n",
    "                else:\n",
    "                    dp[i][j] = min(dp[i-1][j-1] + 1, dp[i-1][j] + 1, dp[i][j-1] + 1)\n",
    "        return dp[-1][-1]"
   ]
  },
  {
   "cell_type": "markdown",
   "metadata": {},
   "source": [
    "## 回文"
   ]
  },
  {
   "cell_type": "markdown",
   "metadata": {},
   "source": [
    "### 647. 回文子串Palindromic Substrings"
   ]
  },
  {
   "cell_type": "markdown",
   "metadata": {},
   "source": [
    "Given a string s, return the number of palindromic substrings in it.\n",
    "\n",
    "A string is a palindrome when it reads the same backward as forward.\n",
    "\n",
    "A substring is a contiguous sequence of characters within the string.\n",
    "\n",
    " \n",
    "\n",
    "Example 1:\n",
    "\n",
    "Input: s = \"abc\"\n",
    "Output: 3\n",
    "Explanation: Three palindromic strings: \"a\", \"b\", \"c\".\n",
    "Example 2:\n",
    "\n",
    "Input: s = \"aaa\"\n",
    "Output: 6\n",
    "Explanation: Six palindromic strings: \"a\", \"a\", \"a\", \"aa\", \"aa\", \"aaa\".\n",
    " \n",
    "\n",
    "Constraints:\n",
    "\n",
    "1 <= s.length <= 1000\n",
    "s consists of lowercase English letters."
   ]
  },
  {
   "cell_type": "markdown",
   "metadata": {},
   "source": [
    "1. 确定dp数组（dp table）以及下标的含义:   \n",
    "布尔类型的dp[i][j]：表示区间范围[i,j] （注意是左闭右闭）的子串是否是回文子串，如果是dp[i][j]为true，否则为false。\n",
    "2. 递推公式：   \n",
    "当s[i]与s[j]不相等，那没啥好说的了，dp[i][j]一定是false。\n",
    "\n",
    "   当s[i]与s[j]相等时，这就复杂一些了，有如下三种情况\n",
    "   * 情况一：下标i 与 j相同，同一个字符例如a，当然是回文子串\n",
    "   * 情况二：下标i 与 j相差为1，例如aa，也是文子串\n",
    "   * 情况三：下标：i 与 j相差大于1的时候，例如cabac，此时s[i]与s[j]已经相同了，我们看i到j区间是不是回文子串就看aba是不是回文就可以了，那么aba的区间就是 i+1 与 j-1区间，这个区间是不是回文就看dp[i + 1][j - 1]是否为true。"
   ]
  },
  {
   "cell_type": "code",
   "execution_count": 5,
   "metadata": {},
   "outputs": [],
   "source": [
    "class Solution:\n",
    "    def countSubstrings(self, s: str) -> int:\n",
    "        dp = [[False] * len(s) for _ in range(len(s))]\n",
    "        res = 0\n",
    "        \n",
    "        for i in range(len(s) - 1, -1, -1):\n",
    "            for j in range(i, len(s)):\n",
    "                if s[i] == s[j]:\n",
    "                    if j - i <= 1:\n",
    "                        dp[i][j] = True\n",
    "                        res += 1\n",
    "                    elif dp[i + 1][j - 1]:\n",
    "                        dp[i][j] = True\n",
    "                        res += 1\n",
    "\n",
    "        return res"
   ]
  },
  {
   "cell_type": "markdown",
   "metadata": {},
   "source": [
    "### 516.最长回文子序列Longest Palindromic Subsequence"
   ]
  },
  {
   "cell_type": "markdown",
   "metadata": {},
   "source": [
    "Given a string s, find the longest palindromic subsequence's length in s.\n",
    "\n",
    "A subsequence is a sequence that can be derived from another sequence by deleting some or no elements without changing the order of the remaining elements.\n",
    "\n",
    " \n",
    "\n",
    "Example 1:\n",
    "\n",
    "Input: s = \"bbbab\"\n",
    "Output: 4\n",
    "Explanation: One possible longest palindromic subsequence is \"bbbb\".\n",
    "Example 2:\n",
    "\n",
    "Input: s = \"cbbd\"\n",
    "Output: 2\n",
    "Explanation: One possible longest palindromic subsequence is \"bb\".\n",
    " \n",
    "\n",
    "Constraints:\n",
    "\n",
    "1 <= s.length <= 1000\n",
    "s consists only of lowercase English letters."
   ]
  },
  {
   "cell_type": "markdown",
   "metadata": {},
   "source": [
    "dp[i][j]：字符串s在[i, j]范围内最长的回文子序列的长度为dp[i][j]。"
   ]
  },
  {
   "cell_type": "code",
   "execution_count": 7,
   "metadata": {},
   "outputs": [],
   "source": [
    "class Solution:\n",
    "    def longestPalindromeSubseq(self, s: str) -> int:\n",
    "        dp = [[0] * (len(s) + 1) for _ in range(len(s) + 1)]\n",
    "        for i in range(len(s)):\n",
    "            dp[i][i] = 1\n",
    "        \n",
    "        \n",
    "        for i in range(len(s) - 1, -1, -1):\n",
    "            for j in range(i + 1, len(s)):\n",
    "                if s[i] == s[j]:\n",
    "                    dp[i][j] = 2 + dp[i+1][j-1]\n",
    "\n",
    "                else:\n",
    "                    dp[i][j] = max(dp[i+1][j], dp[i][j-1])\n",
    "        return dp[0][len(s) - 1] "
   ]
  },
  {
   "cell_type": "code",
   "execution_count": null,
   "metadata": {},
   "outputs": [],
   "source": []
  }
 ],
 "metadata": {
  "kernelspec": {
   "display_name": "Python 3 (ipykernel)",
   "language": "python",
   "name": "python3"
  },
  "language_info": {
   "codemirror_mode": {
    "name": "ipython",
    "version": 3
   },
   "file_extension": ".py",
   "mimetype": "text/x-python",
   "name": "python",
   "nbconvert_exporter": "python",
   "pygments_lexer": "ipython3",
   "version": "3.9.7"
  },
  "toc": {
   "base_numbering": 1,
   "nav_menu": {},
   "number_sections": true,
   "sideBar": true,
   "skip_h1_title": false,
   "title_cell": "Table of Contents",
   "title_sidebar": "Contents",
   "toc_cell": false,
   "toc_position": {
    "height": "calc(100% - 180px)",
    "left": "10px",
    "top": "150px",
    "width": "257px"
   },
   "toc_section_display": true,
   "toc_window_display": true
  }
 },
 "nbformat": 4,
 "nbformat_minor": 2
}
