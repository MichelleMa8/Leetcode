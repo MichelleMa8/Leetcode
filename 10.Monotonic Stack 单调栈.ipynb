{
 "cells": [
  {
   "cell_type": "markdown",
   "id": "a60c6ec1",
   "metadata": {},
   "source": [
    "**单调栈**:\n",
    "\n",
    "单调栈的本质是空间换时间，因为在遍历的过程中需要用一个栈来记录右边第一个比当前元素的元素，优点是只需要遍历一次。\n"
   ]
  },
  {
   "cell_type": "markdown",
   "id": "401cb150",
   "metadata": {},
   "source": [
    "## 739. 每日温度Daily Temperatures"
   ]
  },
  {
   "cell_type": "markdown",
   "id": "30ec1cb3",
   "metadata": {},
   "source": [
    "Given an array of integers temperatures represents the daily temperatures, return an array answer such that answer[i] is the number of days you have to wait after the ith day to get a warmer temperature. If there is no future day for which this is possible, keep answer[i] == 0 instead.\n",
    "\n",
    " \n",
    "\n",
    "Example 1:\n",
    "\n",
    "Input: temperatures = [73,74,75,71,69,72,76,73]\n",
    "Output: [1,1,4,2,1,1,0,0]\n",
    "Example 2:\n",
    "\n",
    "Input: temperatures = [30,40,50,60]\n",
    "Output: [1,1,1,0]\n",
    "Example 3:\n",
    "\n",
    "Input: temperatures = [30,60,90]\n",
    "Output: [1,1,0]\n",
    " \n",
    "\n",
    "Constraints:\n",
    "\n",
    "1 <= temperatures.length <= 105\n",
    "30 <= temperatures[i] <= 100"
   ]
  },
  {
   "cell_type": "code",
   "execution_count": 2,
   "id": "fce2c4bd",
   "metadata": {},
   "outputs": [],
   "source": [
    "class Solution:\n",
    "    def dailyTemperatures(self, temperatures: list) -> list:\n",
    "        res = [0] * len(temperatures)\n",
    "        stack = [] #pair: [temp, index]\n",
    "        \n",
    "        # enumerate() 函数用于将一个可遍历的数据对象(如列表、元组或字符串)组合为一个索引序列，同时列出数据和数据下标\n",
    "        for i, t in enumerate(temperatures):\n",
    "            while stack and t > stack[-1][0]:\n",
    "                stack_t, stack_ind = stack.pop()\n",
    "                res[stack_ind] = i - stack_ind\n",
    "            stack.append([t,i])\n",
    "        return res"
   ]
  },
  {
   "cell_type": "code",
   "execution_count": 5,
   "id": "f038e1ff",
   "metadata": {},
   "outputs": [],
   "source": [
    "class Solution:\n",
    "    def dailyTemperatures(self, temperatures: list) -> list:\n",
    "        res = [0] * len(temperatures)\n",
    "        stack = [] #pair: [temp, index]\n",
    "        \n",
    "        for i in range(len(temperatures)):\n",
    "            while stack and temperatures[i] > stack[-1][0]:\n",
    "                stack_t, stack_ind = stack.pop()\n",
    "                res[stack_ind] = i - stack_ind\n",
    "            stack.append([temperatures[i],i])\n",
    "        return res"
   ]
  },
  {
   "cell_type": "markdown",
   "id": "c709047c",
   "metadata": {},
   "source": [
    "## 496.下一个更大元素 I Next Greater Element I"
   ]
  },
  {
   "cell_type": "markdown",
   "id": "fb20e932",
   "metadata": {},
   "source": [
    "The next greater element of some element x in an array is the first greater element that is to the right of x in the same array.\n",
    "\n",
    "You are given two distinct 0-indexed integer arrays nums1 and nums2, where nums1 is a subset of nums2.\n",
    "\n",
    "For each 0 <= i < nums1.length, find the index j such that nums1[i] == nums2[j] and determine the next greater element of nums2[j] in nums2. If there is no next greater element, then the answer for this query is -1.\n",
    "\n",
    "Return an array ans of length nums1.length such that ans[i] is the next greater element as described above.\n",
    "\n",
    " \n",
    "\n",
    "Example 1:\n",
    "\n",
    "Input: nums1 = [4,1,2], nums2 = [1,3,4,2]\n",
    "Output: [-1,3,-1]\n",
    "Explanation: The next greater element for each value of nums1 is as follows:\n",
    "- 4 is underlined in nums2 = [1,3,4,2]. There is no next greater element, so the answer is -1.\n",
    "- 1 is underlined in nums2 = [1,3,4,2]. The next greater element is 3.\n",
    "- 2 is underlined in nums2 = [1,3,4,2]. There is no next greater element, so the answer is -1.\n",
    "Example 2:\n",
    "\n",
    "Input: nums1 = [2,4], nums2 = [1,2,3,4]\n",
    "Output: [3,-1]\n",
    "Explanation: The next greater element for each value of nums1 is as follows:\n",
    "- 2 is underlined in nums2 = [1,2,3,4]. The next greater element is 3.\n",
    "- 4 is underlined in nums2 = [1,2,3,4]. There is no next greater element, so the answer is -1."
   ]
  },
  {
   "cell_type": "markdown",
   "id": "83f5c4a0",
   "metadata": {},
   "source": [
    "**two distinct integer arrays**:\n",
    "\n",
    "map"
   ]
  },
  {
   "cell_type": "code",
   "execution_count": 6,
   "id": "9bc24b02",
   "metadata": {},
   "outputs": [],
   "source": [
    "# O(n^2)\n",
    "class Solution:\n",
    "    def nextGreaterElement(self, nums1: list, nums2: list) -> list:\n",
    "        nums1_idx = {n:i for i, n in enumerate(nums1)}\n",
    "        res = [-1] * len(nums1)\n",
    "        \n",
    "        for i in range(len(nums2)):\n",
    "            if nums2[i] not in nums1_idx:\n",
    "                continue\n",
    "            for j in range(i + 1, len(nums2)):\n",
    "                if nums2[j] > nums2[i]:\n",
    "                    idx = nums1_idx[nums2[i]]\n",
    "                    res[idx] = nums2[j]\n",
    "                    break\n",
    "        return res      "
   ]
  },
  {
   "cell_type": "code",
   "execution_count": 7,
   "id": "7a2f747b",
   "metadata": {},
   "outputs": [],
   "source": [
    "# O(n)\n",
    "class Solution:\n",
    "    def nextGreaterElement(self, nums1: list, nums2: list) -> list:\n",
    "        nums1_idx = {n:i for i, n in enumerate(nums1)}\n",
    "        res = [-1] * len(nums1)\n",
    "        stack = []\n",
    "        \n",
    "        for i in range(len(nums2)):\n",
    "            cur = nums2[i]\n",
    "            \n",
    "            while stack and cur > stack[-1]:\n",
    "                val = stack.pop()\n",
    "                idx = nums1_idx[val]\n",
    "                res[idx] = cur\n",
    "            if cur in nums1_idx:\n",
    "                stack.append(cur)\n",
    "        return res"
   ]
  },
  {
   "cell_type": "markdown",
   "id": "287da887",
   "metadata": {},
   "source": [
    "## 503.下一个更大元素IINext Greater Element II"
   ]
  },
  {
   "cell_type": "markdown",
   "id": "2410563b",
   "metadata": {},
   "source": [
    "Given a circular integer array nums (i.e., the next element of nums[nums.length - 1] is nums[0]), return the next greater number for every element in nums.\n",
    "\n",
    "The next greater number of a number x is the first greater number to its traversing-order next in the array, which means you could search circularly to find its next greater number. If it doesn't exist, return -1 for this number.\n",
    "\n",
    " \n",
    "\n",
    "Example 1:\n",
    "\n",
    "Input: nums = [1,2,1]\n",
    "Output: [2,-1,2]\n",
    "Explanation: The first 1's next greater number is 2; \n",
    "The number 2 can't find next greater number. \n",
    "The second 1's next greater number needs to search circularly, which is also 2.\n",
    "Example 2:\n",
    "\n",
    "Input: nums = [1,2,3,4,3]\n",
    "Output: [2,3,4,-1,4]\n",
    " \n",
    "\n",
    "Constraints:\n",
    "\n",
    "1 <= nums.length <= 104\n",
    "-109 <= nums[i] <= 109"
   ]
  },
  {
   "cell_type": "code",
   "execution_count": 15,
   "id": "3f25c2ee",
   "metadata": {},
   "outputs": [],
   "source": [
    "class Solution:\n",
    "    def nextGreaterElements(self, nums: list) -> list:\n",
    "        res = [-1] * len(nums)\n",
    "        stack = []\n",
    "        \n",
    "        #循环走两遍nums数组\n",
    "        for i in range(len(nums) * 2):\n",
    "            while stack and stack[-1][0] < nums[i % len(nums)]:\n",
    "                val, idx = stack.pop()\n",
    "                res[idx] = nums[i % len(nums)]\n",
    "                \n",
    "            stack.append([nums[i % len(nums)], i % len(nums)])\n",
    "            \n",
    "        return res        "
   ]
  },
  {
   "cell_type": "code",
   "execution_count": 16,
   "id": "1e69cca6",
   "metadata": {},
   "outputs": [
    {
     "data": {
      "text/plain": [
       "[2, -1, 2]"
      ]
     },
     "execution_count": 16,
     "metadata": {},
     "output_type": "execute_result"
    }
   ],
   "source": [
    "s = Solution()\n",
    "s.nextGreaterElements([1,2,1])"
   ]
  },
  {
   "cell_type": "markdown",
   "id": "8599b44e",
   "metadata": {},
   "source": [
    "## 42. 接雨水 Trapping Rain Water"
   ]
  },
  {
   "cell_type": "markdown",
   "id": "f725f464",
   "metadata": {},
   "source": [
    "Given n non-negative integers representing an elevation map where the width of each bar is 1, compute how much water it can trap after raining.\n",
    "\n",
    " \n",
    "\n",
    "Example 1:\n",
    "\n",
    "\n",
    "Input: height = [0,1,0,2,1,0,1,3,2,1,2,1]\n",
    "Output: 6\n",
    "Explanation: The above elevation map (black section) is represented by array [0,1,0,2,1,0,1,3,2,1,2,1]. In this case, 6 units of rain water (blue section) are being trapped.\n",
    "Example 2:\n",
    "\n",
    "Input: height = [4,2,0,3,2,5]\n",
    "Output: 9\n",
    " \n",
    "\n",
    "Constraints:\n",
    "\n",
    "n == height.length\n",
    "1 <= n <= 2 * 104\n",
    "0 <= height[i] <= 105"
   ]
  },
  {
   "cell_type": "markdown",
   "id": "5a8cadb3",
   "metadata": {},
   "source": [
    "1. dp解法：  \n",
    "用dp来记录left_max和right_max"
   ]
  },
  {
   "cell_type": "code",
   "execution_count": 18,
   "id": "67533faf",
   "metadata": {},
   "outputs": [],
   "source": [
    "class Solution:\n",
    "    def trap(self, height: list) -> int:\n",
    "        if len(height) <= 2: return 0\n",
    "        \n",
    "        left_max = [height[0]] * len(height)\n",
    "        right_max = [height[-1]] * len(height)\n",
    "        \n",
    "        for i in range(1, len(height)):\n",
    "            left_max[i] = max(height[i], left_max[i-1])\n",
    "        \n",
    "        for i in range(len(height) - 2, -1, -1):\n",
    "            right_max[i] = max(height[i], right_max[i+1])\n",
    "        \n",
    "        res = 0\n",
    "        for i in range(len(height)):\n",
    "            res += max(0, min(left_max[i], right_max[i]) - height[i])\n",
    "        \n",
    "        return res"
   ]
  },
  {
   "cell_type": "markdown",
   "id": "f066923f",
   "metadata": {},
   "source": [
    "2. two pointer解法：   \n",
    "https://youtu.be/ZI2z5pq0TqA"
   ]
  },
  {
   "cell_type": "code",
   "execution_count": 17,
   "id": "c7fabb6b",
   "metadata": {},
   "outputs": [],
   "source": [
    "class Solution:\n",
    "    def trap(self, height: list) -> int:\n",
    "        if not height: return 0\n",
    "        \n",
    "        l, r = 0, len(height) - 1\n",
    "        left_max, right_max = height[l], height[r]\n",
    "        res = 0\n",
    "        \n",
    "        while l < r:\n",
    "            if left_max < right_max:\n",
    "                l += 1\n",
    "                #因为先更新了left_max，所以不会出现left_max - height[l] < 0的情况\n",
    "                left_max = max(left_max, height[l])\n",
    "                res += left_max - height[l]\n",
    "            else:\n",
    "                r -= 1\n",
    "                right_max = max(right_max, height[r])\n",
    "                res += right_max - height[r]\n",
    "                \n",
    "        return res"
   ]
  },
  {
   "cell_type": "markdown",
   "id": "13233c79",
   "metadata": {},
   "source": [
    "## 84.柱状图中最大的矩形 Largest Rectangle in Histogram"
   ]
  },
  {
   "cell_type": "markdown",
   "id": "89f868d6",
   "metadata": {},
   "source": [
    "Given an array of integers heights representing the histogram's bar height where the width of each bar is 1, return the area of the largest rectangle in the histogram.\n",
    "\n",
    " \n",
    "\n",
    "Example 1:\n",
    "\n",
    "\n",
    "Input: heights = [2,1,5,6,2,3]\n",
    "Output: 10\n",
    "Explanation: The above is a histogram where width of each bar is 1.\n",
    "The largest rectangle is shown in the red area, which has an area = 10 units.\n",
    "Example 2:\n",
    "\n",
    "\n",
    "Input: heights = [2,4]\n",
    "Output: 4\n",
    " \n",
    "\n",
    "Constraints:\n",
    "\n",
    "1 <= heights.length <= 105\n",
    "0 <= heights[i] <= 104"
   ]
  },
  {
   "cell_type": "code",
   "execution_count": 2,
   "id": "2fcebc88",
   "metadata": {},
   "outputs": [],
   "source": [
    "class Solution:\n",
    "    def largestRectangleArea(self, heights: list) -> int:\n",
    "        res = 0\n",
    "        stack = [] #pair: (index, height)\n",
    "        \n",
    "        for i, h in enumerate(heights):\n",
    "            start = i\n",
    "            while stack and stack[-1][1] > h:\n",
    "                index, height = stack.pop()\n",
    "                res = max(res, height * (i - index))\n",
    "                start = index\n",
    "            stack.append([start, h])\n",
    "        \n",
    "        for i, h in stack:\n",
    "            res = max(res, h * (len(heights) - i))\n",
    "        \n",
    "        return res"
   ]
  },
  {
   "cell_type": "code",
   "execution_count": null,
   "id": "86c0d05a",
   "metadata": {
    "collapsed": true
   },
   "outputs": [],
   "source": []
  }
 ],
 "metadata": {
  "kernelspec": {
   "display_name": "Python 3 (ipykernel)",
   "language": "python",
   "name": "python3"
  },
  "language_info": {
   "codemirror_mode": {
    "name": "ipython",
    "version": 3
   },
   "file_extension": ".py",
   "mimetype": "text/x-python",
   "name": "python",
   "nbconvert_exporter": "python",
   "pygments_lexer": "ipython3",
   "version": "3.9.7"
  },
  "toc": {
   "base_numbering": 1,
   "nav_menu": {},
   "number_sections": true,
   "sideBar": true,
   "skip_h1_title": false,
   "title_cell": "Table of Contents",
   "title_sidebar": "Contents",
   "toc_cell": false,
   "toc_position": {
    "height": "calc(100% - 180px)",
    "left": "10px",
    "top": "150px",
    "width": "165px"
   },
   "toc_section_display": true,
   "toc_window_display": false
  }
 },
 "nbformat": 4,
 "nbformat_minor": 5
}
