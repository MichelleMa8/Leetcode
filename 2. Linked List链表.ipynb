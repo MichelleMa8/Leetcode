{
 "cells": [
  {
   "cell_type": "markdown",
   "metadata": {},
   "source": [
    "**<font size=5>解决链表问题思路：**  \n",
    "1. add dummy(虚拟头结点) to avoid dealing with edge cases   \n",
    "2. two pointers"
   ]
  },
  {
   "cell_type": "markdown",
   "metadata": {},
   "source": [
    "单向链表的代码实现  \n",
    "https://jackkuo666.github.io/Data_Structure_with_Python_book/chapter3/section1.html"
   ]
  },
  {
   "cell_type": "markdown",
   "metadata": {},
   "source": [
    "链表的.next指向问题  \n",
    "https://blog.csdn.net/YangYoung_/article/details/108254152"
   ]
  },
  {
   "cell_type": "markdown",
   "metadata": {},
   "source": [
    "# 移除链表元素"
   ]
  },
  {
   "cell_type": "markdown",
   "metadata": {},
   "source": [
    "## 203"
   ]
  },
  {
   "cell_type": "markdown",
   "metadata": {},
   "source": [
    "Given the head of a linked list and an integer val, remove all the nodes of the linked list that has Node.val == val, and return the new head.\n",
    "\n",
    " \n",
    "\n",
    "Example 1:\n",
    "\n",
    "\n",
    "Input: head = [1,2,6,3,4,5,6], val = 6\n",
    "Output: [1,2,3,4,5]\n",
    "Example 2:\n",
    "\n",
    "Input: head = [], val = 1\n",
    "Output: []\n",
    "Example 3:\n",
    "\n",
    "Input: head = [7,7,7,7], val = 7\n",
    "Output: []"
   ]
  },
  {
   "cell_type": "code",
   "execution_count": 2,
   "metadata": {},
   "outputs": [],
   "source": [
    "#虚拟头结点\n",
    "# Definition for singly-linked list.\n",
    "class ListNode:\n",
    "    def __init__(self, val=0, next=None):\n",
    "        self.val = val\n",
    "        self.next = next\n",
    "class Solution:\n",
    "    def removeElements(self, head, val: int):\n",
    "        dummy = ListNode(None)\n",
    "        dummy.next = head\n",
    "        cur = dummy\n",
    "        while cur.next:\n",
    "            if cur.next.val != val:\n",
    "                cur = cur.next\n",
    "            else:\n",
    "                cur.next = cur.next.next\n",
    "        return dummy.next        "
   ]
  },
  {
   "cell_type": "markdown",
   "metadata": {},
   "source": [
    "# 链表五个常见操作"
   ]
  },
  {
   "cell_type": "markdown",
   "metadata": {},
   "source": [
    "## 707 design linked list"
   ]
  },
  {
   "cell_type": "markdown",
   "metadata": {},
   "source": [
    "Design your implementation of the linked list. You can choose to use a singly or doubly linked list.\n",
    "A node in a singly linked list should have two attributes: val and next. val is the value of the current node, and next is a pointer/reference to the next node.\n",
    "If you want to use the doubly linked list, you will need one more attribute prev to indicate the previous node in the linked list. Assume all nodes in the linked list are 0-indexed.\n",
    "\n",
    "Implement the MyLinkedList class:\n",
    "\n",
    "MyLinkedList() Initializes the MyLinkedList object.\n",
    "int get(int index) Get the value of the indexth node in the linked list. If the index is invalid, return -1.\n",
    "void addAtHead(int val) Add a node of value val before the first element of the linked list. After the insertion, the new node will be the first node of the linked list.\n",
    "void addAtTail(int val) Append a node of value val as the last element of the linked list.\n",
    "void addAtIndex(int index, int val) Add a node of value val before the indexth node in the linked list. If index equals the length of the linked list, the node will be appended to the end of the linked list. If index is greater than the length, the node will not be inserted.\n",
    "void deleteAtIndex(int index) Delete the indexth node in the linked list, if the index is valid."
   ]
  },
  {
   "cell_type": "markdown",
   "metadata": {},
   "source": [
    "### Singly Linked List"
   ]
  },
  {
   "cell_type": "code",
   "execution_count": 10,
   "metadata": {},
   "outputs": [],
   "source": [
    "class Node:\n",
    "    def __init__(self, next=None, val=None):\n",
    "        self.next = next\n",
    "        self.val = val\n",
    "\n",
    "class MyLinkedList:\n",
    "    def __init__(self):\n",
    "        self.head = Node()\n",
    "        self.size = 0\n",
    "    \n",
    "    #获取链表第index个节点的数值\n",
    "    def get(self, index: int) -> int:\n",
    "        if (index >= self.size):\n",
    "            return -1\n",
    "        iter = self.head\n",
    "        for i in range(index):\n",
    "            iter = iter.next\n",
    "        return iter.val\n",
    "    \n",
    "    #在链表的最前面插入一个节点\n",
    "    def addAtHead(self, val: int) -> None:\n",
    "        if (self.size == 0):\n",
    "            self.head.val = val\n",
    "        else:\n",
    "            node = Node(next=self.head, val=val)\n",
    "            self.head = node\n",
    "        self.size += 1\n",
    "    \n",
    "    #在链表的最后面插入一个节点\n",
    "    def addAtTail(self, val: int) -> None:\n",
    "        if (self.size == 0):\n",
    "            self.addAtHead(val)\n",
    "        else:\n",
    "            iter = self.head\n",
    "            while (iter.next != None):\n",
    "                iter = iter.next\n",
    "            iter.next = Node(val=val)\n",
    "            self.size += 1\n",
    "    \n",
    "    #在链表第index个节点前面插入一个节点\n",
    "    def addAtIndex(self, index: int, val: int) -> None:\n",
    "        if (index > self.size):\n",
    "            return\n",
    "        elif (index == 0):\n",
    "            self.addAtHead(val)\n",
    "        elif (index == self.size):\n",
    "            self.addAtTail(val)\n",
    "        else:\n",
    "            iter = self.head\n",
    "            for i in range(index-1):\n",
    "                iter = iter.next\n",
    "            node = Node(next=iter.next, val=val)\n",
    "            iter.next = node\n",
    "            self.size += 1\n",
    "\n",
    "    #删除链表的第index个节点\n",
    "    def deleteAtIndex(self, index: int) -> None:   \n",
    "        if (index >= self.size):\n",
    "            return\n",
    "        elif (index == 0):\n",
    "            self.head = self.head.next\n",
    "        else:\n",
    "            iter = self.head\n",
    "            for i in range(index-1):\n",
    "                iter = iter.next\n",
    "            if (index == self.size-1):\n",
    "                node = iter.next\n",
    "                iter.next = None\n",
    "                del node\n",
    "            else:\n",
    "                node = iter.next\n",
    "                iter.next = node.next\n",
    "                del node\n",
    "        self.size -= 1"
   ]
  },
  {
   "cell_type": "markdown",
   "metadata": {},
   "source": [
    "### Doubly Linked List"
   ]
  },
  {
   "cell_type": "markdown",
   "metadata": {},
   "source": [
    "https://codeleading.com/article/9383309638/"
   ]
  },
  {
   "cell_type": "code",
   "execution_count": 12,
   "metadata": {},
   "outputs": [],
   "source": [
    "class ListNode(object):\n",
    "    def __init__(self, x):\n",
    "        self.val = x\n",
    "        self.next = None\n",
    "        self.prev = None\n",
    " \n",
    "class MyLinkedList(object):\n",
    " \n",
    "    def __init__(self):\n",
    "        \"\"\"\n",
    "        Initialize your data structure here.\n",
    "        \"\"\"\n",
    "        self.head ,self.tail= ListNode(0), ListNode(0)\n",
    "        self.head.next = self.tail\n",
    "        self.tail.prev = self.head\n",
    "        self.len = 0\n",
    " \n",
    "    def get(self, index):\n",
    "        \"\"\"\n",
    "        Get the value of the index-th node in the linked list. If the index is invalid, return -1.\n",
    "        :type index: int\n",
    "        :rtype: int\n",
    "        \"\"\"\n",
    "        #index start from 0\n",
    "        if index < 0 or index >= self.len:return -1\n",
    "        node = self.head.next\n",
    "        for i in range(index):\n",
    "            node = node.next\n",
    "            \n",
    "        return node.val\n",
    " \n",
    "    def addAtHead(self, val):\n",
    "        \"\"\"\n",
    "        Add a node of value val before the first element of the linked list. After the insertion, the new node will be the first node of the linked list.\n",
    "        :type val: int\n",
    "        :rtype: void\n",
    "        \"\"\"\n",
    "        node = ListNode(val)\n",
    "        aft = self.head.next\n",
    "        self.head.next = node\n",
    "        node.prev = self.head\n",
    "        node.next = aft\n",
    "        aft.prev = node\n",
    "        self.len += 1\n",
    "        \n",
    " \n",
    "    def addAtTail(self, val):\n",
    "        \"\"\"\n",
    "        Append a node of value val to the last element of the linked list.\n",
    "        :type val: int\n",
    "        :rtype: void\n",
    "        \"\"\"\n",
    "        node = ListNode(val)\n",
    "        bfr = self.tail.prev\n",
    "        bfr.next = node\n",
    "        node.prev = bfr\n",
    "        node.next = self.tail\n",
    "        self.tail.prev = node\n",
    "        self.len += 1\n",
    "        \n",
    " \n",
    "    def addAtIndex(self, index, val):\n",
    "        \"\"\"\n",
    "        Add a node of value val before the index-th node in the linked list. If index equals to the length of linked list, the node will be appended to the end of linked list. If index is greater than the length, the node will not be inserted.\n",
    "        :type index: int\n",
    "        :type val: int\n",
    "        :rtype: void\n",
    "        \"\"\"\n",
    "        if index <= self.len:\n",
    "            bfr = self.head\n",
    "            for i in range(index):\n",
    "                bfr = bfr.next\n",
    "            node = ListNode(val)\n",
    "            aft = bfr.next\n",
    "            bfr.next = node\n",
    "            node.next = aft\n",
    "            aft.prev = node\n",
    "            node.prev = bfr\n",
    "            self.len += 1\n",
    " \n",
    "    def deleteAtIndex(self, index):\n",
    "        \"\"\"\n",
    "        Delete the index-th node in the linked list, if the index is valid.\n",
    "        :type index: int\n",
    "        :rtype: void\n",
    "        \"\"\"\n",
    "        if 0 <= index < self.len:\n",
    "            node = self.head.next\n",
    "            for i in range(index):\n",
    "                node = node.next\n",
    "            bfr = node.prev\n",
    "            aft = node.next\n",
    "            bfr.next = aft\n",
    "            aft.prev = bfr\n",
    "            self.len -= 1\n",
    "                \n",
    "        \n",
    " \n",
    " \n",
    "# Your MyLinkedList object will be instantiated and called as such:\n",
    "# obj = MyLinkedList()\n",
    "# param_1 = obj.get(index)\n",
    "# obj.addAtHead(val)\n",
    "# obj.addAtTail(val)\n",
    "# obj.addAtIndex(index,val)\n",
    "# obj.deleteAtIndex(index)"
   ]
  },
  {
   "cell_type": "markdown",
   "metadata": {},
   "source": [
    "# 反转链表"
   ]
  },
  {
   "cell_type": "markdown",
   "metadata": {},
   "source": [
    "## 206 Reverse Linked List (双指针法)"
   ]
  },
  {
   "cell_type": "markdown",
   "metadata": {},
   "source": [
    "Given the head of a singly linked list, reverse the list, and return the reversed list.\n",
    "\n",
    " \n",
    "\n",
    "Example 1:\n",
    "\n",
    "\n",
    "Input: head = [1,2,3,4,5]\n",
    "Output: [5,4,3,2,1]"
   ]
  },
  {
   "cell_type": "code",
   "execution_count": null,
   "metadata": {},
   "outputs": [],
   "source": [
    "class Solution:\n",
    "    def reverseList(self, head):\n",
    "        cur = head\n",
    "        pre = None\n",
    "        while cur:\n",
    "            temp = cur.next\n",
    "            cur.next = pre\n",
    "            pre = cur\n",
    "            cur = temp\n",
    "        return pre\n"
   ]
  },
  {
   "cell_type": "markdown",
   "metadata": {},
   "source": [
    "## 92"
   ]
  },
  {
   "cell_type": "markdown",
   "metadata": {},
   "source": [
    "Given the head of a singly linked list and two integers left and right where left <= right, reverse the nodes of the list from position left to position right, and return the reversed list.\n",
    "\n",
    " \n",
    "\n",
    "Example 1:\n",
    "\n",
    "\n",
    "Input: head = [1,2,3,4,5], left = 2, right = 4\n",
    "Output: [1,4,3,2,5]"
   ]
  },
  {
   "cell_type": "markdown",
   "metadata": {},
   "source": [
    "https://www.youtube.com/watch?v=RF_M9tX4Eag"
   ]
  },
  {
   "cell_type": "code",
   "execution_count": 4,
   "metadata": {},
   "outputs": [],
   "source": [
    "class Solution:\n",
    "    def reverseBetween(self, head, left: int, right: int):\n",
    "        dummy = ListNode(0, head)\n",
    "        \n",
    "        # 1) reach node at position \"left\"\n",
    "        leftPrev, cur = dummy, head\n",
    "        for i in range(left - 1):\n",
    "            leftPrev, cur = cur, cur.next\n",
    "            \n",
    "        # now cur=\"left\", leftPrev=\"node before left\"\n",
    "        # 2) reverse from left to right\n",
    "        prev = None\n",
    "        for i in range(right - left +1):\n",
    "            tmpNext = cur.next\n",
    "            cur.next = prev\n",
    "            prev, cur = cur, tmpNext\n",
    "            \n",
    "        # 3) update points\n",
    "        leftPrev.next.next = cur  # cur is node after \"right\"\n",
    "        leftPrev.next = prev   # prev is \"right\"\n",
    "        \n",
    "        return dummy.next"
   ]
  },
  {
   "cell_type": "markdown",
   "metadata": {},
   "source": [
    "## 234 Palindrome Linked List回文链表"
   ]
  },
  {
   "cell_type": "markdown",
   "metadata": {},
   "source": [
    "Given the head of a singly linked list, return true if it is a palindrome.\n",
    "\n",
    " \n",
    "\n",
    "Example 1:\n",
    "\n",
    "\n",
    "Input: head = [1,2,2,1]\n",
    "Output: true"
   ]
  },
  {
   "cell_type": "markdown",
   "metadata": {},
   "source": [
    "https://www.youtube.com/watch?v=yOzXms1J6Nk"
   ]
  },
  {
   "cell_type": "markdown",
   "metadata": {},
   "source": [
    "**Method 1: 转换成array**  \n",
    "O(n)memory"
   ]
  },
  {
   "cell_type": "code",
   "execution_count": 5,
   "metadata": {},
   "outputs": [],
   "source": [
    "class Solution:\n",
    "    def isPalindrome(self, head):\n",
    "        nums = []\n",
    "        while head:\n",
    "            nums.append(head.val)\n",
    "            head = head.next\n",
    "        l, r = 0, len(nums) - 1\n",
    "        while l <= r:\n",
    "            if nums[l] != nums[r]:\n",
    "                return False\n",
    "            l += 1\n",
    "            r -= 1\n",
    "        return True"
   ]
  },
  {
   "cell_type": "markdown",
   "metadata": {},
   "source": [
    "**Method 2:**  \n",
    "O(1) memory"
   ]
  },
  {
   "cell_type": "code",
   "execution_count": 7,
   "metadata": {},
   "outputs": [],
   "source": [
    "class Solution:\n",
    "    def isPalindrome(self, head):\n",
    "        fast = head\n",
    "        slow = head\n",
    "        \n",
    "        # find middle (slow)\n",
    "        while fast and fast.next:\n",
    "            fast = fast.next.next\n",
    "            slow = slow.next\n",
    "        \n",
    "        # reverse second half\n",
    "        prev = None\n",
    "        while slow:\n",
    "            tmp = slow.next\n",
    "            slow.next = prev\n",
    "            prev, slow = slow, tmp\n",
    "            \n",
    "        # check palindrome\n",
    "        left, right = head, prev\n",
    "        while right:\n",
    "            if left.val != right.val:\n",
    "                return False\n",
    "            left = left.next\n",
    "            right = right.next\n",
    "        return True"
   ]
  },
  {
   "cell_type": "markdown",
   "metadata": {},
   "source": [
    "# 删除链表的倒数第N个节点"
   ]
  },
  {
   "cell_type": "markdown",
   "metadata": {},
   "source": [
    "## 19 Remove Nth Node From End of List"
   ]
  },
  {
   "cell_type": "markdown",
   "metadata": {},
   "source": [
    "Given the head of a linked list, remove the nth node from the end of the list and return its head.\n",
    "\n",
    " \n",
    "\n",
    "Example 1:\n",
    "\n",
    "\n",
    "Input: head = [1,2,3,4,5], n = 2\n",
    "Output: [1,2,3,5]"
   ]
  },
  {
   "cell_type": "markdown",
   "metadata": {},
   "source": [
    "https://www.youtube.com/watch?v=XVuQxVej6y8&t=193s"
   ]
  },
  {
   "cell_type": "code",
   "execution_count": 9,
   "metadata": {},
   "outputs": [],
   "source": [
    "class Solution:\n",
    "    def removeNthFromEnd(self, head, n: int):\n",
    "        dummy = ListNode(0, head)\n",
    "        left = dummy\n",
    "        right = head\n",
    "        \n",
    "        while n > 0 and right:\n",
    "            right = right.next\n",
    "            n -= 1\n",
    "            \n",
    "        while right:\n",
    "            right = right.next\n",
    "            left = left.next\n",
    "        \n",
    "        # delete\n",
    "        left.next = left.next.next\n",
    "        \n",
    "        return dummy.next"
   ]
  },
  {
   "cell_type": "markdown",
   "metadata": {},
   "source": [
    "# 链表相交"
   ]
  },
  {
   "cell_type": "markdown",
   "metadata": {},
   "source": [
    "## 160 Intersection of Two Linked Lists"
   ]
  },
  {
   "cell_type": "markdown",
   "metadata": {},
   "source": [
    "Given the heads of two singly linked-lists headA and headB, return the node at which the two lists intersect. If the two linked lists have no intersection at all, return null.\n",
    "\n",
    "For example, the following two linked lists begin to intersect at node c1:\n",
    "\n",
    "\n",
    "The test cases are generated such that there are no cycles anywhere in the entire linked structure.\n",
    "\n",
    "Note that the linked lists must retain their original structure after the function returns.\n",
    "\n",
    "Custom Judge:\n",
    "\n",
    "The inputs to the judge are given as follows (your program is not given these inputs):\n",
    "\n",
    "intersectVal - The value of the node where the intersection occurs. This is 0 if there is no intersected node.\n",
    "listA - The first linked list.\n",
    "listB - The second linked list.\n",
    "skipA - The number of nodes to skip ahead in listA (starting from the head) to get to the intersected node.\n",
    "skipB - The number of nodes to skip ahead in listB (starting from the head) to get to the intersected node.\n",
    "The judge will then create the linked structure based on these inputs and pass the two heads, headA and headB to your program. If you correctly return the intersected node, then your solution will be accepted.\n",
    "\n",
    " \n",
    "\n",
    "Example 1:\n",
    "\n",
    "\n",
    "Input: intersectVal = 8, listA = [4,1,8,4,5], listB = [5,6,1,8,4,5], skipA = 2, skipB = 3\n",
    "Output: Intersected at '8'\n",
    "Explanation: The intersected node's value is 8 (note that this must not be 0 if the two lists intersect).\n",
    "From the head of A, it reads as [4,1,8,4,5]. From the head of B, it reads as [5,6,1,8,4,5]. There are 2 nodes before the intersected node in A; There are 3 nodes before the intersected node in B.\n",
    "Example 2:\n",
    "\n",
    "\n",
    "Input: intersectVal = 2, listA = [1,9,1,2,4], listB = [3,2,4], skipA = 3, skipB = 1\n",
    "Output: Intersected at '2'\n",
    "Explanation: The intersected node's value is 2 (note that this must not be 0 if the two lists intersect).\n",
    "From the head of A, it reads as [1,9,1,2,4]. From the head of B, it reads as [3,2,4]. There are 3 nodes before the intersected node in A; There are 1 node before the intersected node in B."
   ]
  },
  {
   "cell_type": "code",
   "execution_count": 4,
   "metadata": {},
   "outputs": [],
   "source": [
    "class Solution:\n",
    "    def getIntersectionNode(self, headA, headB):\n",
    "        #计算长度需要另用一个curA,curB，防止计算长度时更改curA/B所在位置\n",
    "        curA = headA\n",
    "        curB = headB\n",
    "        #计算两个链表的长度\n",
    "        lenA, lenB = 0, 0\n",
    "        while curA:\n",
    "            lenA += 1\n",
    "            curA = curA.next\n",
    "        while curB:\n",
    "            lenB += 1\n",
    "            curB = curB.next\n",
    "            \n",
    "        #让headA,headB末尾对齐：\n",
    "        if lenA < lenB:\n",
    "            for i in range(lenB - lenA):\n",
    "                headB = headB.next\n",
    "        else:\n",
    "            for i in range(lenA - lenB):  \n",
    "                headA = headA.next\n",
    "        #比较curA和curB是否相同，如果不相同，同时向后移动curA和curB，如果遇到curA == curB，则找到焦点。 \n",
    "        while headA and headB and headA != headB:\n",
    "            headA = headA.next\n",
    "            headB = headB.next\n",
    "\n",
    "        return headA"
   ]
  },
  {
   "cell_type": "markdown",
   "metadata": {},
   "source": [
    "# 环形链表"
   ]
  },
  {
   "cell_type": "markdown",
   "metadata": {},
   "source": [
    "## 142. Linked List Cycle II 环形链表入口"
   ]
  },
  {
   "cell_type": "markdown",
   "metadata": {},
   "source": [
    "Given the head of a linked list, return the node where the cycle begins. If there is no cycle, return null.\n",
    "\n",
    "There is a cycle in a linked list if there is some node in the list that can be reached again by continuously following the next pointer. Internally, pos is used to denote the index of the node that tail's next pointer is connected to (0-indexed). It is -1 if there is no cycle. Note that pos is not passed as a parameter.\n",
    "\n",
    "Do not modify the linked list.\n",
    "\n",
    " \n",
    "\n",
    "Example 1:\n",
    "\n",
    "\n",
    "Input: head = [3,2,0,-4], pos = 1\n",
    "Output: tail connects to node index 1\n",
    "Explanation: There is a cycle in the linked list, where tail connects to the second node."
   ]
  },
  {
   "cell_type": "markdown",
   "metadata": {},
   "source": [
    "https://www.youtube.com/watch?v=fh5JNl62H7Q  \n",
    "https://mp.weixin.qq.com/s?__biz=MzUxNjY5NTYxNA==&mid=2247488853&idx=2&sn=f35789bdd87ec7f87d31f9a844ba8699&scene=21#wechat_redirect"
   ]
  },
  {
   "cell_type": "code",
   "execution_count": 3,
   "metadata": {},
   "outputs": [],
   "source": [
    "# Definition for singly-linked list.\n",
    "# class ListNode:\n",
    "#     def __init__(self, x):\n",
    "#         self.val = x\n",
    "#         self.next = None\n",
    "\n",
    "class Solution:\n",
    "    def detectCycle(self, head):\n",
    "        slow = fast = head\n",
    "        while fast and fast.next:\n",
    "            slow = slow.next\n",
    "            fast = fast.next.next\n",
    "            if slow == fast:\n",
    "                slow2 = head\n",
    "                while slow != slow2:\n",
    "                    slow = slow.next\n",
    "                    slow2 = slow2.next\n",
    "                return slow\n",
    "        return None"
   ]
  },
  {
   "cell_type": "markdown",
   "metadata": {},
   "source": [
    "## 141. Linked List Cycle 是否环形链表"
   ]
  },
  {
   "cell_type": "markdown",
   "metadata": {},
   "source": [
    "Given head, the head of a linked list, determine if the linked list has a cycle in it.\n",
    "\n",
    "There is a cycle in a linked list if there is some node in the list that can be reached again by continuously following the next pointer. Internally, pos is used to denote the index of the node that tail's next pointer is connected to. Note that pos is not passed as a parameter.\n",
    "\n",
    "Return true if there is a cycle in the linked list. Otherwise, return false.\n",
    "\n",
    " \n",
    "\n",
    "Example 1:\n",
    "\n",
    "\n",
    "Input: head = [3,2,0,-4], pos = 1\n",
    "Output: true\n",
    "Explanation: There is a cycle in the linked list, where the tail connects to the 1st node (0-indexed)."
   ]
  },
  {
   "cell_type": "code",
   "execution_count": null,
   "metadata": {},
   "outputs": [],
   "source": [
    "# Definition for singly-linked list.\n",
    "# class ListNode:\n",
    "#     def __init__(self, x):\n",
    "#         self.val = x\n",
    "#         self.next = None\n",
    "\n",
    "class Solution:\n",
    "    def hasCycle(self, head):\n",
    "        slow = fast = head\n",
    "        while fast and fast.next:\n",
    "            fast = fast.next.next\n",
    "            slow = slow.next\n",
    "            if fast == slow:\n",
    "                return True\n",
    "                break\n",
    "        return False"
   ]
  }
 ],
 "metadata": {
  "kernelspec": {
   "display_name": "Python 3",
   "language": "python",
   "name": "python3"
  },
  "language_info": {
   "codemirror_mode": {
    "name": "ipython",
    "version": 3
   },
   "file_extension": ".py",
   "mimetype": "text/x-python",
   "name": "python",
   "nbconvert_exporter": "python",
   "pygments_lexer": "ipython3",
   "version": "3.7.0"
  },
  "toc": {
   "base_numbering": 1,
   "nav_menu": {},
   "number_sections": true,
   "sideBar": true,
   "skip_h1_title": false,
   "title_cell": "Table of Contents",
   "title_sidebar": "Contents",
   "toc_cell": false,
   "toc_position": {},
   "toc_section_display": true,
   "toc_window_display": true
  }
 },
 "nbformat": 4,
 "nbformat_minor": 2
}
