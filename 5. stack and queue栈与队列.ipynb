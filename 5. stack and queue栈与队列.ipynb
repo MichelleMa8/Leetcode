{
 "cells": [
  {
   "cell_type": "markdown",
   "metadata": {},
   "source": [
    "# 用栈实现队列"
   ]
  },
  {
   "cell_type": "markdown",
   "metadata": {},
   "source": [
    "## 232.Implement Queue using Stacks用栈实现队列"
   ]
  },
  {
   "cell_type": "markdown",
   "metadata": {},
   "source": [
    "Implement a first in first out (FIFO) queue using only two stacks. The implemented queue should support all the functions of a normal queue (push, peek, pop, and empty).\n",
    "\n",
    "Implement the MyQueue class:\n",
    "\n",
    "void push(int x) Pushes element x to the back of the queue.\n",
    "int pop() Removes the element from the front of the queue and returns it.\n",
    "int peek() Returns the element at the front of the queue.\n",
    "boolean empty() Returns true if the queue is empty, false otherwise.\n",
    "Notes:\n",
    "\n",
    "You must use only standard operations of a stack, which means only push to top, peek/pop from top, size, and is empty operations are valid.\n",
    "Depending on your language, the stack may not be supported natively. You may simulate a stack using a list or deque (double-ended queue) as long as you use only a stack's standard operations.\n",
    " \n",
    "\n",
    "Example 1:\n",
    "\n",
    "Input\n",
    "[\"MyQueue\", \"push\", \"push\", \"peek\", \"pop\", \"empty\"]\n",
    "[[], [1], [2], [], [], []]\n",
    "Output\n",
    "[null, null, null, 1, 1, false]\n",
    "\n",
    "Explanation\n",
    "MyQueue myQueue = new MyQueue();\n",
    "myQueue.push(1); // queue is: [1]\n",
    "myQueue.push(2); // queue is: [1, 2] (leftmost is front of the queue)\n",
    "myQueue.peek(); // return 1\n",
    "myQueue.pop(); // return 1, queue is [2]\n",
    "myQueue.empty(); // return false"
   ]
  },
  {
   "cell_type": "code",
   "execution_count": 3,
   "metadata": {},
   "outputs": [],
   "source": [
    "class MyQueue:\n",
    "\n",
    "    def __init__(self):\n",
    "        self.stack1 = list()\n",
    "        self.stack2 = list()\n",
    "\n",
    "    def push(self, x: int) -> None:\n",
    "        self.stack1.append(x)\n",
    "\n",
    "    def pop(self) -> int:\n",
    "        if self.stack2 == []:\n",
    "            while self.stack1:\n",
    "                tmp = self.stack1.pop()\n",
    "                self.stack2.append(tmp)\n",
    "        return self.stack2.pop()\n",
    "\n",
    "    def peek(self) -> int:\n",
    "        if self.stack2 == []:\n",
    "            while self.stack1:\n",
    "                tmp = self.stack1.pop()\n",
    "                self.stack2.append(tmp)\n",
    "        return self.stack2[-1]       \n",
    "\n",
    "    def empty(self) -> bool:\n",
    "        return self.stack1 == [] and self.stack2 == []\n",
    "\n",
    "\n",
    "# Your MyQueue object will be instantiated and called as such:\n",
    "# obj = MyQueue()\n",
    "# obj.push(x)\n",
    "# param_2 = obj.pop()\n",
    "# param_3 = obj.peek()\n",
    "# param_4 = obj.empty()"
   ]
  },
  {
   "cell_type": "markdown",
   "metadata": {},
   "source": [
    "# 用队列实现栈"
   ]
  },
  {
   "cell_type": "markdown",
   "metadata": {},
   "source": [
    "## 225. Implement Stack using Queues"
   ]
  },
  {
   "cell_type": "markdown",
   "metadata": {},
   "source": [
    "Implement a last-in-first-out (LIFO) stack using only two queues. The implemented stack should support all the functions of a normal stack (push, top, pop, and empty).\n",
    "\n",
    "Implement the MyStack class:\n",
    "\n",
    "void push(int x) Pushes element x to the top of the stack.\n",
    "int pop() Removes the element on the top of the stack and returns it.\n",
    "int top() Returns the element on the top of the stack.\n",
    "boolean empty() Returns true if the stack is empty, false otherwise.\n",
    "Notes:\n",
    "\n",
    "You must use only standard operations of a queue, which means that only push to back, peek/pop from front, size and is empty operations are valid.\n",
    "Depending on your language, the queue may not be supported natively. You may simulate a queue using a list or deque (double-ended queue) as long as you use only a queue's standard operations.\n",
    " \n",
    "\n",
    "Example 1:   \n",
    "\n",
    "Input\n",
    "[\"MyStack\", \"push\", \"push\", \"top\", \"pop\", \"empty\"]   \n",
    "[[], [1], [2], [], [], []]   \n",
    "Output\n",
    "[null, null, null, 2, 2, false]   \n",
    "\n",
    "Explanation   \n",
    "MyStack myStack = new MyStack();   \n",
    "myStack.push(1);   \n",
    "myStack.push(2);   \n",
    "myStack.top(); // return 2   \n",
    "myStack.pop(); // return 2   \n",
    "myStack.empty(); // return False   "
   ]
  },
  {
   "cell_type": "code",
   "execution_count": 6,
   "metadata": {},
   "outputs": [],
   "source": [
    "class MyStack:\n",
    "    from collections import deque\n",
    "\n",
    "    def __init__(self):\n",
    "        self.que1 = deque()\n",
    "        self.que2 = deque()\n",
    "\n",
    "    def push(self, x: int) -> None:\n",
    "        self.que1.append(x)\n",
    "\n",
    "    def pop(self) -> int:\n",
    "        size = len(self.que1) - 1 #这里减一是为了保证最后面的元素\n",
    "        while size > 0:\n",
    "            size -= 1\n",
    "            self.que2.append(self.que1.popleft())\n",
    "        result = self.que1.popleft()\n",
    "        self.que1, self.que2 = self.que2, self.que1 #交换因为que1经过之前的操作应该空了\n",
    "        #不能直接使用que1 = que2，这样que2的改变会影响que1，可以用浅拷贝\n",
    "        return result\n",
    "\n",
    "    def top(self) -> int:\n",
    "        return self.que1[-1]\n",
    "\n",
    "    def empty(self) -> bool:\n",
    "        return len(self.que1) == 0\n",
    "\n",
    "\n",
    "# Your MyStack object will be instantiated and called as such:\n",
    "# obj = MyStack()\n",
    "# obj.push(x)\n",
    "# param_2 = obj.pop()\n",
    "# param_3 = obj.top()\n",
    "# param_4 = obj.empty()"
   ]
  },
  {
   "cell_type": "markdown",
   "metadata": {},
   "source": [
    "# 栈的应用"
   ]
  },
  {
   "cell_type": "markdown",
   "metadata": {},
   "source": [
    "## 20. Valid Parentheses有效的括号"
   ]
  },
  {
   "cell_type": "markdown",
   "metadata": {},
   "source": [
    "Given a string s containing just the characters '(', ')', '{', '}', '[' and ']', determine if the input string is valid.\n",
    "\n",
    "An input string is valid if:\n",
    "\n",
    "Open brackets must be closed by the same type of brackets.\n",
    "Open brackets must be closed in the correct order.\n",
    " \n",
    "\n",
    "Example 1:   \n",
    "\n",
    "Input: s = \"()\"   \n",
    "Output: true   \n",
    "Example 2:   \n",
    "\n",
    "Input: s = \"()[]{}\"   \n",
    "Output: true   "
   ]
  },
  {
   "cell_type": "markdown",
   "metadata": {},
   "source": [
    "https://mp.weixin.qq.com/s?__biz=MzUxNjY5NTYxNA==&mid=2247490500&idx=2&sn=19daeb8d0aeab7a69cd9335f4fa13dba&scene=21#wechat_redirect\n",
    "\n",
    "三种不匹配情况：\n",
    "1. 第一种情况，字符串里左方向的括号多余了 ，所以不匹配：   \n",
    "    已经遍历完了字符串，但是栈不为空，说明有相应的左括号没有右括号来匹配，所以return false\n",
    "2. 第二种情况，括号没有多余，但是 括号的类型没有匹配上：   \n",
    "    遍历字符串匹配的过程中，发现栈里没有要匹配的字符。所以return false\n",
    "3. 第三种情况，字符串里右方向的括号多余了，所以不匹配：   \n",
    "    遍历字符串匹配的过程中，栈已经为空了，没有匹配的字符了，说明右括号没有找到对应的左括号return false   \n",
    "\n",
    "那么什么时候说明左括号和右括号全都匹配了呢，就是字符串遍历完之后，栈是空的，就说明全都匹配了。"
   ]
  },
  {
   "cell_type": "code",
   "execution_count": 7,
   "metadata": {},
   "outputs": [],
   "source": [
    "class Solution:\n",
    "    def isValid(self, s: str) -> bool:\n",
    "        stack = [] #保存未匹配的左括号\n",
    "        mapping = {')':'(', ']':'[', '}':'{'}\n",
    "        for i in s:\n",
    "            if i in '({[':   #当前是左括号，入栈\n",
    "                stack.append(i)\n",
    "            elif stack and stack[-1] == mapping[i]:\n",
    "                stack.pop()\n",
    "            else:\n",
    "                return False\n",
    "        return stack == []\n",
    "                        "
   ]
  },
  {
   "cell_type": "markdown",
   "metadata": {},
   "source": [
    "## 1047. Remove All Adjacent Duplicates In String删除字符串中的所有相邻重复项"
   ]
  },
  {
   "cell_type": "markdown",
   "metadata": {},
   "source": [
    "You are given a string s consisting of lowercase English letters. A duplicate removal consists of choosing two adjacent and equal letters and removing them.\n",
    "\n",
    "We repeatedly make duplicate removals on s until we no longer can.\n",
    "\n",
    "Return the final string after all such duplicate removals have been made. It can be proven that the answer is unique.\n",
    "\n",
    " \n",
    "\n",
    "Example 1:\n",
    "\n",
    "Input: s = \"abbaca\"\n",
    "Output: \"ca\"\n",
    "Explanation: \n",
    "For example, in \"abbaca\" we could remove \"bb\" since the letters are adjacent and equal, and this is the only possible move.  The result of this move is that the string is \"aaca\", of which only \"aa\" is possible, so the final string is \"ca\".\n",
    "   \n",
    "Example 2:\n",
    "\n",
    "Input: s = \"azxxzy\"\n",
    "Output: \"ay\""
   ]
  },
  {
   "cell_type": "code",
   "execution_count": 10,
   "metadata": {},
   "outputs": [],
   "source": [
    "class Solution:\n",
    "    def removeDuplicates(self, s: str) -> str:\n",
    "        res = []\n",
    "        for i in s:\n",
    "            if res and res[-1] == i:\n",
    "                res.pop()\n",
    "            else:\n",
    "                res.append(i)\n",
    "        return ''.join(res)            \n",
    "     "
   ]
  },
  {
   "cell_type": "markdown",
   "metadata": {},
   "source": [
    "## 150. Evaluate Reverse Polish Notation逆波兰表达式求值"
   ]
  },
  {
   "cell_type": "markdown",
   "metadata": {},
   "source": [
    "Evaluate the value of an arithmetic expression in Reverse Polish Notation.\n",
    "\n",
    "Valid operators are +, -, *, and /. Each operand may be an integer or another expression.\n",
    "\n",
    "Note that division between two integers should truncate toward zero.\n",
    "\n",
    "It is guaranteed that the given RPN expression is always valid. That means the expression would always evaluate to a result, and there will not be any division by zero operation.\n",
    "\n",
    " \n",
    "\n",
    "Example 1:\n",
    "\n",
    "Input: tokens = [\"2\",\"1\",\"+\",\"3\",\"*\"]\n",
    "Output: 9\n",
    "Explanation: ((2 + 1) * 3) = 9\n",
    "Example 2:\n",
    "\n",
    "Input: tokens = [\"4\",\"13\",\"5\",\"/\",\"+\"]\n",
    "Output: 6\n",
    "Explanation: (4 + (13 / 5)) = 6\n",
    "Example 3:\n",
    "\n",
    "Input: tokens = [\"10\",\"6\",\"9\",\"3\",\"+\",\"-11\",\"*\",\"/\",\"*\",\"17\",\"+\",\"5\",\"+\"]\n",
    "Output: 22\n",
    "Explanation: ((10 * (6 / ((9 + 3) * -11))) + 17) + 5\n",
    "= ((10 * (6 / (12 * -11))) + 17) + 5\n",
    "= ((10 * (6 / -132)) + 17) + 5\n",
    "= ((10 * 0) + 17) + 5\n",
    "= (0 + 17) + 5\n",
    "= 17 + 5\n",
    "= 22"
   ]
  },
  {
   "cell_type": "code",
   "execution_count": 24,
   "metadata": {},
   "outputs": [],
   "source": [
    "class Solution:\n",
    "    def evalRPN(self, tokens) -> int:\n",
    "        stack = []\n",
    "        for i in tokens:\n",
    "            if i not in ['+','-','*','/']:\n",
    "                stack.append(i)\n",
    "            else:\n",
    "                n1 = stack.pop()\n",
    "                n2 = stack.pop()\n",
    "                # eval()用来执行一个字符串表达式，并返回表达式的值\n",
    "                res = eval(str(n2)+i+str(n1))\n",
    "                #防止除法有小数，需要将res保留至整数\n",
    "                stack.append(int(res))\n",
    "        return stack[-1]"
   ]
  },
  {
   "cell_type": "code",
   "execution_count": 25,
   "metadata": {},
   "outputs": [
    {
     "data": {
      "text/plain": [
       "9"
      ]
     },
     "execution_count": 25,
     "metadata": {},
     "output_type": "execute_result"
    }
   ],
   "source": [
    "m=Solution()\n",
    "m.evalRPN([\"2\",\"1\",\"+\",\"3\",\"*\"])"
   ]
  },
  {
   "cell_type": "markdown",
   "metadata": {},
   "source": [
    "## 71. Simplify Path简化路径"
   ]
  },
  {
   "cell_type": "markdown",
   "metadata": {},
   "source": [
    "Given a string path, which is an absolute path (starting with a slash '/') to a file or directory in a Unix-style file system, convert it to the simplified canonical path.\n",
    "\n",
    "In a Unix-style file system, a period '.' refers to the current directory, a double period '..' refers to the directory up a level, and any multiple consecutive slashes (i.e. '//') are treated as a single slash '/'. For this problem, any other format of periods such as '...' are treated as file/directory names.\n",
    "\n",
    "The canonical path should have the following format:\n",
    "\n",
    "The path starts with a single slash '/'.\n",
    "Any two directories are separated by a single slash '/'.\n",
    "The path does not end with a trailing '/'.\n",
    "The path only contains the directories on the path from the root directory to the target file or directory (i.e., no period '.' or double period '..')\n",
    "Return the simplified canonical path.\n",
    "\n",
    " \n",
    "\n",
    "Example 1:\n",
    "\n",
    "Input: path = \"/home/\"\n",
    "Output: \"/home\"\n",
    "Explanation: Note that there is no trailing slash after the last directory name.\n",
    "Example 2:\n",
    "\n",
    "Input: path = \"/../\"\n",
    "Output: \"/\"\n",
    "Explanation: Going one level up from the root directory is a no-op, as the root level is the highest level you can go.\n",
    "Example 3:\n",
    "\n",
    "Input: path = \"/home//foo/\"\n",
    "Output: \"/home/foo\"\n",
    "Explanation: In the canonical path, multiple consecutive slashes are replaced by a single one."
   ]
  },
  {
   "cell_type": "code",
   "execution_count": 12,
   "metadata": {},
   "outputs": [],
   "source": [
    "class Solution:\n",
    "    def simplifyPath(self, path: str) -> str:\n",
    "        stack = []\n",
    "        cur = \"\"\n",
    "        \n",
    "        for c in path + \"/\":\n",
    "            if c == \"/\":\n",
    "                if cur == \"..\":\n",
    "                    if stack:\n",
    "                        stack.pop()\n",
    "                elif cur != \"\" and cur != \".\":\n",
    "                    stack.append(cur)\n",
    "                cur = \"\"\n",
    "            else:\n",
    "                cur += c\n",
    "        return \"/\" + \"/\".join(stack)"
   ]
  },
  {
   "cell_type": "code",
   "execution_count": 16,
   "metadata": {},
   "outputs": [],
   "source": [
    "class Solution:\n",
    "    def simplifyPath(self, path: str) -> str:\n",
    "        stack = []\n",
    "        cur = path.split(\"/\")\n",
    "        \n",
    "        for c in cur:\n",
    "            if stack and c == \"..\":\n",
    "                stack.pop()\n",
    "            elif c == \".\" or c == \"\" or c == \"..\":\n",
    "                continue\n",
    "            else:\n",
    "                stack.append(c)\n",
    "        return \"/\" + \"/\".join(stack)"
   ]
  },
  {
   "cell_type": "code",
   "execution_count": 18,
   "metadata": {},
   "outputs": [
    {
     "data": {
      "text/plain": [
       "'/'"
      ]
     },
     "execution_count": 18,
     "metadata": {},
     "output_type": "execute_result"
    }
   ],
   "source": [
    "m=Solution()\n",
    "m.simplifyPath(\"/../\")"
   ]
  },
  {
   "cell_type": "markdown",
   "metadata": {},
   "source": [
    "## 华为笔试题：路径标准化"
   ]
  },
  {
   "cell_type": "markdown",
   "metadata": {},
   "source": [
    "有一个用户输入的路径字符串,要求输出标准化之后的路径,具体要求如下:\n",
    "    \n",
    "(1)输入的路径字符串可能包含大小写字母、\"/\"、 \".\",且固定以根目录\"/\"开头 \n",
    "\n",
    "(2)假定合法目录名仅能包含大小写字母,合法的目录层级分隔符为\"/\"\n",
    "\n",
    "(3)为了简化场景,输入路径均以合法目录名结束(因此不会存在以“/”、“.”、“..\"结尾的输入路径)\n",
    "\n",
    "(4)“.\"和“..\"为两个特殊目录名,分别表示当前目录和上级目录\n",
    "\n",
    "(5)路径标准化是指将特殊目录名去掉,生成最短的合法路径\n",
    "\n",
    "(6)输入的路径有可能非法(如后退到根目录之前、\"/a//b\"、\"/.../a\",\"/a.b\"均视为非法路径),此情况下输出\"/\""
   ]
  },
  {
   "cell_type": "code",
   "execution_count": 5,
   "metadata": {},
   "outputs": [],
   "source": [
    "import re\n",
    "def func():\n",
    "    path = input()\n",
    "    regular = re.findall(r'/{2,}', path)\n",
    "    regular2 = re.findall(r'\\.{3,}', path)\n",
    "    if len(regular) != 0 or len(regular2) != 0:\n",
    "        print('/')\n",
    "    else:\n",
    "        l = path.split('/')\n",
    "        res = []\n",
    "        for i in l:\n",
    "            if res != [] and i == '..':\n",
    "                res.pop()\n",
    "            elif i == '.':\n",
    "                continue\n",
    "            elif i.isalpha() == True:\n",
    "                res.append(i)\n",
    "            elif '.' in i:\n",
    "                res = []\n",
    "                break\n",
    "        print('/' + '/'.join(res))"
   ]
  },
  {
   "cell_type": "code",
   "execution_count": 26,
   "metadata": {},
   "outputs": [],
   "source": [
    "def func():\n",
    "    path = input()\n",
    "    l = path.split('/')\n",
    "    l = l[1:]\n",
    "    res = []\n",
    "    for i in l:\n",
    "        if res != [] and i == '..':\n",
    "            res.pop()\n",
    "        elif i == '.':\n",
    "            continue\n",
    "        elif i.isalpha() == True:\n",
    "            res.append(i)\n",
    "        else:\n",
    "            res = []\n",
    "            break\n",
    "    print('/' + '/'.join(res))"
   ]
  },
  {
   "cell_type": "code",
   "execution_count": 27,
   "metadata": {},
   "outputs": [
    {
     "name": "stdout",
     "output_type": "stream",
     "text": [
      "/a/b/..\n",
      "/a\n"
     ]
    }
   ],
   "source": [
    "func()"
   ]
  },
  {
   "cell_type": "markdown",
   "metadata": {},
   "source": [
    "# 队列的应用"
   ]
  },
  {
   "cell_type": "markdown",
   "metadata": {},
   "source": [
    "## 239. Sliding Window Maximum滑动窗口最大值"
   ]
  },
  {
   "cell_type": "markdown",
   "metadata": {},
   "source": [
    "**单调队列**"
   ]
  },
  {
   "cell_type": "markdown",
   "metadata": {},
   "source": [
    "You are given an array of integers nums, there is a sliding window of size k which is moving from the very left of the array to the very right. You can only see the k numbers in the window. Each time the sliding window moves right by one position.\n",
    "\n",
    "Return the max sliding window.\n",
    "\n",
    " \n",
    "\n",
    "Example 1:\n",
    "\n",
    "Input: nums = [1,3,-1,-3,5,3,6,7], k = 3\n",
    "Output: [3,3,5,5,6,7]\n",
    "Explanation: \n",
    "Window position                Max\n",
    "---------------               -----\n",
    "[1  3  -1] -3  5  3  6  7       3\n",
    " 1 [3  -1  -3] 5  3  6  7       3\n",
    " 1  3 [-1  -3  5] 3  6  7       5\n",
    " 1  3  -1 [-3  5  3] 6  7       5\n",
    " 1  3  -1  -3 [5  3  6] 7       6\n",
    " 1  3  -1  -3  5 [3  6  7]      7\n",
    "Example 2:\n",
    "\n",
    "Input: nums = [1], k = 1\n",
    "Output: [1]"
   ]
  },
  {
   "cell_type": "code",
   "execution_count": 27,
   "metadata": {},
   "outputs": [],
   "source": [
    "#使用双指针，时间复杂度很高\n",
    "class MyQueue:#单调队列，从大到小\n",
    "    def __init__(self):\n",
    "        self.queue = []\n",
    "    \n",
    "    #每次弹出的时候，比较当前要弹出的数值是否等于队列出口元素的数值，如果相等则弹出。\n",
    "    #同时pop之前判断队列当前是否为空。\n",
    "    def pop(self, value):\n",
    "        if self.queue and value == self.queue[0]:\n",
    "            self.queue.pop(0)\n",
    "    \n",
    "    #如果push的数值大于入口元素的数值，那么就将队列后端的数值弹出，直到push的数值小于等于队列入口元素的数值为止。\n",
    "    #这样就保持了队列里的数值是单调从大到小的了。\n",
    "    def push(self, value):\n",
    "        while self.queue and value > self.queue[-1]:\n",
    "            self.queue.pop()\n",
    "        self.queue.append(value)\n",
    "    \n",
    "    #查询当前队列里的最大值 直接返回队列前端也就是front就可以了。\n",
    "    def front(self):\n",
    "        return self.queue[0]\n",
    "        \n",
    "class Solution:\n",
    "    def maxSlidingWindow(self, nums: list, k: int) -> list:\n",
    "        que = MyQueue()\n",
    "        result = []\n",
    "        for i in range(k): #先将前k的元素放进队列\n",
    "            que.push(nums[i])\n",
    "        result.append(que.front()) #result 记录前k的元素的最大值\n",
    "        for i in range(k, len(nums)):\n",
    "            que.pop(nums[i - k]) #滑动窗口移除最前面元素\n",
    "            que.push(nums[i]) #滑动窗口前加入最后面的元素\n",
    "            result.append(que.front()) #记录对应的最大值\n",
    "        return result"
   ]
  },
  {
   "cell_type": "markdown",
   "metadata": {},
   "source": [
    "## 347.Top K Frequent Elements前 K 个高频元素"
   ]
  },
  {
   "cell_type": "markdown",
   "metadata": {},
   "source": [
    "**优先级队列**"
   ]
  },
  {
   "cell_type": "markdown",
   "metadata": {},
   "source": [
    "用python实现优先队列   \n",
    "https://zhuanlan.zhihu.com/p/67642557"
   ]
  },
  {
   "cell_type": "markdown",
   "metadata": {},
   "source": [
    "Given an integer array nums and an integer k, return the k most frequent elements. You may return the answer in any order.\n",
    "\n",
    " \n",
    "\n",
    "Example 1:\n",
    "\n",
    "Input: nums = [1,1,1,2,2,3], k = 2\n",
    "Output: [1,2]\n",
    "Example 2:\n",
    "\n",
    "Input: nums = [1], k = 1\n",
    "Output: [1]\n",
    "\n",
    "Follow up: Your algorithm's time complexity must be better than O(n log n), where n is the array's size."
   ]
  },
  {
   "cell_type": "markdown",
   "metadata": {},
   "source": [
    "这道题目主要涉及到如下三块内容：\n",
    "\n",
    "1. 要统计元素出现频率\n",
    "2. 对频率排序\n",
    "3. 找出前K个高频元素\n",
    "\n",
    "对频率进行排序，这里我们可以使用一种 容器适配器就是优先级队列。   \n",
    "优先级队列是一个披着队列外衣的堆"
   ]
  },
  {
   "cell_type": "code",
   "execution_count": null,
   "metadata": {},
   "outputs": [],
   "source": [
    "class Solution:\n",
    "    def topKFrequent(self, nums: list, k: int) -> list:\n",
    "        "
   ]
  }
 ],
 "metadata": {
  "kernelspec": {
   "display_name": "Python 3",
   "language": "python",
   "name": "python3"
  },
  "language_info": {
   "codemirror_mode": {
    "name": "ipython",
    "version": 3
   },
   "file_extension": ".py",
   "mimetype": "text/x-python",
   "name": "python",
   "nbconvert_exporter": "python",
   "pygments_lexer": "ipython3",
   "version": "3.7.0"
  },
  "toc": {
   "base_numbering": 1,
   "nav_menu": {},
   "number_sections": true,
   "sideBar": true,
   "skip_h1_title": false,
   "title_cell": "Table of Contents",
   "title_sidebar": "Contents",
   "toc_cell": false,
   "toc_position": {
    "height": "calc(100% - 180px)",
    "left": "10px",
    "top": "150px",
    "width": "222.594px"
   },
   "toc_section_display": true,
   "toc_window_display": false
  }
 },
 "nbformat": 4,
 "nbformat_minor": 2
}
