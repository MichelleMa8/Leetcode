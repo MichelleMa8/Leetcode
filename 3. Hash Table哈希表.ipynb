{
 "cells": [
  {
   "cell_type": "markdown",
   "metadata": {},
   "source": [
    "## 一般用三种结构解决哈希表问题：  \n",
    "1. 数组  \n",
    "2. set集合  \n",
    "3. map映射  "
   ]
  },
  {
   "cell_type": "markdown",
   "metadata": {},
   "source": [
    "判断一个元素是否出现在集合里，使用哈希表"
   ]
  },
  {
   "cell_type": "markdown",
   "metadata": {},
   "source": [
    "# 用<font color=red>数组</font>做哈希表"
   ]
  },
  {
   "cell_type": "markdown",
   "metadata": {},
   "source": [
    "字典：https://www.runoob.com/python3/python3-dictionary.html"
   ]
  },
  {
   "cell_type": "markdown",
   "metadata": {},
   "source": [
    "## 242. Valid Anagram有效的字母异位词"
   ]
  },
  {
   "cell_type": "markdown",
   "metadata": {},
   "source": [
    "Given two strings s and t, return true if t is an anagram of s, and false otherwise.\n",
    "\n",
    "An Anagram is a word or phrase formed by rearranging the letters of a different word or phrase, typically using all the original letters exactly once.\n",
    "\n",
    " \n",
    "\n",
    "Example 1:\n",
    "\n",
    "Input: s = \"anagram\", t = \"nagaram\"\n",
    "Output: true  \n",
    "Example 2:\n",
    "\n",
    "Input: s = \"rat\", t = \"car\"\n",
    "Output: false"
   ]
  },
  {
   "cell_type": "markdown",
   "metadata": {},
   "source": [
    "https://www.youtube.com/watch?v=9UtInBqnCgA"
   ]
  },
  {
   "cell_type": "code",
   "execution_count": 2,
   "metadata": {},
   "outputs": [],
   "source": [
    "#法一：\n",
    "class Solution:\n",
    "    def isAnagram(self, s: str, t: str) -> bool:\n",
    "        if len(s) != len(t):\n",
    "            return False\n",
    "        countS = {}\n",
    "        countT = {}\n",
    "        for i in range(len(s)):\n",
    "            countS[s[i]] = 1 + countS.get(s[i], 0)\n",
    "        for i in range(len(t)):\n",
    "            countT[t[i]] = 1 + countT.get(t[i], 0)  \n",
    "        for n in countS:\n",
    "            if countS[n] != countT.get(n, 0):\n",
    "                return False\n",
    "        return True"
   ]
  },
  {
   "cell_type": "code",
   "execution_count": 3,
   "metadata": {},
   "outputs": [],
   "source": [
    "#法二：\n",
    "class Solution:\n",
    "    def isAnagram(self, s: str, t: str) -> bool:\n",
    "        return Counter(s) == Counter(t)"
   ]
  },
  {
   "cell_type": "code",
   "execution_count": 4,
   "metadata": {},
   "outputs": [],
   "source": [
    "#法三：\n",
    "class Solution:\n",
    "    def isAnagram(self, s: str, t: str) -> bool:\n",
    "        return sorted(s) == sorted(t)"
   ]
  },
  {
   "cell_type": "markdown",
   "metadata": {},
   "source": [
    "## 383. Ransom Note赎金信"
   ]
  },
  {
   "cell_type": "markdown",
   "metadata": {},
   "source": [
    "Given two strings ransomNote and magazine, return true if ransomNote can be constructed from magazine and false otherwise.\n",
    "\n",
    "Each letter in magazine can only be used once in ransomNote.\n",
    "\n",
    " \n",
    "\n",
    "Example 1:\n",
    "\n",
    "Input: ransomNote = \"a\", magazine = \"b\"\n",
    "Output: false  \n",
    "\n",
    "Example 2:\n",
    "\n",
    "Input: ransomNote = \"aa\", magazine = \"ab\"\n",
    "Output: false"
   ]
  },
  {
   "cell_type": "code",
   "execution_count": 7,
   "metadata": {},
   "outputs": [],
   "source": [
    "class Solution:\n",
    "    def canConstruct(self, ransomNote: str, magazine: str) -> bool:\n",
    "        countR = {}\n",
    "        countM = {}\n",
    "        for i in range(len(magazine)):\n",
    "            #使用get()避免初始s[i]为0时报错\n",
    "            countM[magazine[i]] = countM.get(magazine[i], 0) + 1\n",
    "        for i in range(len(ransomNote)):\n",
    "            countR[ransomNote[i]] = countR.get(ransomNote[i], 0) + 1\n",
    "        for n in countR:\n",
    "            if countR[n] > countM.get(n, 0):\n",
    "                return False\n",
    "        return True"
   ]
  },
  {
   "cell_type": "code",
   "execution_count": 8,
   "metadata": {},
   "outputs": [],
   "source": [
    "class Solution:\n",
    "    def canConstruct(self, ransomNote: str, magazine: str) -> bool:\n",
    "        countC = {}\n",
    "        for i in range(len(magazine)):\n",
    "            countC[magazine[i]] = countC.get(magazine[i], 0) + 1\n",
    "        for i in range(len(ransomNote)):\n",
    "            countC[ransomNote[i]] = countC.get(ransomNote[i], 0) - 1\n",
    "        for n in countC:\n",
    "            if countC[n] < 0:\n",
    "                return False\n",
    "        return True"
   ]
  },
  {
   "cell_type": "markdown",
   "metadata": {},
   "source": [
    "## 49 Group Anagrams字母异位词分组"
   ]
  },
  {
   "cell_type": "markdown",
   "metadata": {},
   "source": [
    "Given an array of strings strs, group the anagrams together. You can return the answer in any order.\n",
    "\n",
    "An Anagram is a word or phrase formed by rearranging the letters of a different word or phrase, typically using all the original letters exactly once.\n",
    "\n",
    " \n",
    "\n",
    "Example 1:\n",
    "\n",
    "Input: strs = [\"eat\",\"tea\",\"tan\",\"ate\",\"nat\",\"bat\"]\n",
    "Output: [[\"bat\"],[\"nat\",\"tan\"],[\"ate\",\"eat\",\"tea\"]]\n",
    "Example 2:\n",
    "\n",
    "Input: strs = [\"\"]\n",
    "Output: [[\"\"]]"
   ]
  },
  {
   "cell_type": "code",
   "execution_count": 9,
   "metadata": {},
   "outputs": [],
   "source": [
    "class Solution:\n",
    "    def groupAnagrams(self, strs):\n",
    "        # 使用hash保存对每个字符串按字母表重新排序的结果。这样的好处在字符串的长度都很短，排序花销很小，这样就可以加快运行速度。\n",
    "        # https://www.jianshu.com/p/bbd258f99fd3\n",
    "        res = defaultdict(list)\n",
    "        # defaultdict: 当key不存在时，返回的是函数的默认值，比如list对应[ ]，str对应的是空字符串，set对应set( )，int对应0\n",
    "        for s in strs:\n",
    "            #将strs中的s排序作为key\n",
    "            k = str(sorted(s))\n",
    "            #每个key对应的值是list，所以用append添加\n",
    "            res[k].append(s)\n",
    "        return res.values()"
   ]
  },
  {
   "cell_type": "markdown",
   "metadata": {},
   "source": [
    "## 438. Find All Anagrams in a String 找到字符串中所有字母异位词"
   ]
  },
  {
   "cell_type": "markdown",
   "metadata": {},
   "source": [
    "Given two strings s and p, return an array of all the start indices of p's anagrams in s. You may return the answer in any order.\n",
    "\n",
    "An Anagram is a word or phrase formed by rearranging the letters of a different word or phrase, typically using all the original letters exactly once.\n",
    "\n",
    " \n",
    "\n",
    "Example 1:\n",
    "\n",
    "Input: s = \"cbaebabacd\", p = \"abc\"\n",
    "Output: [0,6]\n",
    "Explanation:\n",
    "The substring with start index = 0 is \"cba\", which is an anagram of \"abc\".\n",
    "The substring with start index = 6 is \"bac\", which is an anagram of \"abc\".\n",
    "Example 2:\n",
    "\n",
    "Input: s = \"abab\", p = \"ab\"\n",
    "Output: [0,1,2]\n",
    "Explanation:\n",
    "The substring with start index = 0 is \"ab\", which is an anagram of \"ab\".\n",
    "The substring with start index = 1 is \"ba\", which is an anagram of \"ab\".\n",
    "The substring with start index = 2 is \"ab\", which is an anagram of \"ab\"."
   ]
  },
  {
   "cell_type": "markdown",
   "metadata": {},
   "source": [
    "https://www.youtube.com/watch?v=G8xtZy0fDKg&feature=youtu.be"
   ]
  },
  {
   "cell_type": "code",
   "execution_count": 10,
   "metadata": {},
   "outputs": [],
   "source": [
    "#使用list加sort：时间复杂度未通过！\n",
    "'''\n",
    "class Solution:\n",
    "    def findAnagrams(self, s: str, p: str):\n",
    "        left, right = 0, len(p)\n",
    "        res = []\n",
    "        for i in range(len(s) - len(p)):\n",
    "            if sorted(s[left:right]) == sorted(p):\n",
    "                res.append(left)\n",
    "            left += 1\n",
    "            right += 1\n",
    "        return res\n",
    "'''"
   ]
  },
  {
   "cell_type": "code",
   "execution_count": 21,
   "metadata": {},
   "outputs": [],
   "source": [
    "class Solution:\n",
    "    def findAnagrams(self, s: str, p: str):\n",
    "        #使用Hash map\n",
    "        if len(p) > len(s):\n",
    "            return []\n",
    "        pCount, sCount = {}, {}\n",
    "        for i in range(len(p)):\n",
    "            # from collections import Counter\n",
    "            #可用pCount = Counter(p)代替\n",
    "            pCount[p[i]] = 1 + pCount.get(p[i], 0)\n",
    "            sCount[s[i]] = 1 + sCount.get(s[i], 0)\n",
    "        if pCount == sCount:\n",
    "            res = [0]\n",
    "        else:\n",
    "            res = []\n",
    "        \n",
    "        l = 0\n",
    "        #因为已经比较过len(p)以左的部分，所以循环从len(p)开始\n",
    "        for r in range(len(p), len(s)):\n",
    "            sCount[s[r]] = 1 + sCount.get(s[r], 0)\n",
    "            sCount[s[l]] -= 1\n",
    "            \n",
    "            #将没有值的key删除\n",
    "            if sCount[s[l]] == 0:\n",
    "                sCount.pop(s[l])\n",
    "            l += 1\n",
    "            \n",
    "            if sCount == pCount:\n",
    "                res.append(l)\n",
    "        \n",
    "        return res "
   ]
  },
  {
   "cell_type": "markdown",
   "metadata": {},
   "source": [
    "# 查找常用字符"
   ]
  },
  {
   "cell_type": "markdown",
   "metadata": {},
   "source": [
    "## 1002 Find Common Characters 查找常用字符"
   ]
  },
  {
   "cell_type": "markdown",
   "metadata": {},
   "source": [
    "Given a string array words, return an array of all characters that show up in all strings within the words (including duplicates). You may return the answer in any order.\n",
    "\n",
    " \n",
    "\n",
    "Example 1:\n",
    "\n",
    "Input: words = [\"bella\",\"label\",\"roller\"]\n",
    "Output: [\"e\",\"l\",\"l\"]\n",
    "Example 2:\n",
    "\n",
    "Input: words = [\"cool\",\"lock\",\"cook\"]\n",
    "Output: [\"c\",\"o\"]"
   ]
  },
  {
   "cell_type": "markdown",
   "metadata": {},
   "source": [
    "https://youtu.be/LDr3_aYeqF4"
   ]
  },
  {
   "cell_type": "code",
   "execution_count": 22,
   "metadata": {},
   "outputs": [],
   "source": [
    "from collections import Counter\n",
    "class Solution:\n",
    "    def commonChars(self, words):\n",
    "        wCount = Counter(words[0])\n",
    "        '''\n",
    "        wCount = {}\n",
    "        fst = words[0]\n",
    "        for i in range(len(fst)):\n",
    "            wCount[fst[i]] = 1 + wCount.get(fst[i], 0)\n",
    "        '''\n",
    "        for w in words[1:]:\n",
    "            tmp = Counter(w)\n",
    "            #.keys()返回键值不是List类型，需要转换成list\n",
    "            for key in list(wCount.keys()):\n",
    "                if key not in tmp:\n",
    "                    del wCount[key]\n",
    "                else:\n",
    "                    wCount[key] = min(wCount[key], tmp[key])\n",
    "        \n",
    "        res = []\n",
    "        for key in wCount:\n",
    "            #不能用.append([key] * wCount[key])，可能会出现[[\"e\"],[\"l\",\"l\"]]这样output，而不是[\"e\",\"l\",\"l\"]\n",
    "            res += [key] * wCount[key]\n",
    "        \n",
    "        return res\n",
    "                       "
   ]
  },
  {
   "cell_type": "markdown",
   "metadata": {},
   "source": [
    "# 用<font color=red>set</font>做哈希表"
   ]
  },
  {
   "cell_type": "markdown",
   "metadata": {},
   "source": [
    "集合：https://www.runoob.com/python3/python3-set.html  \n",
    "创建集合：可以使用大括号 { } 或者 set() 函数创建集合，注意：创建一个空集合必须用 set() 而不是 { }，因为 { } 是用来创建一个空字典。"
   ]
  },
  {
   "cell_type": "markdown",
   "metadata": {},
   "source": [
    "## 349. Intersection of Two Arrays两个数组的交集（返回不重复值）"
   ]
  },
  {
   "cell_type": "markdown",
   "metadata": {},
   "source": [
    "Given two integer arrays nums1 and nums2, return an array of their intersection. Each element in the result must be unique and you may return the result in any order.\n",
    "\n",
    " \n",
    "\n",
    "Example 1:\n",
    "\n",
    "Input: nums1 = [1,2,2,1], nums2 = [2,2]\n",
    "Output: [2]\n",
    "Example 2:\n",
    "\n",
    "Input: nums1 = [4,9,5], nums2 = [9,4,9,8,4]\n",
    "Output: [9,4]\n",
    "Explanation: [4,9] is also accepted."
   ]
  },
  {
   "cell_type": "code",
   "execution_count": 23,
   "metadata": {},
   "outputs": [],
   "source": [
    "class Solution:\n",
    "    def intersection(self, nums1, nums2):\n",
    "        return set(nums1).intersection(set(nums2))"
   ]
  },
  {
   "cell_type": "code",
   "execution_count": 24,
   "metadata": {},
   "outputs": [],
   "source": [
    "class Solution:\n",
    "    def intersection(self, nums1, nums2):\n",
    "        return list(set(nums1) & set(nums2))"
   ]
  },
  {
   "cell_type": "markdown",
   "metadata": {},
   "source": [
    "## 350. Intersection of Two Arrays II两数组交集（可返回重复值）"
   ]
  },
  {
   "cell_type": "markdown",
   "metadata": {},
   "source": [
    "Given two integer arrays nums1 and nums2, return an array of their intersection. Each element in the result must appear as many times as it shows in both arrays and you may return the result in any order.\n",
    "\n",
    " \n",
    "\n",
    "Example 1:\n",
    "\n",
    "Input: nums1 = [1,2,2,1], nums2 = [2,2]\n",
    "Output: [2,2]\n",
    "Example 2:\n",
    "\n",
    "Input: nums1 = [4,9,5], nums2 = [9,4,9,8,4]\n",
    "Output: [4,9]\n",
    "Explanation: [9,4] is also accepted."
   ]
  },
  {
   "cell_type": "code",
   "execution_count": 26,
   "metadata": {},
   "outputs": [],
   "source": [
    "class Solution:\n",
    "    def intersect(self, nums1, nums2):\n",
    "        #建立set是为了选出nums1中去重的元素，防止使用count时重复在res中添加元素\n",
    "        set1 = set(nums1)\n",
    "        res = []\n",
    "        for s in set1:\n",
    "            count = min(nums1.count(s), nums2.count(s))\n",
    "            res += [s] * count\n",
    "        return res"
   ]
  },
  {
   "cell_type": "markdown",
   "metadata": {},
   "source": [
    "# 快乐数"
   ]
  },
  {
   "cell_type": "markdown",
   "metadata": {},
   "source": [
    "## 202. Happy Number快乐数"
   ]
  },
  {
   "cell_type": "markdown",
   "metadata": {},
   "source": [
    "Write an algorithm to determine if a number n is happy.\n",
    "\n",
    "A happy number is a number defined by the following process:\n",
    "\n",
    "Starting with any positive integer, replace the number by the sum of the squares of its digits.\n",
    "Repeat the process until the number equals 1 (where it will stay), or it loops endlessly in a cycle which does not include 1.\n",
    "Those numbers for which this process ends in 1 are happy.\n",
    "Return true if n is a happy number, and false if not.\n",
    "\n",
    " \n",
    "\n",
    "Example 1:\n",
    "\n",
    "Input: n = 19\n",
    "Output: true\n",
    "Explanation:\n",
    "12 + 92 = 82\n",
    "82 + 22 = 68\n",
    "62 + 82 = 100\n",
    "12 + 02 + 02 = 1\n",
    "Example 2:\n",
    "\n",
    "Input: n = 2\n",
    "Output: false"
   ]
  },
  {
   "cell_type": "code",
   "execution_count": 34,
   "metadata": {},
   "outputs": [],
   "source": [
    "class Solution:\n",
    "    def isHappy(self, n: int) -> bool:\n",
    "        ss = {n}\n",
    "        while n != 1:\n",
    "            #或s = sum([int(c)**2 for c in str(n)])\n",
    "            s = 0\n",
    "            for i in str(n):\n",
    "                s += int(i)**2\n",
    "            \n",
    "            if s in ss:\n",
    "                return False\n",
    "            ss.add(s)\n",
    "            n = s\n",
    "        return True"
   ]
  },
  {
   "cell_type": "markdown",
   "metadata": {},
   "source": [
    "# 用<font color=red>map</font>做哈希表"
   ]
  },
  {
   "cell_type": "markdown",
   "metadata": {},
   "source": [
    "## 1. Two Sum两数之和"
   ]
  },
  {
   "cell_type": "markdown",
   "metadata": {},
   "source": [
    "Given an array of integers nums and an integer target, return indices of the two numbers such that they add up to target.\n",
    "\n",
    "You may assume that each input would have exactly one solution, and you may not use the same element twice.\n",
    "\n",
    "You can return the answer in any order.\n",
    "\n",
    " \n",
    "\n",
    "Example 1:\n",
    "\n",
    "Input: nums = [2,7,11,15], target = 9\n",
    "Output: [0,1]\n",
    "Explanation: Because nums[0] + nums[1] == 9, we return [0, 1]."
   ]
  },
  {
   "cell_type": "code",
   "execution_count": 7,
   "metadata": {},
   "outputs": [],
   "source": [
    "#法一"
   ]
  },
  {
   "cell_type": "code",
   "execution_count": 5,
   "metadata": {},
   "outputs": [],
   "source": [
    "class Solution:\n",
    "    def twoSum(self, nums, target: int):\n",
    "        m = {}\n",
    "        for i in range(len(nums)):\n",
    "            if target - nums[i] not in m:\n",
    "                #nums中的值作为map的key,nums中的坐标作为value\n",
    "                m[nums[i]] = i\n",
    "            else:\n",
    "                return [m[target - nums[i]], i]"
   ]
  },
  {
   "cell_type": "code",
   "execution_count": 6,
   "metadata": {},
   "outputs": [
    {
     "data": {
      "text/plain": [
       "[0, 1]"
      ]
     },
     "execution_count": 6,
     "metadata": {},
     "output_type": "execute_result"
    }
   ],
   "source": [
    "m=Solution()\n",
    "m.twoSum([2,7,11,15],9)"
   ]
  },
  {
   "cell_type": "code",
   "execution_count": 8,
   "metadata": {},
   "outputs": [],
   "source": [
    "#法二 two pointer"
   ]
  },
  {
   "cell_type": "code",
   "execution_count": 11,
   "metadata": {},
   "outputs": [],
   "source": [
    "class Solution:\n",
    "    def twoSum(self, nums, target: int):\n",
    "        num_index = list(zip(nums, range(len(nums))))\n",
    "        #使用双指针必须sort\n",
    "        num_index.sort()\n",
    "        left = 0\n",
    "        right = len(nums) - 1\n",
    "        while left < right:\n",
    "            sumvalue = num_index[left][0] + num_index[right][0]\n",
    "            if sumvalue == target:\n",
    "                return [num_index[left][1], num_index[right][1]]\n",
    "            elif sumvalue > target:\n",
    "                right -= 1\n",
    "            else:\n",
    "                left += 1"
   ]
  },
  {
   "cell_type": "code",
   "execution_count": 12,
   "metadata": {},
   "outputs": [
    {
     "data": {
      "text/plain": [
       "[0, 1]"
      ]
     },
     "execution_count": 12,
     "metadata": {},
     "output_type": "execute_result"
    }
   ],
   "source": [
    "m=Solution()\n",
    "m.twoSum([2,7,11,15],9)"
   ]
  },
  {
   "cell_type": "markdown",
   "metadata": {},
   "source": [
    "## 454. 4Sum II 四数相加"
   ]
  },
  {
   "cell_type": "markdown",
   "metadata": {},
   "source": [
    "Given four integer arrays nums1, nums2, nums3, and nums4 all of length n, return the number of tuples (i, j, k, l) such that:\n",
    "\n",
    "0 <= i, j, k, l < n\n",
    "nums1[i] + nums2[j] + nums3[k] + nums4[l] == 0\n",
    " \n",
    "\n",
    "Example 1:\n",
    "\n",
    "Input: nums1 = [1,2], nums2 = [-2,-1], nums3 = [-1,2], nums4 = [0,2]\n",
    "Output: 2\n",
    "Explanation:\n",
    "The two tuples are:\n",
    "1. (0, 0, 0, 1) -> nums1[0] + nums2[0] + nums3[0] + nums4[1] = 1 + (-2) + (-1) + 2 = 0\n",
    "2. (1, 1, 0, 0) -> nums1[1] + nums2[1] + nums3[0] + nums4[0] = 2 + (-1) + (-1) + 0 = 0"
   ]
  },
  {
   "cell_type": "markdown",
   "metadata": {},
   "source": [
    "https://youtu.be/Qbz7a7A-1Ho"
   ]
  },
  {
   "cell_type": "code",
   "execution_count": 13,
   "metadata": {},
   "outputs": [],
   "source": [
    "class Solution:\n",
    "    def fourSumCount(self, nums1, nums2, nums3, nums4) -> int:\n",
    "        ct = {}\n",
    "        for a in nums1:\n",
    "            for b in nums2:\n",
    "                #或者直接用ct[a+b] = 1 + ct.get(a+b, 0)\n",
    "                if a+b in ct:\n",
    "                    ct[a+b] += 1\n",
    "                else:\n",
    "                    ct[a+b] = 1\n",
    "        \n",
    "        res = 0\n",
    "        for c in nums3:\n",
    "            for d in nums4:\n",
    "                if -(c+d) in ct:\n",
    "                    res += ct[-(c+d)]\n",
    "        \n",
    "        return res"
   ]
  },
  {
   "cell_type": "code",
   "execution_count": 15,
   "metadata": {},
   "outputs": [],
   "source": [
    "class Solution:\n",
    "    def fourSumCount(self, nums1, nums2, nums3, nums4) -> int:\n",
    "        from collections import defaultdict\n",
    "        ct = defaultdict(int)\n",
    "        for a in nums1:\n",
    "            for b in nums2:\n",
    "                ct[a+b] += 1\n",
    "        \n",
    "        res = 0\n",
    "        for c in nums3:\n",
    "            for d in nums4:\n",
    "                if -(c+d) in ct:\n",
    "                    res += ct[-(c+d)]\n",
    "        \n",
    "        return res"
   ]
  },
  {
   "cell_type": "markdown",
   "metadata": {},
   "source": [
    "# 双指针法"
   ]
  },
  {
   "cell_type": "markdown",
   "metadata": {},
   "source": [
    "## 15 3Sum三数之和"
   ]
  },
  {
   "cell_type": "markdown",
   "metadata": {},
   "source": [
    "Given an integer array nums, return all the triplets [nums[i], nums[j], nums[k]] such that i != j, i != k, and j != k, and nums[i] + nums[j] + nums[k] == 0.\n",
    "\n",
    "Notice that the solution set must not contain duplicate triplets.\n",
    "\n",
    " \n",
    "\n",
    "Example 1:\n",
    "\n",
    "Input: nums = [-1,0,1,2,-1,-4]\n",
    "Output: [[-1,-1,2],[-1,0,1]]"
   ]
  },
  {
   "cell_type": "code",
   "execution_count": 19,
   "metadata": {},
   "outputs": [],
   "source": [
    "class Solution:\n",
    "    def threeSum(self, nums):\n",
    "        nums.sort()\n",
    "        res = []\n",
    "        \n",
    "        for i in range(len(nums)):\n",
    "            left = i + 1\n",
    "            right = len(nums) - 1\n",
    "            \n",
    "            # delete duplicate condition\n",
    "            if i >= 1 and nums[i] == nums[i-1]:\n",
    "                continue\n",
    "            \n",
    "            while left < right:\n",
    "                value = nums[i] + nums[left] + nums[right]\n",
    "                if value == 0:\n",
    "                    res.append([nums[i], nums[left], nums[right]])\n",
    "                    \n",
    "                    #还有可能其余两数之和也等于0-nums[i]\n",
    "                    #跳过与当前left/right相等的数，符合题中要求的“the solution set must not contain duplicate triplets.”\n",
    "                    while left != right and nums[left] == nums[left + 1]:\n",
    "                        left += 1\n",
    "                    while left!= right and nums[right] == nums[right - 1]:\n",
    "                        right -= 1\n",
    "                    \n",
    "                    #继续寻找还符合要求的left,right位置的两数之和\n",
    "                    left += 1\n",
    "                    right -= 1\n",
    "                    \n",
    "                elif value > 0:\n",
    "                    right -= 1\n",
    "                else:\n",
    "                    left += 1\n",
    "        \n",
    "        return res"
   ]
  },
  {
   "cell_type": "markdown",
   "metadata": {},
   "source": [
    "## 18.4Sum 四数之和"
   ]
  },
  {
   "cell_type": "markdown",
   "metadata": {},
   "source": [
    "Given an array nums of n integers, return an array of all the unique quadruplets [nums[a], nums[b], nums[c], nums[d]] such that:\n",
    "\n",
    "0 <= a, b, c, d < n\n",
    "a, b, c, and d are distinct.\n",
    "nums[a] + nums[b] + nums[c] + nums[d] == target\n",
    "You may return the answer in any order.\n",
    "\n",
    " \n",
    "\n",
    "Example 1:\n",
    "\n",
    "Input: nums = [1,0,-1,0,-2,2], target = 0\n",
    "Output: [[-2,-1,1,2],[-2,0,0,2],[-1,0,0,1]]"
   ]
  },
  {
   "cell_type": "code",
   "execution_count": 21,
   "metadata": {},
   "outputs": [],
   "source": [
    "class Solution:\n",
    "    def fourSum(self, nums, target):\n",
    "        nums.sort()\n",
    "        res = []\n",
    "        \n",
    "        for i in range(len(nums)):\n",
    "            if i >= 1 and nums[i] == nums[i-1]:\n",
    "                continue\n",
    "            for j in range(i+1, len(nums)):\n",
    "                    \n",
    "                left = j + 1\n",
    "                right = len(nums) - 1\n",
    "                \n",
    "                if j >= i+2 and nums[j] == nums[j-1]:\n",
    "                    continue\n",
    "                \n",
    "                while left < right:\n",
    "                    value = nums[i] + nums[j] + nums[left] + nums[right]\n",
    "                    if value == target:\n",
    "                        res.append([nums[i], nums[j], nums[left], nums[right]])\n",
    "                        \n",
    "                        while left != right and nums[left] == nums[left+1]:\n",
    "                            left += 1\n",
    "                        while left != right and nums[right] == nums[right-1]:\n",
    "                            right -= 1\n",
    "                        left += 1\n",
    "                        right -= 1\n",
    "                    \n",
    "                    elif value > target:\n",
    "                        right -= 1\n",
    "                    else:\n",
    "                        left += 1\n",
    "        \n",
    "        return res\n",
    "        "
   ]
  },
  {
   "cell_type": "code",
   "execution_count": null,
   "metadata": {},
   "outputs": [],
   "source": []
  }
 ],
 "metadata": {
  "kernelspec": {
   "display_name": "Python 3",
   "language": "python",
   "name": "python3"
  },
  "language_info": {
   "codemirror_mode": {
    "name": "ipython",
    "version": 3
   },
   "file_extension": ".py",
   "mimetype": "text/x-python",
   "name": "python",
   "nbconvert_exporter": "python",
   "pygments_lexer": "ipython3",
   "version": "3.7.0"
  },
  "toc": {
   "base_numbering": 1,
   "nav_menu": {},
   "number_sections": true,
   "sideBar": true,
   "skip_h1_title": false,
   "title_cell": "Table of Contents",
   "title_sidebar": "Contents",
   "toc_cell": false,
   "toc_position": {
    "height": "calc(100% - 180px)",
    "left": "10px",
    "top": "150px",
    "width": "424px"
   },
   "toc_section_display": true,
   "toc_window_display": false
  }
 },
 "nbformat": 4,
 "nbformat_minor": 2
}
