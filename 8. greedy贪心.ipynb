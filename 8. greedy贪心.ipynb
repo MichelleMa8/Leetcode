{
 "cells": [
  {
   "cell_type": "markdown",
   "metadata": {},
   "source": [
    "贪心的本质是选择每一阶段的局部最优，从而达到全局最优。\n",
    "\n",
    "什么时候使用：   \n",
    "刷题或者面试的时候，手动模拟一下感觉可以局部最优推出整体最优，而且想不到反例，那么就试一试贪心。"
   ]
  },
  {
   "cell_type": "markdown",
   "metadata": {},
   "source": [
    "# 简单问题"
   ]
  },
  {
   "cell_type": "markdown",
   "metadata": {},
   "source": [
    "## 455.Assign Cookies分发饼干"
   ]
  },
  {
   "cell_type": "markdown",
   "metadata": {},
   "source": [
    "Assume you are an awesome parent and want to give your children some cookies. But, you should give each child at most one cookie.\n",
    "\n",
    "Each child i has a greed factor g[i], which is the minimum size of a cookie that the child will be content with; and each cookie j has a size s[j]. If s[j] >= g[i], we can assign the cookie j to the child i, and the child i will be content. Your goal is to maximize the number of your content children and output the maximum number.\n",
    "\n",
    " \n",
    "\n",
    "Example 1:\n",
    "\n",
    "Input: g = [1,2,3], s = [1,1]\n",
    "Output: 1\n",
    "Explanation: You have 3 children and 2 cookies. The greed factors of 3 children are 1, 2, 3. \n",
    "And even though you have 2 cookies, since their size is both 1, you could only make the child whose greed factor is 1 content.\n",
    "You need to output 1.\n",
    "Example 2:\n",
    "\n",
    "Input: g = [1,2], s = [1,2,3]\n",
    "Output: 2\n",
    "Explanation: You have 2 children and 3 cookies. The greed factors of 2 children are 1, 2. \n",
    "You have 3 cookies and their sizes are big enough to gratify all of the children, \n",
    "You need to output 2."
   ]
  },
  {
   "cell_type": "code",
   "execution_count": 1,
   "metadata": {
    "scrolled": true
   },
   "outputs": [],
   "source": [
    "#法一：小饼干先喂小胃口（优先考虑胃口：从g开始循环检索）\n",
    "class Solution:\n",
    "    def findContentChildren(self, g: list, s: list) -> int:\n",
    "        g.sort()\n",
    "        s.sort()\n",
    "        ans = 0\n",
    "        index = 0\n",
    "        for i in range(len(g)):\n",
    "            while index < len(s) and g[i] > s[index]: \n",
    "                index += 1\n",
    "                \n",
    "            #这里已经确认g[i] <= s[index]了，所以if条件只保证index没有超出s的长度\n",
    "            if index < len(s):\n",
    "                ans += 1\n",
    "                index += 1\n",
    "            else:\n",
    "                break\n",
    "        return ans"
   ]
  },
  {
   "cell_type": "code",
   "execution_count": null,
   "metadata": {
    "scrolled": true
   },
   "outputs": [],
   "source": [
    "#法二：小饼干先喂小胃口（优先考虑饼干：从s开始循环检索）\n",
    "class Solution:\n",
    "    def findContentChildren(self, g: list, s: list) -> int:\n",
    "        g.sort()\n",
    "        s.sort()\n",
    "        ans = 0 #这里的ans既能表示符合的数量，也能作为g循环的位置\n",
    "        for i in range(len(s)):\n",
    "            if ans < len(g) and g[ans] <= s[i]:\n",
    "                ans += 1\n",
    "        return ans"
   ]
  },
  {
   "cell_type": "code",
   "execution_count": 3,
   "metadata": {
    "scrolled": true
   },
   "outputs": [],
   "source": [
    "#法三：从s较大的开始检索（优先考虑胃口: 从g开始循环检索）\n",
    "class Solution:\n",
    "    def findContentChildren(self, g: list, s: list) -> int:\n",
    "        g.sort()\n",
    "        s.sort()\n",
    "        start = len(s) - 1\n",
    "        ans = 0\n",
    "        for i in range(len(g) - 1, -1, -1):\n",
    "            if start >= 0 and g[i] <= s[start]:\n",
    "                start -= 1\n",
    "                ans += 1\n",
    "        return ans"
   ]
  },
  {
   "cell_type": "markdown",
   "metadata": {},
   "source": [
    "## 860.Lemonade Change柠檬水找零"
   ]
  },
  {
   "cell_type": "code",
   "execution_count": 5,
   "metadata": {
    "scrolled": false
   },
   "outputs": [
    {
     "data": {
      "text/plain": [
       "'\\nAt a lemonade stand, each lemonade costs $5. Customers are standing in a queue to buy from you and order one at a time (in the order specified by bills). Each customer will only buy one lemonade and pay with either a $5, $10, or $20 bill. You must provide the correct change to each customer so that the net transaction is that the customer pays $5.\\n\\nNote that you do not have any change in hand at first.\\n\\nGiven an integer array bills where bills[i] is the bill the ith customer pays, return true if you can provide every customer with the correct change, or false otherwise.\\n\\n \\n\\nExample 1:\\n\\nInput: bills = [5,5,5,10,20]\\nOutput: true\\nExplanation: \\nFrom the first 3 customers, we collect three $5 bills in order.\\nFrom the fourth customer, we collect a $10 bill and give back a $5.\\nFrom the fifth customer, we give a $10 bill and a $5 bill.\\nSince all customers got correct change, we output true\\n\\nExample 2:\\n\\nInput: bills = [5,5,10,10,20]\\nOutput: false\\nExplanation: \\nFrom the first two customers in order, we collect two $5 bills.\\nFor the next two customers in order, we collect a $10 bill and give back a $5 bill.\\nFor the last customer, we can not give the change of $15 back because we only have two $10 bills.\\nSince not every customer received the correct change, the answer is false.\\n'"
      ]
     },
     "execution_count": 5,
     "metadata": {},
     "output_type": "execute_result"
    }
   ],
   "source": [
    "'''\n",
    "At a lemonade stand, each lemonade costs $5. Customers are standing in a queue to buy from you and order one at a time (in the order specified by bills). Each customer will only buy one lemonade and pay with either a $5, $10, or $20 bill. You must provide the correct change to each customer so that the net transaction is that the customer pays $5.\n",
    "\n",
    "Note that you do not have any change in hand at first.\n",
    "\n",
    "Given an integer array bills where bills[i] is the bill the ith customer pays, return true if you can provide every customer with the correct change, or false otherwise.\n",
    "\n",
    " \n",
    "\n",
    "Example 1:\n",
    "\n",
    "Input: bills = [5,5,5,10,20]\n",
    "Output: true\n",
    "Explanation: \n",
    "From the first 3 customers, we collect three $5 bills in order.\n",
    "From the fourth customer, we collect a $10 bill and give back a $5.\n",
    "From the fifth customer, we give a $10 bill and a $5 bill.\n",
    "Since all customers got correct change, we output true\n",
    "\n",
    "Example 2:\n",
    "\n",
    "Input: bills = [5,5,10,10,20]\n",
    "Output: false\n",
    "Explanation: \n",
    "From the first two customers in order, we collect two $5 bills.\n",
    "For the next two customers in order, we collect a $10 bill and give back a $5 bill.\n",
    "For the last customer, we can not give the change of $15 back because we only have two $10 bills.\n",
    "Since not every customer received the correct change, the answer is false.\n",
    "'''"
   ]
  },
  {
   "cell_type": "code",
   "execution_count": 11,
   "metadata": {
    "scrolled": true
   },
   "outputs": [],
   "source": [
    "class Solution:\n",
    "    def lemonadeChange(self, bills: list([int])) -> bool:\n",
    "        five = []\n",
    "        ten = []\n",
    "        for i in range(len(bills)):\n",
    "            if bills[i] == 5:\n",
    "                five.append(5)\n",
    "            if bills[i] == 10:\n",
    "                if five:\n",
    "                    ten.append(10)\n",
    "                    five.pop()\n",
    "                else:\n",
    "                    return False\n",
    "            if bills[i] == 20:\n",
    "                if ten and five:\n",
    "                    ten.pop()\n",
    "                    five.pop()\n",
    "                elif len(five) >= 3:\n",
    "                    five.pop()\n",
    "                    five.pop()\n",
    "                    five.pop()\n",
    "                else:\n",
    "                    return False\n",
    "        return True"
   ]
  },
  {
   "cell_type": "markdown",
   "metadata": {},
   "source": [
    "## 1005.Maximize Sum Of Array After K NegationsK次取反后最大化的数组和"
   ]
  },
  {
   "cell_type": "markdown",
   "metadata": {},
   "source": [
    "Given an integer array nums and an integer k, modify the array in the following way:\n",
    "\n",
    "choose an index i and replace nums[i] with -nums[i].\n",
    "You should apply this process exactly k times. You may choose the same index i multiple times.\n",
    "\n",
    "Return the largest possible sum of the array after modifying it in this way.\n",
    "\n",
    " \n",
    "\n",
    "Example 1:\n",
    "\n",
    "Input: nums = [4,2,3], k = 1\n",
    "Output: 5\n",
    "Explanation: Choose index 1 and nums becomes [4,-2,3].\n",
    "Example 2:\n",
    "\n",
    "Input: nums = [3,-1,0,2], k = 3\n",
    "Output: 6\n",
    "Explanation: Choose indices (1, 2, 2) and nums becomes [3,1,0,2].\n",
    "Example 3:\n",
    "\n",
    "Input: nums = [2,-3,-1,5,-4], k = 2\n",
    "Output: 13\n",
    "Explanation: Choose indices (1, 4) and nums becomes [2,3,-1,5,4]."
   ]
  },
  {
   "cell_type": "markdown",
   "metadata": {},
   "source": [
    "思路：   \n",
    "局部最优1： 让绝对值大的负数变为正数，当前数值达到最大。   \n",
    "\n",
    "局部最优2：只找数值最小的正整数进行反转，当前数值可以达到最大（例如正整数数组{5, 3, 1}，反转1 得到-1 比 反转5得到的-5 大多了   \n",
    "   \n",
    "   \n",
    "本题的解题步骤为：\n",
    "\n",
    "1. 将数组<font color='red'>按照绝对值</font>大小从大到小排序，注意要按照绝对值的大小\n",
    "2. 从前向后遍历，遇到负数将其变为正数，同时K--\n",
    "3. 如果K还大于0，那么反复转变数值最小的元素，将K用完\n",
    "4. 求和"
   ]
  },
  {
   "cell_type": "code",
   "execution_count": 19,
   "metadata": {
    "scrolled": true
   },
   "outputs": [],
   "source": [
    "class Solution:\n",
    "    def largestSumAfterKNegations(self, nums: list, k: int) -> int:\n",
    "        #将nums按照绝对值排序\n",
    "        nums = sorted(nums, key = abs, reverse = True)\n",
    "        for i in range(len(nums)):\n",
    "            if k > 0 and nums[i] < 0:\n",
    "                #在nums上原位置改，方便将所有负数改完，k仍多余的情况\n",
    "                nums[i] *= -1\n",
    "                k -= 1\n",
    "        if k > 0:\n",
    "            nums[-1] *= (-1) ** k\n",
    "        return sum(nums)"
   ]
  },
  {
   "cell_type": "markdown",
   "metadata": {},
   "source": [
    "# 序列问题"
   ]
  },
  {
   "cell_type": "markdown",
   "metadata": {},
   "source": [
    "## 376.Wiggle Subsequence摆动序列"
   ]
  },
  {
   "cell_type": "markdown",
   "metadata": {},
   "source": [
    "**思想：**     \n",
    "局部最优：删除单调坡度上的节点（不包括单调坡度两端的节点），那么这个坡度就可以有两个局部峰值。   \n",
    "\n",
    "整体最优：整个序列有最多的局部峰值，从而达到最长摆动序列。   \n",
    "\n",
    "实际操作上，其实连删除的操作都不用做，因为题目要求的是最长摆动子序列的长度，所以只需要统计数组的峰值数量就可以了（相当于是删除单一坡度上的节点，然后统计长度）"
   ]
  },
  {
   "cell_type": "markdown",
   "metadata": {},
   "source": [
    " A wiggle sequence is a sequence where the differences between successive numbers strictly alternate between positive and negative. The first difference (if one exists) may be either positive or negative. A sequence with one element and a sequence with two non-equal elements are trivially wiggle sequences.\n",
    "\n",
    "For example, [1, 7, 4, 9, 2, 5] is a wiggle sequence because the differences (6, -3, 5, -7, 3) alternate between positive and negative.\n",
    "In contrast, [1, 4, 7, 2, 5] and [1, 7, 4, 5, 5] are not wiggle sequences. The first is not because its first two differences are positive, and the second is not because its last difference is zero.\n",
    "A subsequence is obtained by deleting some elements (possibly zero) from the original sequence, leaving the remaining elements in their original order.\n",
    "\n",
    "Given an integer array nums, return the length of the longest wiggle subsequence of nums.\n",
    "\n",
    " \n",
    "\n",
    "Example 1:\n",
    "\n",
    "Input: nums = [1,7,4,9,2,5]\n",
    "Output: 6\n",
    "Explanation: The entire sequence is a wiggle sequence with differences (6, -3, 5, -7, 3).\n",
    "Example 2:\n",
    "\n",
    "Input: nums = [1,17,5,10,13,15,10,5,16,8]\n",
    "Output: 7\n",
    "Explanation: There are several subsequences that achieve this length.\n",
    "One is [1, 17, 10, 13, 10, 16, 8] with differences (16, -7, 3, -3, 6, -8).\n",
    "Example 3:\n",
    "\n",
    "Input: nums = [1,2,3,4,5,6,7,8,9]\n",
    "Output: 2"
   ]
  },
  {
   "cell_type": "code",
   "execution_count": null,
   "metadata": {
    "scrolled": true
   },
   "outputs": [],
   "source": [
    "class Solution:\n",
    "    def wiggleMaxLength(self, nums: list) -> int:\n",
    "        count = 1\n",
    "        p_slope = 0\n",
    "        slope = 0\n",
    "        \n",
    "        for i in range(len(nums) - 1):\n",
    "            slope = nums[i + 1] - nums[i]\n",
    "            #这里>=有等于和slope!=0是避免p_slope初始化为0的影响\n",
    "            if slope * p_slope <= 0 and slope != 0:\n",
    "                count += 1\n",
    "                p_slope = slope\n",
    "        return count"
   ]
  },
  {
   "cell_type": "markdown",
   "metadata": {},
   "source": [
    "## 738 Monotone Increasing Digits单调递增的数字"
   ]
  },
  {
   "cell_type": "markdown",
   "metadata": {},
   "source": [
    "An integer has monotone increasing digits if and only if each pair of adjacent digits x and y satisfy x <= y.\n",
    "\n",
    "Given an integer n, return the largest number that is less than or equal to n with monotone increasing digits.\n",
    "\n",
    " \n",
    "\n",
    "Example 1:\n",
    "\n",
    "Input: n = 10\n",
    "Output: 9\n",
    "Example 2:\n",
    "\n",
    "Input: n = 1234\n",
    "Output: 1234\n",
    "Example 3:\n",
    "\n",
    "Input: n = 332\n",
    "Output: 299"
   ]
  },
  {
   "cell_type": "code",
   "execution_count": 45,
   "metadata": {},
   "outputs": [],
   "source": [
    "class Solution:\n",
    "    def monotoneIncreasingDigits(self, n: int) -> int:\n",
    "        l = list(str(n))\n",
    "        for i in range(len(l) - 1, 0, -1):\n",
    "            if int(l[i]) < int(l[i - 1]):\n",
    "                l[i - 1] = str(int(l[i - 1]) - 1)\n",
    "                l[i:] = '9' * (len(l) - i)\n",
    "        return int(''.join(l))"
   ]
  },
  {
   "cell_type": "markdown",
   "metadata": {},
   "source": [
    "# 贪心解决股票问题"
   ]
  },
  {
   "cell_type": "markdown",
   "metadata": {},
   "source": [
    "## 122.Best Time to Buy and Sell Stock II买卖股票的最佳时机II"
   ]
  },
  {
   "cell_type": "markdown",
   "metadata": {},
   "source": [
    "You are given an integer array prices where prices[i] is the price of a given stock on the ith day.\n",
    "\n",
    "On each day, you may decide to buy and/or sell the stock. You can only hold at most one share of the stock at any time. However, you can buy it then immediately sell it on the same day.\n",
    "\n",
    "Find and return the maximum profit you can achieve.\n",
    "\n",
    " \n",
    "\n",
    "Example 1:\n",
    "\n",
    "Input: prices = [7,1,5,3,6,4]\n",
    "Output: 7\n",
    "Explanation: Buy on day 2 (price = 1) and sell on day 3 (price = 5), profit = 5-1 = 4.\n",
    "Then buy on day 4 (price = 3) and sell on day 5 (price = 6), profit = 6-3 = 3.\n",
    "Total profit is 4 + 3 = 7.\n",
    "Example 2:\n",
    "\n",
    "Input: prices = [1,2,3,4,5]\n",
    "Output: 4\n",
    "Explanation: Buy on day 1 (price = 1) and sell on day 5 (price = 5), profit = 5-1 = 4.\n",
    "Total profit is 4.\n",
    "Example 3:\n",
    "\n",
    "Input: prices = [7,6,4,3,1]\n",
    "Output: 0\n",
    "Explanation: There is no way to make a positive profit, so we never buy the stock to achieve the maximum profit of 0."
   ]
  },
  {
   "cell_type": "markdown",
   "metadata": {},
   "source": [
    "局部最优：收集每天的正利润   \n",
    "全局最优：求得最大利润。"
   ]
  },
  {
   "cell_type": "code",
   "execution_count": 9,
   "metadata": {
    "scrolled": true
   },
   "outputs": [],
   "source": [
    "class Solution:\n",
    "    def maxProfit(self, prices: list) -> int:\n",
    "        profit = 0\n",
    "        for i in range(1, len(prices)):\n",
    "            dayprofit = prices[i] - prices[i - 1]\n",
    "            profit += max(0, dayprofit)\n",
    "        return profit"
   ]
  },
  {
   "cell_type": "markdown",
   "metadata": {},
   "source": [
    "## 714 Best Time to Buy and Sell Stock with Transaction Fee买卖股票的最佳时机含手续费"
   ]
  },
  {
   "cell_type": "markdown",
   "metadata": {},
   "source": [
    "You are given an array prices where prices[i] is the price of a given stock on the ith day, and an integer fee representing a transaction fee.\n",
    "\n",
    "Find the maximum profit you can achieve. You may complete as many transactions as you like, but you need to pay the transaction fee for each transaction.\n",
    "\n",
    "Note: You may not engage in multiple transactions simultaneously (i.e., you must sell the stock before you buy again).\n",
    "\n",
    " \n",
    "\n",
    "Example 1:\n",
    "\n",
    "Input: prices = [1,3,2,8,4,9], fee = 2\n",
    "Output: 8\n",
    "Explanation: The maximum profit can be achieved by:\n",
    "- Buying at prices[0] = 1\n",
    "- Selling at prices[3] = 8\n",
    "- Buying at prices[4] = 4\n",
    "- Selling at prices[5] = 9\n",
    "The total profit is ((8 - 1) - 2) + ((9 - 4) - 2) = 8.\n",
    "Example 2:\n",
    "\n",
    "Input: prices = [1,3,7,5,10,3], fee = 3\n",
    "Output: 6"
   ]
  },
  {
   "cell_type": "markdown",
   "metadata": {},
   "source": [
    "在做收获利润操作的时候其实有三种情况：\n",
    "\n",
    "情况一：收获利润的这一天并不是收获利润区间里的最后一天（不是真正的卖出，相当于持有股票），所以后面要继续收获利润。   \n",
    "情况二：前一天是收获利润区间里的最后一天（相当于真正的卖出了），今天要重新记录最小价格了。   \n",
    "情况三：不作操作，保持原有状态（买入，卖出，不买不卖）"
   ]
  },
  {
   "cell_type": "code",
   "execution_count": 46,
   "metadata": {},
   "outputs": [],
   "source": [
    "#注意：本题不用表示出卖出的点，只需要记录最大利润\n",
    "class Solution:\n",
    "    def maxProfit(self, prices: list, fee: int) -> int:\n",
    "        result = 0\n",
    "        minprice = prices[0]\n",
    "        for i in range(len(prices)):\n",
    "            #情况二：相当于买入\n",
    "            if prices[i] < minprice:\n",
    "                minprice = prices[i]\n",
    "                \n",
    "           #情况三：保持原有状态（因为此时买则不便宜，卖则亏本）\n",
    "            if prices[i] >= minPrice and prices[i] <= minPrice + fee:\n",
    "                continue\n",
    "\n",
    "            #计算利润，可能有多次计算利润，最后一次计算利润才是真正意义的卖出\n",
    "            if prices[i] > minPrice + fee:\n",
    "                result += prices[i] - minPrice - fee; \n",
    "                minPrice = prices[i] - fee; #情况一，这一步很关键\n",
    "        return result"
   ]
  },
  {
   "cell_type": "markdown",
   "metadata": {},
   "source": [
    "# 两个维度权衡问题"
   ]
  },
  {
   "cell_type": "markdown",
   "metadata": {},
   "source": [
    "## 135. Candy分发糖果"
   ]
  },
  {
   "cell_type": "markdown",
   "metadata": {},
   "source": [
    "There are n children standing in a line. Each child is assigned a rating value given in the integer array ratings.\n",
    "\n",
    "You are giving candies to these children subjected to the following requirements:\n",
    "\n",
    "Each child must have at least one candy.\n",
    "Children with a higher rating get more candies than their neighbors.\n",
    "Return the minimum number of candies you need to have to distribute the candies to the children.\n",
    "\n",
    " \n",
    "\n",
    "Example 1:\n",
    "\n",
    "Input: ratings = [1,0,2]\n",
    "Output: 5\n",
    "Explanation: You can allocate to the first, second and third child with 2, 1, 2 candies respectively.\n",
    "Example 2:\n",
    "\n",
    "Input: ratings = [1,2,2]\n",
    "Output: 4\n",
    "Explanation: You can allocate to the first, second and third child with 1, 2, 1 candies respectively.\n",
    "The third child gets 1 candy because it satisfies the above two conditions."
   ]
  },
  {
   "cell_type": "markdown",
   "metadata": {},
   "source": [
    "采用了两次贪心的策略：\n",
    "\n",
    "* 一次是从左到右遍历，只比较右边孩子评分比左边大的情况。\n",
    "* 一次是从右到左遍历，只比较左边孩子评分比右边大的情况。 \n",
    "\n",
    "\n",
    "https://youtu.be/j3fGuonaN_U"
   ]
  },
  {
   "cell_type": "code",
   "execution_count": 4,
   "metadata": {
    "scrolled": true
   },
   "outputs": [],
   "source": [
    "class Solution:\n",
    "    def candy(self, ratings: list) -> int:\n",
    "        n = len(ratings)\n",
    "        ans = [1] * n\n",
    "        \n",
    "        for i in range(1, n):\n",
    "            if ratings[i] > ratings[i - 1]:\n",
    "                ans[i] = ans[i - 1] + 1\n",
    "        for i in range(n - 2, -1, -1):\n",
    "            if ratings[i] > ratings[i + 1]:\n",
    "                ans[i] = max(ans[i], ans[i + 1] + 1)\n",
    "        return sum(ans)"
   ]
  },
  {
   "cell_type": "markdown",
   "metadata": {},
   "source": [
    "## 406.Queue Reconstruction by Height根据身高重建队列"
   ]
  },
  {
   "cell_type": "markdown",
   "metadata": {},
   "source": [
    "You are given an array of people, people, which are the attributes of some people in a queue (not necessarily in order). Each people[i] = [hi, ki] represents the ith person of height hi with exactly ki other people in front who have a height greater than or equal to hi.\n",
    "\n",
    "Reconstruct and return the queue that is represented by the input array people. The returned queue should be formatted as an array queue, where queue[j] = [hj, kj] is the attributes of the jth person in the queue (queue[0] is the person at the front of the queue).\n",
    "\n",
    " \n",
    "\n",
    "Example 1:\n",
    "\n",
    "Input: people = [[7,0],[4,4],[7,1],[5,0],[6,1],[5,2]]\n",
    "Output: [[5,0],[7,0],[5,2],[6,1],[4,4],[7,1]]\n",
    "Explanation:\n",
    "Person 0 has height 5 with no other people taller or the same height in front.\n",
    "Person 1 has height 7 with no other people taller or the same height in front.\n",
    "Person 2 has height 5 with two persons taller or the same height in front, which is person 0 and 1.\n",
    "Person 3 has height 6 with one person taller or the same height in front, which is person 1.\n",
    "Person 4 has height 4 with four people taller or the same height in front, which are people 0, 1, 2, and 3.\n",
    "Person 5 has height 7 with one person taller or the same height in front, which is person 1.\n",
    "Hence [[5,0],[7,0],[5,2],[6,1],[4,4],[7,1]] is the reconstructed queue.\n",
    "Example 2:\n",
    "\n",
    "Input: people = [[6,0],[5,0],[4,0],[3,2],[2,2],[1,4]]\n",
    "Output: [[4,0],[5,0],[2,2],[3,2],[1,4],[6,0]]"
   ]
  },
  {
   "cell_type": "markdown",
   "metadata": {},
   "source": [
    "**思路：**   \n",
    "1. 按照身高h来排序，身高一定是从大到小排（身高相同的话则k小的站前面），让高个子在前面。  \n",
    "2. 从前到后按照k的值将[]插入到k的位置"
   ]
  },
  {
   "cell_type": "markdown",
   "metadata": {},
   "source": [
    "**sort用法：**   \n",
    "list.sort(cmp=None, key=None, reverse=False)\n",
    "* cmp -- 可选参数, 如果指定了该参数会使用该参数的方法进行排序。\n",
    "* key -- 主要是用来进行比较的元素，只有一个参数，具体的函数的参数就是取自于可迭代对象中，指定可迭代对象中的一个元素来进行排序。\n",
    "* reverse -- 排序规则，reverse = True 降序， reverse = False 升序（默认）。\n",
    "\n",
    "https://www.runoob.com/python/att-list-sort.html\n"
   ]
  },
  {
   "cell_type": "markdown",
   "metadata": {},
   "source": [
    "**insert用法：**   \n",
    "list.insert(index, obj)\n",
    "\n",
    "\n",
    "* index -- 对象 obj 需要插入的索引位置。\n",
    "* obj -- 要插入列表中的对象"
   ]
  },
  {
   "cell_type": "code",
   "execution_count": 24,
   "metadata": {
    "scrolled": true
   },
   "outputs": [],
   "source": [
    "class Solution:\n",
    "    def reconstructQueue(self, people: list) -> list:\n",
    "     # 先按照h维度的身高顺序从高到低排序。确定第一个维度\n",
    "        # lambda返回的是一个元组：当-x[0](维度h）相同时，再根据x[1]（维度k）从小到大排序\n",
    "        #默认升序排序，所以使用-x[0]\n",
    "        people.sort(key=lambda x: (-x[0], x[1]))\n",
    "        que = []\n",
    "\n",
    " # 根据每个元素的第二个维度k，贪心算法，进行插入\n",
    "        # people已经排序过了：同一高度时k值小的排前面。\n",
    "        for p in people:\n",
    "            que.insert(p[1], p)\n",
    "        return que      "
   ]
  },
  {
   "cell_type": "markdown",
   "metadata": {},
   "source": [
    "# 区间问题"
   ]
  },
  {
   "cell_type": "markdown",
   "metadata": {},
   "source": [
    "## 55. Jump Game跳跃游戏"
   ]
  },
  {
   "cell_type": "markdown",
   "metadata": {},
   "source": [
    "You are given an integer array nums. You are initially positioned at the array's first index, and each element in the array represents your maximum jump length at that position.\n",
    "\n",
    "Return true if you can reach the last index, or false otherwise.\n",
    "\n",
    " \n",
    "\n",
    "Example 1:\n",
    "\n",
    "Input: nums = [2,3,1,1,4]\n",
    "Output: true\n",
    "Explanation: Jump 1 step from index 0 to 1, then 3 steps to the last index.\n",
    "Example 2:\n",
    "\n",
    "Input: nums = [3,2,1,0,4]\n",
    "Output: false\n",
    "Explanation: You will always arrive at index 3 no matter what. Its maximum jump length is 0, which makes it impossible to reach the last index."
   ]
  },
  {
   "cell_type": "markdown",
   "metadata": {},
   "source": [
    "贪心算法局部最优解：每次取最大跳跃步数（取最大覆盖范围）   \n",
    "整体最优解：最后得到整体最大覆盖范围，看是否能到终点。\n",
    "\n",
    "这道题目关键点在于：不用拘泥于每次究竟跳跳几步，而是看覆盖范围，覆盖范围内一定是可以跳过来的，不用管是怎么跳的。"
   ]
  },
  {
   "cell_type": "code",
   "execution_count": 10,
   "metadata": {
    "scrolled": true
   },
   "outputs": [],
   "source": [
    "#使用剩余步数判断\n",
    "class Solution:\n",
    "    def canJump(self, nums: list) -> bool:\n",
    "        #只有一个元素就能到底，防止[0]错误输出false的情况\n",
    "        if len(nums) == 1: return True\n",
    "        step = 1\n",
    "        for i in range(len(nums)):\n",
    "            step = max(step - 1, nums[i])\n",
    "            #当中间出现step = 0的时候是false,如果走到最后一个台阶，剩余步数step为0则为True\n",
    "            if step < 0: return False\n",
    "            if step == 0 and i < len(nums) - 1: return False\n",
    "        return True "
   ]
  },
  {
   "cell_type": "code",
   "execution_count": 11,
   "metadata": {
    "scrolled": true
   },
   "outputs": [],
   "source": [
    "#使用剩余步数判断，加入提前停止条件，节约运行时间\n",
    "class Solution:\n",
    "    def canJump(self, nums: list) -> bool:\n",
    "        #只有一个元素就能到底，防止[0]错误输出false的情况\n",
    "        if len(nums) == 1: return True\n",
    "        step = 1\n",
    "        for i in range(len(nums)):\n",
    "            step = max(step - 1, nums[i])\n",
    "            #可以提前停止\n",
    "            if step >= len(nums) - 1 - i: return True\n",
    "            #当中间出现step = 0的时候是false,如果走到最后一个台阶，剩余步数step为0则为True\n",
    "            if step < 0: return False\n",
    "            if step == 0 and i < len(nums) - 1: return False\n",
    "        return True "
   ]
  },
  {
   "cell_type": "code",
   "execution_count": 12,
   "metadata": {
    "scrolled": true
   },
   "outputs": [],
   "source": [
    "#使用最大覆盖长度来判断\n",
    "class Solution:\n",
    "    def canJump(self, nums: list) -> bool:\n",
    "        cover = 0\n",
    "        if len(nums) == 1: return True\n",
    "        i = 0\n",
    "        # python不支持动态修改for循环中变量,使用while循环代替\n",
    "        while i <= cover:\n",
    "            cover = max(i + nums[i], cover)\n",
    "            if cover >= len(nums) - 1: return True\n",
    "            i += 1\n",
    "        return False"
   ]
  },
  {
   "cell_type": "markdown",
   "metadata": {},
   "source": [
    "## 45.Jump Game II跳跃游戏II"
   ]
  },
  {
   "cell_type": "markdown",
   "metadata": {},
   "source": [
    "Given an array of non-negative integers nums, you are initially positioned at the first index of the array.\n",
    "\n",
    "Each element in the array represents your maximum jump length at that position.\n",
    "\n",
    "Your goal is to reach the last index in the minimum number of jumps.\n",
    "\n",
    "You can assume that you can always reach the last index.\n",
    "\n",
    " \n",
    "\n",
    "Example 1:\n",
    "\n",
    "Input: nums = [2,3,1,1,4]\n",
    "Output: 2\n",
    "Explanation: The minimum number of jumps to reach the last index is 2. Jump 1 step from index 0 to 1, then 3 steps to the last index.\n",
    "Example 2:\n",
    "\n",
    "Input: nums = [2,3,0,1,4]\n",
    "Output: 2"
   ]
  },
  {
   "cell_type": "markdown",
   "metadata": {},
   "source": [
    "https://youtu.be/Tmd_d0SQKd4   \n",
    "main idea: 用区间来表示再走一步能到的位置 (BFS)"
   ]
  },
  {
   "cell_type": "code",
   "execution_count": 14,
   "metadata": {
    "scrolled": true
   },
   "outputs": [],
   "source": [
    "#不能使用剩余步数的方法来做了，因为剩余步数方法每次遇到更大的nums都要更新，而不一定需要更新就可以到达\n",
    "class Solution:\n",
    "    def jump(self, nums: list) -> int:\n",
    "        #BFS\n",
    "        res = 0\n",
    "        l = r = 0\n",
    "        \n",
    "        while r < len(nums) - 1:\n",
    "            farthest = 0\n",
    "            for i in range(l, r + 1):\n",
    "                farthest = max(farthest, i + nums[i])\n",
    "            l = r + 1\n",
    "            r = farthest\n",
    "            res += 1\n",
    "        return res"
   ]
  },
  {
   "cell_type": "markdown",
   "metadata": {},
   "source": [
    "## 452.Minimum Number of Arrows to Burst Balloons用最少数量的箭引爆气球"
   ]
  },
  {
   "cell_type": "markdown",
   "metadata": {},
   "source": [
    "There are some spherical balloons taped onto a flat wall that represents the XY-plane. The balloons are represented as a 2D integer array points where points[i] = [xstart, xend] denotes a balloon whose horizontal diameter stretches between xstart and xend. You do not know the exact y-coordinates of the balloons.\n",
    "\n",
    "Arrows can be shot up directly vertically (in the positive y-direction) from different points along the x-axis. A balloon with xstart and xend is burst by an arrow shot at x if xstart <= x <= xend. There is no limit to the number of arrows that can be shot. A shot arrow keeps traveling up infinitely, bursting any balloons in its path.\n",
    "\n",
    "Given the array points, return the minimum number of arrows that must be shot to burst all balloons.\n",
    "\n",
    " \n",
    "\n",
    "Example 1:\n",
    "\n",
    "Input: points = [[10,16],[2,8],[1,6],[7,12]]\n",
    "Output: 2\n",
    "Explanation: The balloons can be burst by 2 arrows:\n",
    "- Shoot an arrow at x = 6, bursting the balloons [2,8] and [1,6].\n",
    "- Shoot an arrow at x = 11, bursting the balloons [10,16] and [7,12].\n",
    "Example 2:\n",
    "\n",
    "Input: points = [[1,2],[3,4],[5,6],[7,8]]\n",
    "Output: 4\n",
    "Explanation: One arrow needs to be shot for each balloon for a total of 4 arrows.\n",
    "Example 3:\n",
    "\n",
    "Input: points = [[1,2],[2,3],[3,4],[4,5]]\n",
    "Output: 2\n",
    "Explanation: The balloons can be burst by 2 arrows:\n",
    "- Shoot an arrow at x = 2, bursting the balloons [1,2] and [2,3].\n",
    "- Shoot an arrow at x = 4, bursting the balloons [3,4] and [4,5]."
   ]
  },
  {
   "cell_type": "code",
   "execution_count": 23,
   "metadata": {
    "scrolled": true
   },
   "outputs": [
    {
     "data": {
      "text/plain": [
       "'\\n错误！\\nclass Solution:\\n    def findMinArrowShots(self, points: list) -> int:\\n        arrow = [point[0]]\\n        for i in range(1, len(points)):\\n            for j in range(len(arrow)):\\n                if points[i][0] <= arrow[j][1]:\\n                    left = min(points[i][0], arrow[j][0])\\n                    right = min(points[i][1], arrow[j][1])\\n                    arrow[j] = [left, right]\\n                else:\\n                    if j == len(arrow) - 1:\\n                        arrow.append(point[i])\\n                    else:\\n                        continue\\n        return len(arrow)\\n'"
      ]
     },
     "execution_count": 23,
     "metadata": {},
     "output_type": "execute_result"
    }
   ],
   "source": [
    "'''\n",
    "错误！\n",
    "class Solution:\n",
    "    def findMinArrowShots(self, points: list) -> int:\n",
    "        arrow = [point[0]]\n",
    "        for i in range(1, len(points)):\n",
    "            for j in range(len(arrow)):\n",
    "                if points[i][0] <= arrow[j][1]:\n",
    "                    left = min(points[i][0], arrow[j][0])\n",
    "                    right = min(points[i][1], arrow[j][1])\n",
    "                    arrow[j] = [left, right]\n",
    "                else:\n",
    "                    if j == len(arrow) - 1:\n",
    "                        arrow.append(point[i])\n",
    "                    else:\n",
    "                        continue\n",
    "        return len(arrow)\n",
    "'''       "
   ]
  },
  {
   "cell_type": "markdown",
   "metadata": {},
   "source": [
    "先将points按照左边界排序，会避免两层for循环，这时只需要比较下一个数的左边界和当前保留的有边界大小即可。  "
   ]
  },
  {
   "cell_type": "code",
   "execution_count": 18,
   "metadata": {
    "scrolled": true
   },
   "outputs": [],
   "source": [
    "class Solution:\n",
    "    def findMinArrowShots(self, points: list) -> int:\n",
    "        points.sort(key = lambda x: x[0])\n",
    "        res = 1\n",
    "        right = points[0][1]\n",
    "        for i in range(1, len(points)):\n",
    "            if points[i][0] <= right:\n",
    "                right = min(points[i][1], right)\n",
    "            else:\n",
    "                res += 1\n",
    "                right = points[i][1]\n",
    "        return res"
   ]
  },
  {
   "cell_type": "markdown",
   "metadata": {},
   "source": [
    "## 435.Non-overlapping Intervals无重叠区间"
   ]
  },
  {
   "cell_type": "markdown",
   "metadata": {},
   "source": [
    "Given an array of intervals intervals where intervals[i] = [starti, endi], return the minimum number of intervals you need to remove to make the rest of the intervals non-overlapping.\n",
    "\n",
    " \n",
    "\n",
    "Example 1:\n",
    "\n",
    "Input: intervals = [[1,2],[2,3],[3,4],[1,3]]\n",
    "Output: 1\n",
    "Explanation: [1,3] can be removed and the rest of the intervals are non-overlapping.\n",
    "Example 2:\n",
    "\n",
    "Input: intervals = [[1,2],[1,2],[1,2]]\n",
    "Output: 2\n",
    "Explanation: You need to remove two [1,2] to make the rest of the intervals non-overlapping.\n",
    "Example 3:\n",
    "\n",
    "Input: intervals = [[1,2],[2,3]]\n",
    "Output: 0\n",
    "Explanation: You don't need to remove any of the intervals since they're already non-overlapping."
   ]
  },
  {
   "cell_type": "markdown",
   "metadata": {},
   "source": [
    "先按照intervals的右边界进行排序。\n",
    "右边界排序之后，局部最优：优先选右边界小的区间，所以从左向右遍历，留给下一个区间的空间大一些，从而尽量避免交叉。"
   ]
  },
  {
   "cell_type": "code",
   "execution_count": 21,
   "metadata": {
    "scrolled": true
   },
   "outputs": [],
   "source": [
    "class Solution:\n",
    "    def eraseOverlapIntervals(self, intervals: list) -> int:\n",
    "        intervals.sort(key = lambda x: x[1])\n",
    "        #记录区间分割点\n",
    "        right = intervals[0][1]\n",
    "        #记录非交叉区间数量\n",
    "        count = 1\n",
    "        for i in range(1, len(intervals)):\n",
    "            if intervals[i][0] >= right:\n",
    "                count += 1\n",
    "                right = intervals[i][1]\n",
    "        return len(intervals) - count"
   ]
  },
  {
   "cell_type": "markdown",
   "metadata": {},
   "source": [
    "## 763 Partition Labels划分字母区间"
   ]
  },
  {
   "cell_type": "markdown",
   "metadata": {},
   "source": [
    "You are given a string s. We want to partition the string into as many parts as possible so that each letter appears in at most one part.\n",
    "\n",
    "Note that the partition is done so that after concatenating all the parts in order, the resultant string should be s.\n",
    "\n",
    "Return a list of integers representing the size of these parts.\n",
    "\n",
    " \n",
    "\n",
    "Example 1:\n",
    "\n",
    "Input: s = \"ababcbacadefegdehijhklij\"\n",
    "Output: [9,7,8]\n",
    "Explanation:\n",
    "The partition is \"ababcbaca\", \"defegde\", \"hijhklij\".\n",
    "This is a partition so that each letter appears in at most one part.\n",
    "A partition like \"ababcbacadefegde\", \"hijhklij\" is incorrect, because it splits s into less parts.\n",
    "Example 2:\n",
    "\n",
    "Input: s = \"eccbbbbdec\"\n",
    "Output: [10]"
   ]
  },
  {
   "cell_type": "code",
   "execution_count": 25,
   "metadata": {
    "scrolled": true
   },
   "outputs": [],
   "source": [
    "class Solution:\n",
    "    def partitionLabels(self, s: str) -> list:\n",
    "        #用列表实现全字母哈希表的功能\n",
    "        hash = [0] * 26\n",
    "        for i in range(len(s)):\n",
    "            hash[ord(s[i]) - ord('a')] = i\n",
    "            \n",
    "        res = []\n",
    "        left = 0\n",
    "        right = 0\n",
    "        for i in range(len(s)):\n",
    "            right = max(right, hash[ord(s[i]) - ord('a')])\n",
    "            if i == right:\n",
    "                res.append(right - left + 1)\n",
    "                left = i + 1\n",
    "        return res"
   ]
  },
  {
   "cell_type": "markdown",
   "metadata": {},
   "source": [
    "## 56 Merge Intervals合并区间"
   ]
  },
  {
   "cell_type": "markdown",
   "metadata": {},
   "source": [
    "Given an array of intervals where intervals[i] = [starti, endi], merge all overlapping intervals, and return an array of the non-overlapping intervals that cover all the intervals in the input.\n",
    "\n",
    " \n",
    "\n",
    "Example 1:\n",
    "\n",
    "Input: intervals = [[1,3],[2,6],[8,10],[15,18]]\n",
    "Output: [[1,6],[8,10],[15,18]]\n",
    "Explanation: Since intervals [1,3] and [2,6] overlaps, merge them into [1,6].\n",
    "Example 2:\n",
    "\n",
    "Input: intervals = [[1,4],[4,5]]\n",
    "Output: [[1,5]]\n",
    "Explanation: Intervals [1,4] and [4,5] are considered overlapping."
   ]
  },
  {
   "cell_type": "code",
   "execution_count": null,
   "metadata": {
    "scrolled": false
   },
   "outputs": [],
   "source": [
    "'''\n",
    "不能右边界排序\n",
    "Input\n",
    "[[2,3],[4,5],[6,7],[8,9],[1,10]]\n",
    "Output\n",
    "[[2,3],[4,5],[6,7],[1,10]]\n",
    "Expected\n",
    "[[1,10]]\n",
    "报错\n",
    "\n",
    "class Solution:\n",
    "    def merge(self, intervals: list) -> list:\n",
    "        intervals.sort(key = lambda x: x[1])\n",
    "        res = []\n",
    "        left = intervals[0][0]\n",
    "        right = intervals[0][1]\n",
    "        for i in range(1, len(intervals)):\n",
    "            if intervals[i][0] <= right:\n",
    "                left = min(left, intervals[i][0])\n",
    "                right = intervals[i][1]\n",
    "                print(1)\n",
    "            else:\n",
    "                res.append([left, right])\n",
    "                left = intervals[i][0]\n",
    "                right = intervals[i][1]\n",
    "                print(0)\n",
    "        res.append([left, right])\n",
    "        return res     \n",
    "'''\n"
   ]
  },
  {
   "cell_type": "code",
   "execution_count": 39,
   "metadata": {},
   "outputs": [],
   "source": [
    "#按照左边界排序\n",
    "class Solution:\n",
    "    def merge(self, intervals: list) -> list:\n",
    "        intervals.sort(key = lambda x: x[0])\n",
    "        res = []\n",
    "        left = intervals[0][0]\n",
    "        right = intervals[0][1]\n",
    "        for i in range(1, len(intervals)):\n",
    "            if intervals[i][0] <= right:\n",
    "                right = max(right, intervals[i][1])\n",
    "            else:\n",
    "                res.append([left, right])\n",
    "                left = intervals[i][0]\n",
    "                right = intervals[i][1]\n",
    "        res.append([left, right])\n",
    "        return res"
   ]
  },
  {
   "cell_type": "code",
   "execution_count": null,
   "metadata": {},
   "outputs": [],
   "source": [
    "#写法二：直接append到res，在res[-1]直接做修改\n",
    "class Solution:\n",
    "    def merge(self, intervals: List[List[int]]) -> List[List[int]]:\n",
    "        if len(intervals) == 0: return intervals\n",
    "        intervals.sort(key=lambda x: x[0])\n",
    "        result = []\n",
    "        result.append(intervals[0])\n",
    "        for i in range(1, len(intervals)):\n",
    "            last = result[-1]\n",
    "            if last[1] >= intervals[i][0]:\n",
    "                result[-1] = [last[0], max(last[1], intervals[i][1])]\n",
    "            else:\n",
    "                result.append(intervals[i])\n",
    "        return result"
   ]
  },
  {
   "cell_type": "code",
   "execution_count": 41,
   "metadata": {
    "scrolled": true
   },
   "outputs": [
    {
     "data": {
      "text/plain": [
       "[[1, 10]]"
      ]
     },
     "execution_count": 41,
     "metadata": {},
     "output_type": "execute_result"
    }
   ],
   "source": [
    "m = Solution()\n",
    "m.merge([[2,3],[4,5],[6,7],[8,9],[1,10]])"
   ]
  },
  {
   "cell_type": "markdown",
   "metadata": {},
   "source": [
    "# 其他"
   ]
  },
  {
   "cell_type": "markdown",
   "metadata": {},
   "source": [
    "## 53. Maximum Subarray最大子序和"
   ]
  },
  {
   "cell_type": "markdown",
   "metadata": {},
   "source": [
    "Given an integer array nums, find the contiguous subarray (containing at least one number) which has the largest sum and return its sum.\n",
    "\n",
    "A subarray is a contiguous part of an array.\n",
    "\n",
    " \n",
    "\n",
    "Example 1:\n",
    "\n",
    "Input: nums = [-2,1,-3,4,-1,2,1,-5,4]\n",
    "Output: 6\n",
    "Explanation: [4,-1,2,1] has the largest sum = 6.\n",
    "Example 2:\n",
    "\n",
    "Input: nums = [1]\n",
    "Output: 1\n",
    "Example 3:\n",
    "\n",
    "Input: nums = [5,4,-1,7,8]\n",
    "Output: 23"
   ]
  },
  {
   "cell_type": "markdown",
   "metadata": {},
   "source": [
    "法一：暴力解法，两层循环，时间复杂度O(n^2)"
   ]
  },
  {
   "cell_type": "markdown",
   "metadata": {},
   "source": [
    "法二：贪心   \n",
    "局部最优：当前“连续和”为负数的时候立刻放弃，从下一个元素重新计算“连续和”，因为负数加上下一个元素 “连续和”只会越来越小。\n",
    "相当于是暴力解法中的不断调整最大子序和区间的起始位置。"
   ]
  },
  {
   "cell_type": "code",
   "execution_count": 6,
   "metadata": {
    "scrolled": true
   },
   "outputs": [],
   "source": [
    "class Solution:\n",
    "    def maxSubArray(self, nums: list) -> int:\n",
    "        res = nums[0]\n",
    "        count = 0\n",
    "        for i in range(len(nums)):\n",
    "            count += nums[i]\n",
    "            if count > res:\n",
    "                res = count\n",
    "            if count < 0:\n",
    "                count = 0\n",
    "        return res"
   ]
  },
  {
   "cell_type": "markdown",
   "metadata": {},
   "source": [
    "法三；递归"
   ]
  },
  {
   "cell_type": "code",
   "execution_count": 8,
   "metadata": {
    "scrolled": true
   },
   "outputs": [],
   "source": [
    "class Solution:\n",
    "    def maxSubArray(self, nums: list) -> int:\n",
    "        dp = [0] * len(nums)\n",
    "        dp[0] = nums[0]\n",
    "        res = dp[0]\n",
    "        \n",
    "        for i in range(1, len(nums)):\n",
    "            dp[i] = max(dp[i - 1] + nums[i], nums[i])\n",
    "            if dp[i] > res:\n",
    "                res = dp[i]\n",
    "        return res"
   ]
  },
  {
   "cell_type": "markdown",
   "metadata": {},
   "source": [
    "## 134.Gas Station加油站"
   ]
  },
  {
   "cell_type": "markdown",
   "metadata": {},
   "source": [
    "There are n gas stations along a circular route, where the amount of gas at the ith station is gas[i].\n",
    "\n",
    "You have a car with an unlimited gas tank and it costs cost[i] of gas to travel from the ith station to its next (i + 1)th station. You begin the journey with an empty tank at one of the gas stations.\n",
    "\n",
    "Given two integer arrays gas and cost, return the starting gas station's index if you can travel around the circuit once in the clockwise direction, otherwise return -1. If there exists a solution, it is guaranteed to be unique\n",
    "\n",
    " \n",
    "\n",
    "Example 1:\n",
    "\n",
    "Input: gas = [1,2,3,4,5], cost = [3,4,5,1,2]\n",
    "Output: 3\n",
    "Explanation:\n",
    "Start at station 3 (index 3) and fill up with 4 unit of gas. Your tank = 0 + 4 = 4\n",
    "Travel to station 4. Your tank = 4 - 1 + 5 = 8\n",
    "Travel to station 0. Your tank = 8 - 2 + 1 = 7\n",
    "Travel to station 1. Your tank = 7 - 3 + 2 = 6\n",
    "Travel to station 2. Your tank = 6 - 4 + 3 = 5\n",
    "Travel to station 3. The cost is 5. Your gas is just enough to travel back to station 3.\n",
    "Therefore, return 3 as the starting index.\n",
    "Example 2:\n",
    "\n",
    "Input: gas = [2,3,4], cost = [3,4,3]\n",
    "Output: -1\n",
    "Explanation:\n",
    "You can't start at station 0 or 1, as there is not enough gas to travel to the next station.\n",
    "Let's start at station 2 and fill up with 4 unit of gas. Your tank = 0 + 4 = 4\n",
    "Travel to station 0. Your tank = 4 - 3 + 2 = 3\n",
    "Travel to station 1. Your tank = 3 - 3 + 3 = 3\n",
    "You cannot travel back to station 2, as it requires 4 unit of gas but you only have 3.\n",
    "Therefore, you can't travel around the circuit once no matter where you start."
   ]
  },
  {
   "cell_type": "code",
   "execution_count": 20,
   "metadata": {
    "scrolled": true
   },
   "outputs": [],
   "source": [
    "#法一：暴力解法O(n^2) 时间可能过不了\n",
    "class Solution:\n",
    "    def canCompleteCircuit(self, gas: list, cost: list) -> int:\n",
    "        for i in range(len(gas)):\n",
    "            #剩余油量\n",
    "            rest = gas[i] - cost[i]\n",
    "            #使用index模拟以i为起点行驶一圈\n",
    "            index = (i + 1) % len(gas)\n",
    "            \n",
    "            while rest > 0 and index != i:\n",
    "                rest += gas[index] - cost[index]\n",
    "                index = (i + 1) % len(gas)\n",
    "            \n",
    "            if index == i and rest >= 0: return i\n",
    "        return -1"
   ]
  },
  {
   "cell_type": "markdown",
   "metadata": {},
   "source": [
    "法二：贪心解法O(n)\n",
    "https://youtu.be/lJwbPZGo05A"
   ]
  },
  {
   "cell_type": "markdown",
   "metadata": {},
   "source": [
    "j之前出现了多少负数，j后面就会出现多少正数，因为耗油总和是大于零的（前提我们已经确定了一定可以跑完全程）。   \n",
    "\n",
    "局部最优：当前累加rest[j]的和curSum一旦小于0，起始位置至少要是j+1，因为从j开始一定不行。\n",
    "\n",
    "全局最优：找到可以跑一圈的起始位置。"
   ]
  },
  {
   "cell_type": "code",
   "execution_count": 22,
   "metadata": {
    "scrolled": true
   },
   "outputs": [],
   "source": [
    "class Solution:\n",
    "    def canCompleteCircuit(self, gas: list, cost: list) -> int:\n",
    "        if sum(gas) < sum(cost):\n",
    "            return -1\n",
    "        total = 0\n",
    "        res = 0\n",
    "        \n",
    "        for i in range(len(gas)):\n",
    "            total += gas[i] - cost[i]\n",
    "            if total < 0:\n",
    "                total = 0\n",
    "                res = i + 1\n",
    "        return res"
   ]
  },
  {
   "cell_type": "markdown",
   "metadata": {},
   "source": [
    "## <font color='red'>968 Binary Tree Cameras监控二叉树"
   ]
  },
  {
   "cell_type": "markdown",
   "metadata": {},
   "source": [
    "You are given the root of a binary tree. We install cameras on the tree nodes where each camera at a node can monitor its parent, itself, and its immediate children.\n",
    "\n",
    "Return the minimum number of cameras needed to monitor all nodes of the tree.\n",
    "\n",
    " \n",
    "\n",
    "Example 1:\n",
    "\n",
    "\n",
    "Input: root = [0,0,null,0,0]\n",
    "Output: 1\n",
    "Explanation: One camera is enough to monitor all nodes if placed as shown.\n",
    "Example 2:\n",
    "\n",
    "\n",
    "Input: root = [0,0,null,0,null,0,null,null,0]\n",
    "Output: 2\n",
    "Explanation: At least two cameras are needed to monitor all nodes of the tree. The above image shows one of the valid configurations of camera placement."
   ]
  },
  {
   "cell_type": "code",
   "execution_count": null,
   "metadata": {},
   "outputs": [],
   "source": [
    "# Definition for a binary tree node.\n",
    "# class TreeNode:\n",
    "#     def __init__(self, val=0, left=None, right=None):\n",
    "#         self.val = val\n",
    "#         self.left = left\n",
    "#         self.right = right\n",
    "class Solution:\n",
    "    def minCameraCover(self, root: Optional[TreeNode]) -> int:"
   ]
  }
 ],
 "metadata": {
  "kernelspec": {
   "display_name": "Python 3",
   "language": "python",
   "name": "python3"
  },
  "language_info": {
   "codemirror_mode": {
    "name": "ipython",
    "version": 3
   },
   "file_extension": ".py",
   "mimetype": "text/x-python",
   "name": "python",
   "nbconvert_exporter": "python",
   "pygments_lexer": "ipython3",
   "version": "3.7.0"
  },
  "toc": {
   "base_numbering": 1,
   "nav_menu": {},
   "number_sections": true,
   "sideBar": true,
   "skip_h1_title": false,
   "title_cell": "Table of Contents",
   "title_sidebar": "Contents",
   "toc_cell": false,
   "toc_position": {
    "height": "calc(100% - 180px)",
    "left": "10px",
    "top": "150px",
    "width": "422px"
   },
   "toc_section_display": true,
   "toc_window_display": true
  }
 },
 "nbformat": 4,
 "nbformat_minor": 2
}
