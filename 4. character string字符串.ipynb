{
 "cells": [
  {
   "cell_type": "markdown",
   "metadata": {},
   "source": [
    "# 反转字符串"
   ]
  },
  {
   "cell_type": "markdown",
   "metadata": {},
   "source": [
    "## 344.Reverse String"
   ]
  },
  {
   "cell_type": "markdown",
   "metadata": {},
   "source": [
    "Write a function that reverses a string. The input string is given as an array of characters s.\n",
    "\n",
    "You must do this by modifying the input array in-place with O(1) extra memory.\n",
    "\n",
    " \n",
    "\n",
    "Example 1:\n",
    "\n",
    "Input: s = [\"h\",\"e\",\"l\",\"l\",\"o\"]\n",
    "Output: [\"o\",\"l\",\"l\",\"e\",\"h\"]  \n",
    "    \n",
    "Example 2:\n",
    "\n",
    "Input: s = [\"H\",\"a\",\"n\",\"n\",\"a\",\"h\"]\n",
    "Output: [\"h\",\"a\",\"n\",\"n\",\"a\",\"H\"]"
   ]
  },
  {
   "cell_type": "code",
   "execution_count": 3,
   "metadata": {},
   "outputs": [],
   "source": [
    "class Solution:\n",
    "    def reverseString(self, s) -> None:\n",
    "        \"\"\"\n",
    "        Do not return anything, modify s in-place instead.\n",
    "        \"\"\"\n",
    "        left = 0\n",
    "        right = len(s) - 1\n",
    "        while left < right:\n",
    "            #写在一行是同时执行\n",
    "            s[left], s[right] = s[right], s[left]\n",
    "            left += 1\n",
    "            right -= 1"
   ]
  },
  {
   "cell_type": "markdown",
   "metadata": {},
   "source": [
    "## 541. Reverse String II"
   ]
  },
  {
   "cell_type": "markdown",
   "metadata": {},
   "source": [
    "Given a string s and an integer k, reverse the first k characters for every 2k characters counting from the start of the string.\n",
    "\n",
    "If there are fewer than k characters left, reverse all of them. If there are less than 2k but greater than or equal to k characters, then reverse the first k characters and leave the other as original.\n",
    "\n",
    " \n",
    "\n",
    "Example 1:\n",
    "\n",
    "Input: s = \"abcdefg\", k = 2\n",
    "Output: \"bacdfeg\"  \n",
    "    \n",
    "Example 2:\n",
    "\n",
    "Input: s = \"abcd\", k = 2\n",
    "Output: \"bacd\""
   ]
  },
  {
   "cell_type": "markdown",
   "metadata": {},
   "source": [
    "给定一个字符串 s 和一个整数 k，你需要对从字符串开头算起的每隔 2k 个字符的前 k 个字符进行反转。\n",
    "\n",
    "如果剩余字符少于 k 个，则将剩余字符全部反转。\n",
    "\n",
    "如果剩余字符小于 2k 但大于或等于 k 个，则反转前 k 个字符，其余字符保持原样。"
   ]
  },
  {
   "cell_type": "code",
   "execution_count": 6,
   "metadata": {},
   "outputs": [],
   "source": [
    "# 法一\n",
    "class Solution:\n",
    "    def reverseStr(self, s: str, k: int) -> str:\n",
    "        res = ''\n",
    "        pos = 0\n",
    "        while pos < len(s):\n",
    "            nx = s[pos : pos + k]\n",
    "            #[::-1] 顺序相反操作\n",
    "            res = res + nx[::-1] + s[pos + k : pos + k * 2]\n",
    "            pos += k * 2\n",
    "        return res    "
   ]
  },
  {
   "cell_type": "markdown",
   "metadata": {},
   "source": [
    "# 替换空格"
   ]
  },
  {
   "cell_type": "markdown",
   "metadata": {},
   "source": [
    "剑指 Offer 05. 替换空格\n",
    "请实现一个函数，把字符串 s 中的每个空格替换成\"%20\"。\n",
    "\n",
    " \n",
    "\n",
    "示例 1：\n",
    "\n",
    "输入：s = \"We are happy.\"\n",
    "输出：\"We%20are%20happy.\""
   ]
  },
  {
   "cell_type": "code",
   "execution_count": 10,
   "metadata": {},
   "outputs": [],
   "source": [
    "#法一：O(n)复杂度，占用额外内存\n",
    "class Solution:\n",
    "    def replaceSpace(self, s: str) -> str:\n",
    "        ans = []\n",
    "        for i in s:\n",
    "            if i == \" \":\n",
    "                ans.append(\"%20\")\n",
    "            else:\n",
    "                ans.append(i)\n",
    "        return ''.join(ans)"
   ]
  },
  {
   "cell_type": "code",
   "execution_count": 11,
   "metadata": {},
   "outputs": [
    {
     "data": {
      "text/plain": [
       "'We%20are%20happy.'"
      ]
     },
     "execution_count": 11,
     "metadata": {},
     "output_type": "execute_result"
    }
   ],
   "source": [
    "m=Solution()\n",
    "m.replaceSpace(\"We are happy.\")"
   ]
  },
  {
   "cell_type": "markdown",
   "metadata": {},
   "source": [
    "#法二：节约内存   \n",
    "1. 先统计空格，每有一个则拓展两个空格，因为%20占用3个位置   \n",
    "2. 左指针，右指针分别等于原始字符串的末尾，拓展后的末尾，当左没有到头时持续往左   \n",
    "3. 如果不是空格，直接替换。是空格，替换为%20，右边指针分别向左移动1和3个位置   \n",
    "https://leetcode-cn.com/problems/ti-huan-kong-ge-lcof/solution/python-shuang-zhi-zhen-dao-xu-ti-huan-yo-jdm3/"
   ]
  },
  {
   "cell_type": "code",
   "execution_count": 15,
   "metadata": {},
   "outputs": [],
   "source": [
    "#法二：节约内存，在原本的string上改\n",
    "class Solution:\n",
    "    def replaceSpace(self, s: str) -> str:\n",
    "        space = s.count(' ')\n",
    "        #每遇到一个空格就拓展两个格子\n",
    "        res = list(s)\n",
    "        res.extend([' '] * space * 2)\n",
    "        \n",
    "        #left, right分别表示原始字符串末尾和拓展后字符串的末尾\n",
    "        left, right = len(s) - 1, len(res) - 1\n",
    "        \n",
    "        while left >= 0:\n",
    "            if res[left] != ' ':\n",
    "                res[right] = res[left]\n",
    "                right -= 1\n",
    "            else:\n",
    "                #左闭右开\n",
    "                res[right - 2: right + 1] = '%20'\n",
    "                right -= 3\n",
    "                \n",
    "            left -= 1\n",
    "        return ''.join(res)"
   ]
  },
  {
   "cell_type": "code",
   "execution_count": 16,
   "metadata": {},
   "outputs": [
    {
     "data": {
      "text/plain": [
       "'We%20are%20happy.'"
      ]
     },
     "execution_count": 16,
     "metadata": {},
     "output_type": "execute_result"
    }
   ],
   "source": [
    "m=Solution()\n",
    "m.replaceSpace(\"We are happy.\")"
   ]
  },
  {
   "cell_type": "markdown",
   "metadata": {},
   "source": [
    "# 翻转字符串里的单词"
   ]
  },
  {
   "cell_type": "markdown",
   "metadata": {},
   "source": [
    "## 151. Reverse Words in a String"
   ]
  },
  {
   "cell_type": "markdown",
   "metadata": {},
   "source": [
    "Given an input string s, reverse the order of the words.\n",
    "\n",
    "A word is defined as a sequence of non-space characters. The words in s will be separated by at least one space.\n",
    "\n",
    "Return a string of the words in reverse order concatenated by a single space.\n",
    "\n",
    "Note that s may contain leading or trailing spaces or multiple spaces between two words. The returned string should only have a single space separating the words. Do not include any extra spaces.\n",
    "\n",
    " \n",
    "\n",
    "Example 1:\n",
    "\n",
    "Input: s = \"the sky is blue\"\n",
    "Output: \"blue is sky the\"\n",
    "Example 2:\n",
    "\n",
    "Input: s = \"  hello world  \"\n",
    "Output: \"world hello\"\n",
    "Explanation: Your reversed string should not contain leading or trailing spaces.\n",
    "Example 3:\n",
    "\n",
    "Input: s = \"a good   example\"\n",
    "Output: \"example good a\"\n",
    "Explanation: You need to reduce multiple spaces between two words to a single space in the reversed string."
   ]
  },
  {
   "cell_type": "code",
   "execution_count": 18,
   "metadata": {},
   "outputs": [],
   "source": [
    "class Solution:\n",
    "    def reverseWords(self, s: str) -> str:\n",
    "        return ' '.join(s.split()[::-1])"
   ]
  },
  {
   "cell_type": "code",
   "execution_count": 62,
   "metadata": {},
   "outputs": [],
   "source": [
    "#空间复杂度O(1)\n",
    "class Solution:\n",
    "    def reverseWords(self, s: str) -> str:\n",
    "        res = []\n",
    "        i = len(s) - 1\n",
    "        m = len(s) - 1\n",
    "        \n",
    "        while i >= 0:\n",
    "            while s[i] == ' ':\n",
    "                i -= 1\n",
    "            m = i\n",
    "            \n",
    "            #防止把s开头的空格部分加入res中\n",
    "            if i < 0:\n",
    "                break\n",
    "                \n",
    "            #这里需要保证i不等于-1，因为s[-1]有意义，表示最后一个！\n",
    "            while i >= 0 and s[i] != ' ':\n",
    "                i -= 1\n",
    "            res.append(s[i + 1 : m + 1])\n",
    "            \n",
    "        return ' '.join(res)        "
   ]
  },
  {
   "cell_type": "code",
   "execution_count": 63,
   "metadata": {},
   "outputs": [
    {
     "data": {
      "text/plain": [
       "'world hello'"
      ]
     },
     "execution_count": 63,
     "metadata": {},
     "output_type": "execute_result"
    }
   ],
   "source": [
    "m=Solution()\n",
    "m.reverseWords(\"  hello world \")"
   ]
  },
  {
   "cell_type": "markdown",
   "metadata": {},
   "source": [
    "# 左旋转字符串"
   ]
  },
  {
   "cell_type": "markdown",
   "metadata": {},
   "source": [
    "## 剑指Offer58-II.左旋转字符串"
   ]
  },
  {
   "cell_type": "markdown",
   "metadata": {},
   "source": [
    "字符串的左旋转操作是把字符串前面的若干个字符转移到字符串的尾部。请定义一个函数实现字符串左旋转操作的功能。比如，输入字符串\"abcdefg\"和数字2，该函数将返回左旋转两位得到的结果\"cdefgab\"。\n",
    "\n",
    " \n",
    "\n",
    "示例 1：\n",
    "\n",
    "输入: s = \"abcdefg\", k = 2\n",
    "输出: \"cdefgab\"\n",
    "示例 2：\n",
    "\n",
    "输入: s = \"lrloseumgh\", k = 6\n",
    "输出: \"umghlrlose\"\n",
    "\n",
    "来源：力扣（LeetCode）\n",
    "链接：https://leetcode-cn.com/problems/zuo-xuan-zhuan-zi-fu-chuan-lcof\n",
    "著作权归领扣网络所有。商业转载请联系官方授权，非商业转载请注明出处。"
   ]
  },
  {
   "cell_type": "code",
   "execution_count": 71,
   "metadata": {},
   "outputs": [],
   "source": [
    "class Solution:\n",
    "    def reverseLeftWords(self, s: str, n: int) -> str:\n",
    "        return s[n:] + s[:n]"
   ]
  },
  {
   "cell_type": "code",
   "execution_count": 72,
   "metadata": {},
   "outputs": [
    {
     "data": {
      "text/plain": [
       "'cdefgab'"
      ]
     },
     "execution_count": 72,
     "metadata": {},
     "output_type": "execute_result"
    }
   ],
   "source": [
    "m=Solution()\n",
    "m.reverseLeftWords(\"abcdefg\",2)"
   ]
  },
  {
   "cell_type": "markdown",
   "metadata": {},
   "source": [
    "# 字符串匹配"
   ]
  },
  {
   "cell_type": "markdown",
   "metadata": {},
   "source": [
    "## 28. Implement strStr()实现 strStr()"
   ]
  },
  {
   "cell_type": "markdown",
   "metadata": {},
   "source": [
    "Given two strings needle and haystack, return the index of the first occurrence of needle in haystack, or -1 if needle is not part of haystack.\n",
    "\n",
    "Clarification:\n",
    "\n",
    "What should we return when needle is an empty string? This is a great question to ask during an interview.\n",
    "\n",
    "For the purpose of this problem, we will return 0 when needle is an empty string. This is consistent to C's strstr() and Java's indexOf().\n",
    "\n",
    " \n",
    "\n",
    "Example 1:\n",
    "\n",
    "Input: haystack = \"hello\", needle = \"ll\"\n",
    "Output: 2\n",
    "Example 2:\n",
    "\n",
    "Input: haystack = \"aaaaa\", needle = \"bba\"\n",
    "Output: -1"
   ]
  },
  {
   "cell_type": "code",
   "execution_count": 73,
   "metadata": {},
   "outputs": [],
   "source": [
    "#KMP\n",
    "class Solution:\n",
    "    def strStr(self, haystack: str, needle: str) -> int:\n",
    "        \n",
    "        #求前缀表\n",
    "        def getNext(needle):\n",
    "            #初始化\n",
    "            j = 0\n",
    "            n = ['' for i in range(len(needle))]\n",
    "            n[0] = 0\n",
    "            \n",
    "            for i in range(1, len(needle)):\n",
    "                while i > 0 and needle[i] != needle[j]:\n",
    "                    j = next[j - 1]\n",
    "                    \n",
    "                if needle[i] == needle[j]:\n",
    "                    j += 1\n",
    "                    \n",
    "                n[i] = j\n",
    "            return n\n",
    "        "
   ]
  },
  {
   "cell_type": "code",
   "execution_count": 77,
   "metadata": {},
   "outputs": [],
   "source": [
    "class Solution:\n",
    "    def strStr(self, haystack: str, needle: str) -> int:\n",
    "        a, b = len(haystack), len(needle)\n",
    "        for i in range(a - b + 1):\n",
    "            if haystack[i: i + b] == needle:\n",
    "                return i\n",
    "        return -1"
   ]
  },
  {
   "cell_type": "code",
   "execution_count": 78,
   "metadata": {},
   "outputs": [
    {
     "data": {
      "text/plain": [
       "2"
      ]
     },
     "execution_count": 78,
     "metadata": {},
     "output_type": "execute_result"
    }
   ],
   "source": [
    "m=Solution()\n",
    "m.strStr(\"hello\",\"ll\")"
   ]
  },
  {
   "cell_type": "markdown",
   "metadata": {},
   "source": [
    "# 重复的子字符串"
   ]
  },
  {
   "cell_type": "markdown",
   "metadata": {},
   "source": [
    "## 459.Repeated Substring Pattern重复的子字符串"
   ]
  },
  {
   "cell_type": "markdown",
   "metadata": {},
   "source": [
    "Given a string s, check if it can be constructed by taking a substring of it and appending multiple copies of the substring together.\n",
    "\n",
    " \n",
    "\n",
    "Example 1:\n",
    "\n",
    "Input: s = \"abab\"\n",
    "Output: true\n",
    "Explanation: It is the substring \"ab\" twice.   \n",
    "Example 2:\n",
    "\n",
    "Input: s = \"aba\"\n",
    "Output: false   \n",
    "Example 3:\n",
    "\n",
    "Input: s = \"abcabcabcabc\"\n",
    "Output: true\n",
    "Explanation: It is the substring \"abc\" four times or the substring \"abcabc\" twice."
   ]
  },
  {
   "cell_type": "code",
   "execution_count": 79,
   "metadata": {},
   "outputs": [],
   "source": [
    "class Solution:\n",
    "    def repeatedSubstringPattern(self, s: str) -> bool:\n",
    "        return s in s[1:] + s[:-1]"
   ]
  },
  {
   "cell_type": "code",
   "execution_count": 83,
   "metadata": {},
   "outputs": [],
   "source": [
    "class Solution:\n",
    "    def repeatedSubstringPattern(self, s: str) -> bool:\n",
    "        for i in range(1, len(s) // 2 + 1):\n",
    "            #取余：%\n",
    "            if len(s) % i == 0:\n",
    "                if s[0:i] * (len(s)//i) == s:\n",
    "                    return True\n",
    "        return False"
   ]
  },
  {
   "cell_type": "code",
   "execution_count": 84,
   "metadata": {},
   "outputs": [
    {
     "data": {
      "text/plain": [
       "True"
      ]
     },
     "execution_count": 84,
     "metadata": {},
     "output_type": "execute_result"
    }
   ],
   "source": [
    "m=Solution()\n",
    "m.repeatedSubstringPattern(\"abcabcabc\")"
   ]
  },
  {
   "cell_type": "code",
   "execution_count": null,
   "metadata": {},
   "outputs": [],
   "source": []
  }
 ],
 "metadata": {
  "kernelspec": {
   "display_name": "Python 3",
   "language": "python",
   "name": "python3"
  },
  "language_info": {
   "codemirror_mode": {
    "name": "ipython",
    "version": 3
   },
   "file_extension": ".py",
   "mimetype": "text/x-python",
   "name": "python",
   "nbconvert_exporter": "python",
   "pygments_lexer": "ipython3",
   "version": "3.7.0"
  },
  "toc": {
   "base_numbering": 1,
   "nav_menu": {},
   "number_sections": true,
   "sideBar": true,
   "skip_h1_title": false,
   "title_cell": "Table of Contents",
   "title_sidebar": "Contents",
   "toc_cell": false,
   "toc_position": {
    "height": "calc(100% - 180px)",
    "left": "10px",
    "top": "150px",
    "width": "165px"
   },
   "toc_section_display": true,
   "toc_window_display": true
  }
 },
 "nbformat": 4,
 "nbformat_minor": 2
}
